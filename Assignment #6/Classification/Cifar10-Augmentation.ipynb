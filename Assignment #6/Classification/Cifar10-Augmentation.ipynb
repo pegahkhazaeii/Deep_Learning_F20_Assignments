{
 "cells": [
  {
   "cell_type": "code",
   "execution_count": 2,
   "metadata": {
    "id": "oMDNAAeBmyE-"
   },
   "outputs": [],
   "source": [
    "import keras\n",
    "from keras.datasets import cifar10\n",
    "from keras.preprocessing.image import ImageDataGenerator\n",
    "from keras.models import Sequential\n",
    "from keras.layers import Dense, Dropout, Activation, Flatten\n",
    "from keras.layers import Conv2D, MaxPooling2D\n",
    "import tensorflow as tf"
   ]
  },
  {
   "cell_type": "code",
   "execution_count": 3,
   "metadata": {
    "colab": {
     "base_uri": "https://localhost:8080/"
    },
    "id": "ScccJOnbm7mE",
    "outputId": "740e1d4f-ca95-4046-a709-045d4dbded96"
   },
   "outputs": [
    {
     "name": "stdout",
     "output_type": "stream",
     "text": [
      "Downloading data from https://www.cs.toronto.edu/~kriz/cifar-10-python.tar.gz\n",
      "170500096/170498071 [==============================] - 6s 0us/step\n",
      "x_train shape: (50000, 32, 32, 3)\n",
      "y_train shape: (50000, 1)\n",
      "50000 train samples\n",
      "10000 test samples\n"
     ]
    }
   ],
   "source": [
    "(x_train, y_train), (x_test, y_test) = cifar10.load_data()\n",
    "print('x_train shape:', x_train.shape)\n",
    "print('y_train shape:', y_train.shape)\n",
    "print(x_train.shape[0], 'train samples')\n",
    "print(x_test.shape[0], 'test samples')"
   ]
  },
  {
   "cell_type": "code",
   "execution_count": 4,
   "metadata": {
    "id": "SJImFuM6nADh"
   },
   "outputs": [],
   "source": [
    "x_train = x_train.astype('float32')\n",
    "x_test = x_test.astype('float32')\n",
    "\n",
    "# One hot encoding.\n",
    "y_train = keras.utils.to_categorical(y_train, 10)\n",
    "y_test = keras.utils.to_categorical(y_test, 10)"
   ]
  },
  {
   "cell_type": "code",
   "execution_count": 5,
   "metadata": {
    "id": "RSQxhB3mnAQo"
   },
   "outputs": [],
   "source": [
    "x_train = x_train.astype('float32') / 256\n",
    "x_test = x_test.astype('float32') / 256"
   ]
  },
  {
   "cell_type": "markdown",
   "metadata": {
    "id": "O0aMYxi7xsTg"
   },
   "source": [
    "# Without Data Augmentation"
   ]
  },
  {
   "cell_type": "markdown",
   "metadata": {
    "id": "HVrHfhlB563s"
   },
   "source": []
  },
  {
   "cell_type": "markdown",
   "metadata": {
    "id": "Qr_yciAr56xq"
   },
   "source": []
  },
  {
   "cell_type": "code",
   "execution_count": 6,
   "metadata": {
    "id": "uypqPCI7nAVX"
   },
   "outputs": [],
   "source": [
    "def generate_model():\n",
    "    return tf.keras.models.Sequential([\n",
    "    tf.keras.layers.Conv2D(32, (3, 3), padding='same', input_shape=x_train.shape[1:]),\n",
    "    tf.keras.layers.Activation('relu'),\n",
    "    tf.keras.layers.Conv2D(32, (3, 3)),\n",
    "    tf.keras.layers.Activation('relu'),\n",
    "    tf.keras.layers.MaxPooling2D(pool_size=(2, 2)),\n",
    "    tf.keras.layers.Dropout(0.25),\n",
    "\n",
    "    tf.keras.layers.Conv2D(64, (3, 3), padding='same'),\n",
    "    tf.keras.layers.Activation('relu'),\n",
    "    tf.keras.layers.Conv2D(64, (3, 3)),\n",
    "    tf.keras.layers.Activation('relu'),\n",
    "    tf.keras.layers.MaxPooling2D(pool_size=(2, 2)),\n",
    "    tf.keras.layers.Dropout(0.25),\n",
    "\n",
    "    tf.keras.layers.Flatten(),\n",
    "    tf.keras.layers.Dense(512),\n",
    "    tf.keras.layers.Activation('relu'),\n",
    "    tf.keras.layers.Dropout(0.5),\n",
    "    tf.keras.layers.Dense(10),\n",
    "    tf.keras.layers.Activation('softmax')\n",
    "  ])\n",
    "\n",
    "model = generate_model()"
   ]
  },
  {
   "cell_type": "code",
   "execution_count": 12,
   "metadata": {
    "colab": {
     "base_uri": "https://localhost:8080/"
    },
    "id": "8UenquQMnAOC",
    "outputId": "647ff3e9-9d1f-4e9f-f24c-33dd2f115179"
   },
   "outputs": [
    {
     "name": "stdout",
     "output_type": "stream",
     "text": [
      "Epoch 1/40\n",
      "782/782 [==============================] - 11s 13ms/step - loss: 0.6466 - accuracy: 0.7795\n",
      "Epoch 2/40\n",
      "782/782 [==============================] - 10s 13ms/step - loss: 0.6430 - accuracy: 0.7805\n",
      "Epoch 3/40\n",
      "782/782 [==============================] - 10s 13ms/step - loss: 0.6406 - accuracy: 0.7834\n",
      "Epoch 4/40\n",
      "782/782 [==============================] - 10s 13ms/step - loss: 0.6304 - accuracy: 0.7841\n",
      "Epoch 5/40\n",
      "782/782 [==============================] - 11s 14ms/step - loss: 0.6250 - accuracy: 0.7879\n",
      "Epoch 6/40\n",
      "782/782 [==============================] - 10s 13ms/step - loss: 0.6210 - accuracy: 0.7892\n",
      "Epoch 7/40\n",
      "782/782 [==============================] - 11s 13ms/step - loss: 0.6185 - accuracy: 0.7898\n",
      "Epoch 8/40\n",
      "782/782 [==============================] - 10s 13ms/step - loss: 0.6163 - accuracy: 0.7932\n",
      "Epoch 9/40\n",
      "782/782 [==============================] - 10s 13ms/step - loss: 0.6135 - accuracy: 0.7919\n",
      "Epoch 10/40\n",
      "782/782 [==============================] - 10s 13ms/step - loss: 0.6116 - accuracy: 0.7934\n",
      "Epoch 11/40\n",
      "782/782 [==============================] - 10s 13ms/step - loss: 0.6058 - accuracy: 0.7932\n",
      "Epoch 12/40\n",
      "782/782 [==============================] - 10s 13ms/step - loss: 0.6043 - accuracy: 0.7984\n",
      "Epoch 13/40\n",
      "782/782 [==============================] - 10s 13ms/step - loss: 0.6007 - accuracy: 0.7984\n",
      "Epoch 14/40\n",
      "782/782 [==============================] - 10s 13ms/step - loss: 0.5978 - accuracy: 0.7985\n",
      "Epoch 15/40\n",
      "782/782 [==============================] - 10s 13ms/step - loss: 0.5882 - accuracy: 0.8021\n",
      "Epoch 16/40\n",
      "782/782 [==============================] - 10s 13ms/step - loss: 0.5869 - accuracy: 0.8037\n",
      "Epoch 17/40\n",
      "782/782 [==============================] - 10s 13ms/step - loss: 0.5855 - accuracy: 0.8032\n",
      "Epoch 18/40\n",
      "782/782 [==============================] - 10s 13ms/step - loss: 0.5799 - accuracy: 0.8054\n",
      "Epoch 19/40\n",
      "782/782 [==============================] - 10s 13ms/step - loss: 0.5827 - accuracy: 0.8055\n",
      "Epoch 20/40\n",
      "782/782 [==============================] - 10s 13ms/step - loss: 0.5772 - accuracy: 0.8056\n",
      "Epoch 21/40\n",
      "782/782 [==============================] - 10s 13ms/step - loss: 0.5766 - accuracy: 0.8072\n",
      "Epoch 22/40\n",
      "782/782 [==============================] - 10s 13ms/step - loss: 0.5753 - accuracy: 0.8082\n",
      "Epoch 23/40\n",
      "782/782 [==============================] - 10s 13ms/step - loss: 0.5732 - accuracy: 0.8088\n",
      "Epoch 24/40\n",
      "782/782 [==============================] - 10s 13ms/step - loss: 0.5704 - accuracy: 0.8093\n",
      "Epoch 25/40\n",
      "782/782 [==============================] - 10s 13ms/step - loss: 0.5643 - accuracy: 0.8102\n",
      "Epoch 26/40\n",
      "782/782 [==============================] - 10s 13ms/step - loss: 0.5628 - accuracy: 0.8133\n",
      "Epoch 27/40\n",
      "782/782 [==============================] - 10s 13ms/step - loss: 0.5637 - accuracy: 0.8125\n",
      "Epoch 28/40\n",
      "782/782 [==============================] - 10s 13ms/step - loss: 0.5619 - accuracy: 0.8121\n",
      "Epoch 29/40\n",
      "782/782 [==============================] - 11s 14ms/step - loss: 0.5580 - accuracy: 0.8162\n",
      "Epoch 30/40\n",
      "782/782 [==============================] - 10s 13ms/step - loss: 0.5565 - accuracy: 0.8141\n",
      "Epoch 31/40\n",
      "782/782 [==============================] - 10s 13ms/step - loss: 0.5582 - accuracy: 0.8155\n",
      "Epoch 32/40\n",
      "782/782 [==============================] - 10s 13ms/step - loss: 0.5461 - accuracy: 0.8189\n",
      "Epoch 33/40\n",
      "782/782 [==============================] - 10s 13ms/step - loss: 0.5500 - accuracy: 0.8165\n",
      "Epoch 34/40\n",
      "782/782 [==============================] - 11s 14ms/step - loss: 0.5496 - accuracy: 0.8176\n",
      "Epoch 35/40\n",
      "782/782 [==============================] - 11s 14ms/step - loss: 0.5439 - accuracy: 0.8193\n",
      "Epoch 36/40\n",
      "782/782 [==============================] - 10s 13ms/step - loss: 0.5438 - accuracy: 0.8187\n",
      "Epoch 37/40\n",
      "782/782 [==============================] - 10s 13ms/step - loss: 0.5464 - accuracy: 0.8186\n",
      "Epoch 38/40\n",
      "782/782 [==============================] - 10s 13ms/step - loss: 0.5407 - accuracy: 0.8204\n",
      "Epoch 39/40\n",
      "782/782 [==============================] - 10s 13ms/step - loss: 0.5418 - accuracy: 0.8208\n",
      "Epoch 40/40\n",
      "782/782 [==============================] - 10s 13ms/step - loss: 0.5361 - accuracy: 0.8229\n",
      "157/157 [==============================] - 1s 5ms/step - loss: 0.6152 - accuracy: 0.7945\n",
      "\n",
      "Test accuracy: 79.4%\n"
     ]
    }
   ],
   "source": [
    "batch_size = 64\n",
    "opt = keras.optimizers.RMSprop(learning_rate=0.0001, decay=1e-6)\n",
    "\n",
    "model.compile(loss='categorical_crossentropy',\n",
    "              optimizer=opt,\n",
    "              metrics=['accuracy'])\n",
    "model.fit(x_train, y_train, epochs=40, batch_size=batch_size)\n",
    "\n",
    "\n",
    "# validate the model on test dataset to determine generalization\n",
    "score = model.evaluate(x_test, y_test, batch_size=batch_size)\n",
    "print(\"\\nTest accuracy: %.1f%%\" % (100.0 * score[1]))"
   ]
  },
  {
   "cell_type": "code",
   "execution_count": 13,
   "metadata": {
    "id": "f0bG8-SXoLQ4"
   },
   "outputs": [],
   "source": [
    "class myCallback(tf.keras.callbacks.Callback):\n",
    "    def on_epoch_end(self, epoch, logs={}):\n",
    "        if(logs.get('accuracy')>0.97):\n",
    "            print(\"\\nReached 97% accuracy so cancelling training!\")\n",
    "            self.model.stop_training = True "
   ]
  },
  {
   "cell_type": "markdown",
   "metadata": {
    "id": "HSH6AEWOxRph"
   },
   "source": [
    "# Data Augmenteation"
   ]
  },
  {
   "cell_type": "code",
   "execution_count": 14,
   "metadata": {
    "id": "7EFhRUg_tZ1v"
   },
   "outputs": [],
   "source": [
    "datagen = ImageDataGenerator(\n",
    "            zca_epsilon=1e-06,\n",
    "            rotation_range=10,\n",
    "            width_shift_range=0.1,\n",
    "            height_shift_range=0.1,\n",
    "            zoom_range=0.1,\n",
    "            fill_mode='nearest',\n",
    "            cval=0.,\n",
    "            horizontal_flip=True\n",
    "            )"
   ]
  },
  {
   "cell_type": "code",
   "execution_count": 15,
   "metadata": {
    "id": "nxGS0_IFtZx3"
   },
   "outputs": [],
   "source": [
    "datagen.fit(x_train)"
   ]
  },
  {
   "cell_type": "code",
   "execution_count": 16,
   "metadata": {
    "colab": {
     "base_uri": "https://localhost:8080/"
    },
    "id": "y0CtkX81tZsi",
    "outputId": "e802ea1d-0702-4352-9876-e4cd5c67d39b"
   },
   "outputs": [
    {
     "name": "stdout",
     "output_type": "stream",
     "text": [
      "WARNING:tensorflow:From <ipython-input-16-7e6737546b0d>:8: Model.fit_generator (from tensorflow.python.keras.engine.training) is deprecated and will be removed in a future version.\n",
      "Instructions for updating:\n",
      "Please use Model.fit, which supports generators.\n",
      "Epoch 1/40\n",
      "782/782 [==============================] - 48s 61ms/step - loss: 0.8528 - accuracy: 0.7138 - val_loss: 0.7882 - val_accuracy: 0.7399\n",
      "Epoch 2/40\n",
      "782/782 [==============================] - 49s 63ms/step - loss: 0.8269 - accuracy: 0.7220 - val_loss: 0.7167 - val_accuracy: 0.7611\n",
      "Epoch 3/40\n",
      "782/782 [==============================] - 48s 62ms/step - loss: 0.8332 - accuracy: 0.7224 - val_loss: 0.7456 - val_accuracy: 0.7535\n",
      "Epoch 4/40\n",
      "782/782 [==============================] - 49s 62ms/step - loss: 0.8232 - accuracy: 0.7235 - val_loss: 0.7863 - val_accuracy: 0.7366\n",
      "Epoch 5/40\n",
      "782/782 [==============================] - 48s 62ms/step - loss: 0.8213 - accuracy: 0.7230 - val_loss: 0.7295 - val_accuracy: 0.7517\n",
      "Epoch 6/40\n",
      "782/782 [==============================] - 48s 62ms/step - loss: 0.8068 - accuracy: 0.7286 - val_loss: 0.7492 - val_accuracy: 0.7486\n",
      "Epoch 7/40\n",
      "782/782 [==============================] - 48s 62ms/step - loss: 0.8137 - accuracy: 0.7273 - val_loss: 0.7863 - val_accuracy: 0.7353\n",
      "Epoch 8/40\n",
      "782/782 [==============================] - 49s 62ms/step - loss: 0.8037 - accuracy: 0.7293 - val_loss: 0.6845 - val_accuracy: 0.7730\n",
      "Epoch 9/40\n",
      "782/782 [==============================] - 48s 61ms/step - loss: 0.8049 - accuracy: 0.7302 - val_loss: 0.6837 - val_accuracy: 0.7719\n",
      "Epoch 10/40\n",
      "782/782 [==============================] - 48s 62ms/step - loss: 0.7967 - accuracy: 0.7330 - val_loss: 0.7934 - val_accuracy: 0.7353\n",
      "Epoch 11/40\n",
      "782/782 [==============================] - 49s 62ms/step - loss: 0.7955 - accuracy: 0.7311 - val_loss: 0.7698 - val_accuracy: 0.7454\n",
      "Epoch 12/40\n",
      "782/782 [==============================] - 49s 63ms/step - loss: 0.7924 - accuracy: 0.7337 - val_loss: 0.7593 - val_accuracy: 0.7493\n",
      "Epoch 13/40\n",
      "782/782 [==============================] - 49s 62ms/step - loss: 0.7924 - accuracy: 0.7352 - val_loss: 0.7521 - val_accuracy: 0.7530\n",
      "Epoch 14/40\n",
      "782/782 [==============================] - 51s 66ms/step - loss: 0.7897 - accuracy: 0.7376 - val_loss: 0.7225 - val_accuracy: 0.7579\n",
      "Epoch 15/40\n",
      "782/782 [==============================] - 50s 63ms/step - loss: 0.7805 - accuracy: 0.7353 - val_loss: 0.7473 - val_accuracy: 0.7486\n",
      "Epoch 16/40\n",
      "782/782 [==============================] - 50s 63ms/step - loss: 0.7813 - accuracy: 0.7367 - val_loss: 0.6520 - val_accuracy: 0.7831\n",
      "Epoch 17/40\n",
      "782/782 [==============================] - 49s 63ms/step - loss: 0.7901 - accuracy: 0.7354 - val_loss: 0.7488 - val_accuracy: 0.7470\n",
      "Epoch 18/40\n",
      "782/782 [==============================] - 49s 63ms/step - loss: 0.7769 - accuracy: 0.7366 - val_loss: 0.7344 - val_accuracy: 0.7603\n",
      "Epoch 19/40\n",
      "782/782 [==============================] - 49s 63ms/step - loss: 0.7762 - accuracy: 0.7387 - val_loss: 0.6953 - val_accuracy: 0.7652\n",
      "Epoch 20/40\n",
      "782/782 [==============================] - 49s 63ms/step - loss: 0.7755 - accuracy: 0.7377 - val_loss: 0.6743 - val_accuracy: 0.7709\n",
      "Epoch 21/40\n",
      "782/782 [==============================] - 49s 63ms/step - loss: 0.7731 - accuracy: 0.7400 - val_loss: 0.7583 - val_accuracy: 0.7492\n",
      "Epoch 22/40\n",
      "782/782 [==============================] - 49s 62ms/step - loss: 0.7662 - accuracy: 0.7400 - val_loss: 0.8112 - val_accuracy: 0.7350\n",
      "Epoch 23/40\n",
      "782/782 [==============================] - 49s 63ms/step - loss: 0.7713 - accuracy: 0.7397 - val_loss: 0.6601 - val_accuracy: 0.7784\n",
      "Epoch 24/40\n",
      "782/782 [==============================] - 49s 63ms/step - loss: 0.7727 - accuracy: 0.7391 - val_loss: 0.6889 - val_accuracy: 0.7722\n",
      "Epoch 25/40\n",
      "782/782 [==============================] - 49s 63ms/step - loss: 0.7627 - accuracy: 0.7401 - val_loss: 0.7192 - val_accuracy: 0.7616\n",
      "Epoch 26/40\n",
      "782/782 [==============================] - 49s 62ms/step - loss: 0.7676 - accuracy: 0.7407 - val_loss: 0.7178 - val_accuracy: 0.7632\n",
      "Epoch 27/40\n",
      "782/782 [==============================] - 50s 63ms/step - loss: 0.7565 - accuracy: 0.7448 - val_loss: 0.6992 - val_accuracy: 0.7644\n",
      "Epoch 28/40\n",
      "782/782 [==============================] - 49s 62ms/step - loss: 0.7610 - accuracy: 0.7441 - val_loss: 0.7095 - val_accuracy: 0.7610\n",
      "Epoch 29/40\n",
      "782/782 [==============================] - 49s 62ms/step - loss: 0.7620 - accuracy: 0.7440 - val_loss: 0.6579 - val_accuracy: 0.7816\n",
      "Epoch 30/40\n",
      "782/782 [==============================] - 48s 62ms/step - loss: 0.7548 - accuracy: 0.7449 - val_loss: 0.7638 - val_accuracy: 0.7470\n",
      "Epoch 31/40\n",
      "782/782 [==============================] - 49s 62ms/step - loss: 0.7566 - accuracy: 0.7451 - val_loss: 0.7596 - val_accuracy: 0.7443\n",
      "Epoch 32/40\n",
      "782/782 [==============================] - 48s 61ms/step - loss: 0.7506 - accuracy: 0.7468 - val_loss: 0.7151 - val_accuracy: 0.7634\n",
      "Epoch 33/40\n",
      "782/782 [==============================] - 47s 60ms/step - loss: 0.7555 - accuracy: 0.7465 - val_loss: 0.6927 - val_accuracy: 0.7761\n",
      "Epoch 34/40\n",
      "782/782 [==============================] - 50s 64ms/step - loss: 0.7550 - accuracy: 0.7442 - val_loss: 0.7646 - val_accuracy: 0.7441\n",
      "Epoch 35/40\n",
      "782/782 [==============================] - 48s 61ms/step - loss: 0.7541 - accuracy: 0.7478 - val_loss: 0.6936 - val_accuracy: 0.7692\n",
      "Epoch 36/40\n",
      "782/782 [==============================] - 50s 64ms/step - loss: 0.7532 - accuracy: 0.7457 - val_loss: 0.7627 - val_accuracy: 0.7474\n",
      "Epoch 37/40\n",
      "782/782 [==============================] - 47s 61ms/step - loss: 0.7501 - accuracy: 0.7475 - val_loss: 0.6440 - val_accuracy: 0.7863\n",
      "Epoch 38/40\n",
      "782/782 [==============================] - 51s 65ms/step - loss: 0.7464 - accuracy: 0.7463 - val_loss: 0.6884 - val_accuracy: 0.7647\n",
      "Epoch 39/40\n",
      "782/782 [==============================] - 48s 61ms/step - loss: 0.7478 - accuracy: 0.7474 - val_loss: 0.6782 - val_accuracy: 0.7736\n",
      "Epoch 40/40\n",
      "782/782 [==============================] - 48s 62ms/step - loss: 0.7457 - accuracy: 0.7481 - val_loss: 0.7113 - val_accuracy: 0.7636\n"
     ]
    }
   ],
   "source": [
    "callbacks = myCallback()\n",
    "\n",
    "history = model.fit_generator(datagen.flow(x_train, y_train,\n",
    "                                    batch_size=64),\n",
    "                                    epochs=40,\n",
    "                                    validation_data=(x_test, y_test),\n",
    "                                    callbacks=[callbacks],\n",
    "                                    workers=4)"
   ]
  },
  {
   "cell_type": "code",
   "execution_count": null,
   "metadata": {
    "id": "vJX8Km94xdrm"
   },
   "outputs": [],
   "source": []
  }
 ],
 "metadata": {
  "accelerator": "GPU",
  "colab": {
   "collapsed_sections": [],
   "name": "Untitled5.ipynb",
   "provenance": []
  },
  "kernelspec": {
   "display_name": "Python 3",
   "language": "python",
   "name": "python3"
  },
  "language_info": {
   "codemirror_mode": {
    "name": "ipython",
    "version": 3
   },
   "file_extension": ".py",
   "mimetype": "text/x-python",
   "name": "python",
   "nbconvert_exporter": "python",
   "pygments_lexer": "ipython3",
   "version": "3.7.4"
  },
  "toc": {
   "base_numbering": 1,
   "nav_menu": {},
   "number_sections": false,
   "sideBar": true,
   "skip_h1_title": false,
   "title_cell": "Table of Contents",
   "title_sidebar": "Contents",
   "toc_cell": false,
   "toc_position": {},
   "toc_section_display": true,
   "toc_window_display": true
  }
 },
 "nbformat": 4,
 "nbformat_minor": 1
}
