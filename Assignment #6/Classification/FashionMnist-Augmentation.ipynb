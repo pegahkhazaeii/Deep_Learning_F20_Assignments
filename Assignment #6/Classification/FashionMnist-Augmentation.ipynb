{
  "nbformat": 4,
  "nbformat_minor": 0,
  "metadata": {
    "colab": {
      "name": "FashionMnist-Augmentation.ipynb",
      "provenance": []
    },
    "kernelspec": {
      "name": "python3",
      "display_name": "Python 3"
    },
    "accelerator": "GPU"
  },
  "cells": [
    {
      "cell_type": "code",
      "metadata": {
        "id": "SWgzqG2W5zIx"
      },
      "source": [
        "from google.colab import drive\n",
        "import pandas as pd"
      ],
      "execution_count": 58,
      "outputs": []
    },
    {
      "cell_type": "code",
      "metadata": {
        "id": "P8Mk8-YtKA23",
        "outputId": "861595c6-0f63-4f71-f3f8-d4819722c76f",
        "colab": {
          "base_uri": "https://localhost:8080/"
        }
      },
      "source": [
        "drive.mount('/content/drive')"
      ],
      "execution_count": 59,
      "outputs": [
        {
          "output_type": "stream",
          "text": [
            "Drive already mounted at /content/drive; to attempt to forcibly remount, call drive.mount(\"/content/drive\", force_remount=True).\n"
          ],
          "name": "stdout"
        }
      ]
    },
    {
      "cell_type": "code",
      "metadata": {
        "id": "q9bHPuTE76wI"
      },
      "source": [
        "train_data = pd.read_csv(\"/content/drive/My Drive/Deep Learning/fashion-mnist_train.csv\")\n",
        "test_data = pd.read_csv(\"/content/drive/My Drive/Deep Learning/fashion-mnist_test.csv\")"
      ],
      "execution_count": 60,
      "outputs": []
    },
    {
      "cell_type": "code",
      "metadata": {
        "id": "qeC7pKu2Lj3z"
      },
      "source": [
        "y = train_data['label']\n",
        "X = train_data.drop(['label'],axis=1)"
      ],
      "execution_count": 61,
      "outputs": []
    },
    {
      "cell_type": "code",
      "metadata": {
        "id": "WHh4ZvA2LsnM"
      },
      "source": [
        "X_test = test_data.drop(['label'],axis=1)\n",
        "y_test = test_data['label']"
      ],
      "execution_count": 62,
      "outputs": []
    },
    {
      "cell_type": "code",
      "metadata": {
        "id": "qc7piCVtMwm4"
      },
      "source": [
        "del train_data"
      ],
      "execution_count": 63,
      "outputs": []
    },
    {
      "cell_type": "code",
      "metadata": {
        "id": "FqDtbtAyOZDg"
      },
      "source": [
        "del test_data"
      ],
      "execution_count": 64,
      "outputs": []
    },
    {
      "cell_type": "code",
      "metadata": {
        "id": "TIOREg0QAPN9"
      },
      "source": [
        "X = X.values.reshape(-1,28,28,1)"
      ],
      "execution_count": 65,
      "outputs": []
    },
    {
      "cell_type": "code",
      "metadata": {
        "id": "Ci2Mx-HEAQp6"
      },
      "source": [
        "X_test = X_test.values.reshape(-1,28,28,1)"
      ],
      "execution_count": 66,
      "outputs": []
    },
    {
      "cell_type": "code",
      "metadata": {
        "id": "7X12JV0P_kF2"
      },
      "source": [
        "X = X / 255\n",
        "X_test = X_test / 255"
      ],
      "execution_count": 67,
      "outputs": []
    },
    {
      "cell_type": "code",
      "metadata": {
        "id": "SJXvMPbg_mAG"
      },
      "source": [
        "import warnings\n",
        "warnings.filterwarnings('ignore')"
      ],
      "execution_count": 68,
      "outputs": []
    },
    {
      "cell_type": "code",
      "metadata": {
        "id": "P3WM9IJz9lp3"
      },
      "source": [
        "from keras.models import Sequential\n",
        "from keras.layers import Conv2D, Dense, Dropout, BatchNormalization, Flatten, MaxPool2D\n",
        "from keras.utils.np_utils import to_categorical"
      ],
      "execution_count": 69,
      "outputs": []
    },
    {
      "cell_type": "code",
      "metadata": {
        "id": "kLp_5yXu_tEO"
      },
      "source": [
        "y = to_categorical(y,num_classes=10)"
      ],
      "execution_count": 70,
      "outputs": []
    },
    {
      "cell_type": "code",
      "metadata": {
        "id": "jk67NM8Ee-K0"
      },
      "source": [
        "from keras.callbacks import ModelCheckpoint\n",
        "checkpoint = ModelCheckpoint('BWeight.md5',monitor='val_loss',\n",
        "                            save_best_only=True)"
      ],
      "execution_count": 71,
      "outputs": []
    },
    {
      "cell_type": "code",
      "metadata": {
        "id": "QMmhdFKZe-NW"
      },
      "source": [
        "model = Sequential()\n",
        "model.add(Conv2D(filters = 32, kernel_size = (3,3),padding = 'Same', \n",
        "                 activation ='relu', input_shape = (28,28,1)))\n",
        "model.add(Conv2D(filters = 32, kernel_size = (3,3),padding = 'Same', \n",
        "                 activation ='relu'))\n",
        "model.add(MaxPool2D(pool_size=(2,2)))\n",
        "model.add(Dropout(0.25))\n",
        "model.add(Conv2D(filters = 64, kernel_size = (3,3),padding = 'Same', \n",
        "                 activation ='relu'))\n",
        "model.add(Conv2D(filters = 64, kernel_size = (3,3),padding = 'Same', \n",
        "                 activation ='relu'))\n",
        "model.add(MaxPool2D(pool_size=(2,2)))\n",
        "model.add(Dropout(0.25))\n",
        "model.add(Flatten())\n",
        "model.add(Dense(128, activation = 'relu'))\n",
        "model.add(Dropout(0.5))\n",
        "model.add(Dense(10,activation='softmax'))"
      ],
      "execution_count": 72,
      "outputs": []
    },
    {
      "cell_type": "code",
      "metadata": {
        "id": "7Tzrnv5Ee-Qu"
      },
      "source": [
        "from keras import optimizers\n",
        "sgd = optimizers.SGD(lr=0.001, decay=1e-8, momentum=0.9, nesterov=True)"
      ],
      "execution_count": 73,
      "outputs": []
    },
    {
      "cell_type": "code",
      "metadata": {
        "id": "NJGaY-Dsf-C6"
      },
      "source": [
        "model.compile(optimizer=sgd,loss = 'categorical_crossentropy', metrics=['accuracy'])"
      ],
      "execution_count": 74,
      "outputs": []
    },
    {
      "cell_type": "code",
      "metadata": {
        "id": "L_Fph7uIgRiN"
      },
      "source": [
        "from keras.preprocessing.image import ImageDataGenerator"
      ],
      "execution_count": 75,
      "outputs": []
    },
    {
      "cell_type": "code",
      "metadata": {
        "id": "bHuAm3Z0gdHp"
      },
      "source": [
        "datagen = ImageDataGenerator(\n",
        "        featurewise_center=False,\n",
        "        samplewise_center=False,\n",
        "        featurewise_std_normalization=False,\n",
        "        samplewise_std_normalization=False,\n",
        "        zca_whitening=False,\n",
        "        zoom_range = 0.2,\n",
        "        width_shift_range=0.3,\n",
        "        height_shift_range=0.3,\n",
        "        horizontal_flip=True,\n",
        "        vertical_flip=False)"
      ],
      "execution_count": 76,
      "outputs": []
    },
    {
      "cell_type": "code",
      "metadata": {
        "id": "WV4q6eKGgzc7"
      },
      "source": [
        "datagen.fit(X)\n",
        "\n"
      ],
      "execution_count": 77,
      "outputs": []
    },
    {
      "cell_type": "code",
      "metadata": {
        "id": "fjQQYBsIhElv"
      },
      "source": [
        "from sklearn.model_selection import train_test_split"
      ],
      "execution_count": 78,
      "outputs": []
    },
    {
      "cell_type": "code",
      "metadata": {
        "id": "vDceEZI-hNDW"
      },
      "source": [
        "X_train, X_val, y_train, y_val = train_test_split(\n",
        "...     X, y, test_size=0.1)"
      ],
      "execution_count": 79,
      "outputs": []
    },
    {
      "cell_type": "code",
      "metadata": {
        "id": "fhPIKgzZhgLW"
      },
      "source": [
        "size_batch = 28"
      ],
      "execution_count": 80,
      "outputs": []
    },
    {
      "cell_type": "code",
      "metadata": {
        "id": "ynQ8K-Kj-jB2",
        "outputId": "c427c2da-74a6-4798-dc0d-65d2cf28990a",
        "colab": {
          "base_uri": "https://localhost:8080/"
        }
      },
      "source": [
        "history = model.fit_generator(datagen.flow(X_train,y_train, batch_size=size_batch),\n",
        "                              epochs = 10,\n",
        "                              validation_data = (X_val,y_val),\n",
        "                              verbose = 2,\n",
        "                              steps_per_epoch = X_train.shape[0] // size_batch,\n",
        "                              callbacks=[checkpoint],\n",
        "                             use_multiprocessing=True)"
      ],
      "execution_count": 81,
      "outputs": [
        {
          "output_type": "stream",
          "text": [
            "Epoch 1/10\n",
            "WARNING:tensorflow:multiprocessing can interact badly with TensorFlow, causing nondeterministic deadlocks. For high performance data pipelines tf.data is recommended.\n",
            "WARNING:tensorflow:From /usr/local/lib/python3.6/dist-packages/tensorflow/python/training/tracking/tracking.py:111: Model.state_updates (from tensorflow.python.keras.engine.training) is deprecated and will be removed in a future version.\n",
            "Instructions for updating:\n",
            "This property should not be used in TensorFlow 2.0, as updates are applied automatically.\n",
            "WARNING:tensorflow:From /usr/local/lib/python3.6/dist-packages/tensorflow/python/training/tracking/tracking.py:111: Layer.updates (from tensorflow.python.keras.engine.base_layer) is deprecated and will be removed in a future version.\n",
            "Instructions for updating:\n",
            "This property should not be used in TensorFlow 2.0, as updates are applied automatically.\n",
            "INFO:tensorflow:Assets written to: BWeight.md5/assets\n",
            "1928/1928 - 18s - loss: 1.8217 - accuracy: 0.3049 - val_loss: 1.1904 - val_accuracy: 0.6073\n",
            "Epoch 2/10\n",
            "WARNING:tensorflow:multiprocessing can interact badly with TensorFlow, causing nondeterministic deadlocks. For high performance data pipelines tf.data is recommended.\n",
            "INFO:tensorflow:Assets written to: BWeight.md5/assets\n",
            "1928/1928 - 18s - loss: 1.3338 - accuracy: 0.4933 - val_loss: 0.8432 - val_accuracy: 0.6758\n",
            "Epoch 3/10\n",
            "WARNING:tensorflow:multiprocessing can interact badly with TensorFlow, causing nondeterministic deadlocks. For high performance data pipelines tf.data is recommended.\n",
            "INFO:tensorflow:Assets written to: BWeight.md5/assets\n",
            "1928/1928 - 18s - loss: 1.1326 - accuracy: 0.5814 - val_loss: 0.7552 - val_accuracy: 0.7068\n",
            "Epoch 4/10\n",
            "WARNING:tensorflow:multiprocessing can interact badly with TensorFlow, causing nondeterministic deadlocks. For high performance data pipelines tf.data is recommended.\n",
            "INFO:tensorflow:Assets written to: BWeight.md5/assets\n",
            "1928/1928 - 18s - loss: 1.0252 - accuracy: 0.6189 - val_loss: 0.6983 - val_accuracy: 0.7213\n",
            "Epoch 5/10\n",
            "WARNING:tensorflow:multiprocessing can interact badly with TensorFlow, causing nondeterministic deadlocks. For high performance data pipelines tf.data is recommended.\n",
            "INFO:tensorflow:Assets written to: BWeight.md5/assets\n",
            "1928/1928 - 18s - loss: 0.9544 - accuracy: 0.6455 - val_loss: 0.6871 - val_accuracy: 0.7238\n",
            "Epoch 6/10\n",
            "WARNING:tensorflow:multiprocessing can interact badly with TensorFlow, causing nondeterministic deadlocks. For high performance data pipelines tf.data is recommended.\n",
            "INFO:tensorflow:Assets written to: BWeight.md5/assets\n",
            "1928/1928 - 18s - loss: 0.9149 - accuracy: 0.6588 - val_loss: 0.6340 - val_accuracy: 0.7460\n",
            "Epoch 7/10\n",
            "WARNING:tensorflow:multiprocessing can interact badly with TensorFlow, causing nondeterministic deadlocks. For high performance data pipelines tf.data is recommended.\n",
            "1928/1928 - 17s - loss: 0.8793 - accuracy: 0.6733 - val_loss: 0.6506 - val_accuracy: 0.7527\n",
            "Epoch 8/10\n",
            "WARNING:tensorflow:multiprocessing can interact badly with TensorFlow, causing nondeterministic deadlocks. For high performance data pipelines tf.data is recommended.\n",
            "INFO:tensorflow:Assets written to: BWeight.md5/assets\n",
            "1928/1928 - 17s - loss: 0.8386 - accuracy: 0.6859 - val_loss: 0.6319 - val_accuracy: 0.7447\n",
            "Epoch 9/10\n",
            "WARNING:tensorflow:multiprocessing can interact badly with TensorFlow, causing nondeterministic deadlocks. For high performance data pipelines tf.data is recommended.\n",
            "INFO:tensorflow:Assets written to: BWeight.md5/assets\n",
            "1928/1928 - 18s - loss: 0.8161 - accuracy: 0.6965 - val_loss: 0.5970 - val_accuracy: 0.7513\n",
            "Epoch 10/10\n",
            "WARNING:tensorflow:multiprocessing can interact badly with TensorFlow, causing nondeterministic deadlocks. For high performance data pipelines tf.data is recommended.\n",
            "INFO:tensorflow:Assets written to: BWeight.md5/assets\n",
            "1928/1928 - 18s - loss: 0.7927 - accuracy: 0.7018 - val_loss: 0.5918 - val_accuracy: 0.7552\n"
          ],
          "name": "stdout"
        }
      ]
    },
    {
      "cell_type": "code",
      "metadata": {
        "id": "QY7qAG9kEXvu",
        "outputId": "bf3dd2cd-28d1-4ac4-9157-e1901c6a1fbe",
        "colab": {
          "base_uri": "https://localhost:8080/"
        }
      },
      "source": [
        "y_final_preds = model.predict_classes(X_test)"
      ],
      "execution_count": 84,
      "outputs": [
        {
          "output_type": "stream",
          "text": [
            "WARNING:tensorflow:From <ipython-input-84-d59531395106>:1: Sequential.predict_classes (from tensorflow.python.keras.engine.sequential) is deprecated and will be removed after 2021-01-01.\n",
            "Instructions for updating:\n",
            "Please use instead:* `np.argmax(model.predict(x), axis=-1)`,   if your model does multi-class classification   (e.g. if it uses a `softmax` last-layer activation).* `(model.predict(x) > 0.5).astype(\"int32\")`,   if your model does binary classification   (e.g. if it uses a `sigmoid` last-layer activation).\n"
          ],
          "name": "stdout"
        }
      ]
    },
    {
      "cell_type": "code",
      "metadata": {
        "id": "GwTtE8YOEcwh"
      },
      "source": [
        "from sklearn.metrics import classification_report"
      ],
      "execution_count": 85,
      "outputs": []
    },
    {
      "cell_type": "code",
      "metadata": {
        "id": "61juKM6VEf44",
        "outputId": "5b6768db-51f4-4940-d304-002b731419f3",
        "colab": {
          "base_uri": "https://localhost:8080/"
        }
      },
      "source": [
        "print(classification_report(y_test,y_final_preds))"
      ],
      "execution_count": 86,
      "outputs": [
        {
          "output_type": "stream",
          "text": [
            "              precision    recall  f1-score   support\n",
            "\n",
            "           0       0.73      0.80      0.76      1000\n",
            "           1       0.95      0.97      0.96      1000\n",
            "           2       0.48      0.81      0.60      1000\n",
            "           3       0.74      0.86      0.80      1000\n",
            "           4       0.68      0.50      0.58      1000\n",
            "           5       0.92      0.91      0.91      1000\n",
            "           6       0.35      0.10      0.15      1000\n",
            "           7       0.88      0.87      0.87      1000\n",
            "           8       0.96      0.93      0.94      1000\n",
            "           9       0.90      0.95      0.92      1000\n",
            "\n",
            "    accuracy                           0.77     10000\n",
            "   macro avg       0.76      0.77      0.75     10000\n",
            "weighted avg       0.76      0.77      0.75     10000\n",
            "\n"
          ],
          "name": "stdout"
        }
      ]
    },
    {
      "cell_type": "code",
      "metadata": {
        "id": "LOGM9IhnEpvO"
      },
      "source": [
        ""
      ],
      "execution_count": null,
      "outputs": []
    }
  ]
}