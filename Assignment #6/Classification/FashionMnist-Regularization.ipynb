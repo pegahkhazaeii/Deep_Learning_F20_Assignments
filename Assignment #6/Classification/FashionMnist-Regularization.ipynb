{
  "nbformat": 4,
  "nbformat_minor": 0,
  "metadata": {
    "colab": {
      "name": "FashionMnist-Regularization.ipynb",
      "provenance": [],
      "collapsed_sections": []
    },
    "kernelspec": {
      "name": "python3",
      "display_name": "Python 3"
    },
    "accelerator": "GPU"
  },
  "cells": [
    {
      "cell_type": "code",
      "metadata": {
        "id": "pXMKPPrV6Fia"
      },
      "source": [
        "from keras.utils import to_categorical\n",
        "import numpy as np\n",
        "import pandas as pd\n",
        "import matplotlib.pyplot as plt\n",
        "from sklearn.model_selection import train_test_split\n",
        "from sklearn.metrics import classification_report,accuracy_score\n",
        "from keras.models import Sequential\n",
        "from keras.layers import Dense\n",
        "from keras.regularizers import l2\n",
        "from google.colab import drive"
      ],
      "execution_count": 2,
      "outputs": []
    },
    {
      "cell_type": "code",
      "metadata": {
        "id": "GowC9G52IMJ3",
        "outputId": "61e74a0d-0d93-4b87-aed8-d0edcac0d377",
        "colab": {
          "base_uri": "https://localhost:8080/"
        }
      },
      "source": [
        "drive.mount('/content/drive')"
      ],
      "execution_count": 3,
      "outputs": [
        {
          "output_type": "stream",
          "text": [
            "Mounted at /content/drive\n"
          ],
          "name": "stdout"
        }
      ]
    },
    {
      "cell_type": "code",
      "metadata": {
        "id": "0toMkDeDI2J6"
      },
      "source": [
        "train = pd.read_csv(\"/content/drive/My Drive/Deep Learning/fashion-mnist_train.csv\")\n",
        "test = pd.read_csv(\"/content/drive/My Drive/Deep Learning/fashion-mnist_test.csv\")"
      ],
      "execution_count": 4,
      "outputs": []
    },
    {
      "cell_type": "code",
      "metadata": {
        "id": "bvmJwxioJRYh"
      },
      "source": [
        "#Define the target and the features\n",
        "x_train = train.drop(columns=['label'])\n",
        "y_train = train.label\n",
        "\n",
        "x_test = test.drop(columns=['label'])\n",
        "y_test = test.label"
      ],
      "execution_count": 5,
      "outputs": []
    },
    {
      "cell_type": "code",
      "metadata": {
        "id": "UslUnyQoJRUf",
        "outputId": "a9fa106b-5fd3-4fc0-bd50-f5611794aa0e",
        "colab": {
          "base_uri": "https://localhost:8080/"
        }
      },
      "source": [
        "#Print the shape of target\n",
        "y_train.shape , y_test.shape"
      ],
      "execution_count": 6,
      "outputs": [
        {
          "output_type": "execute_result",
          "data": {
            "text/plain": [
              "((60000,), (10000,))"
            ]
          },
          "metadata": {
            "tags": []
          },
          "execution_count": 6
        }
      ]
    },
    {
      "cell_type": "code",
      "metadata": {
        "id": "us7xuXaqJRR8",
        "outputId": "acbf69d6-0d5b-40f2-ec1d-58435fad1710",
        "colab": {
          "base_uri": "https://localhost:8080/"
        }
      },
      "source": [
        "#Print the number of class in the train target\n",
        "list(y_train.unique())"
      ],
      "execution_count": 7,
      "outputs": [
        {
          "output_type": "execute_result",
          "data": {
            "text/plain": [
              "[2, 9, 6, 0, 3, 4, 5, 8, 7, 1]"
            ]
          },
          "metadata": {
            "tags": []
          },
          "execution_count": 7
        }
      ]
    },
    {
      "cell_type": "code",
      "metadata": {
        "id": "_fr5VpMqJRPF",
        "outputId": "8abce301-416f-4604-8d03-90e29b00cac8",
        "colab": {
          "base_uri": "https://localhost:8080/"
        }
      },
      "source": [
        "#Print the number of class in the test target\n",
        "list(y_test.unique())"
      ],
      "execution_count": 8,
      "outputs": [
        {
          "output_type": "execute_result",
          "data": {
            "text/plain": [
              "[0, 1, 2, 3, 8, 6, 5, 4, 7, 9]"
            ]
          },
          "metadata": {
            "tags": []
          },
          "execution_count": 8
        }
      ]
    },
    {
      "cell_type": "code",
      "metadata": {
        "id": "04Myefe-JRMe",
        "outputId": "00f332bb-3afb-4832-85a3-155ee060fbaa",
        "colab": {
          "base_uri": "https://localhost:8080/"
        }
      },
      "source": [
        "x_train.max().sort_values().tail(1)"
      ],
      "execution_count": 9,
      "outputs": [
        {
          "output_type": "execute_result",
          "data": {
            "text/plain": [
              "pixel392    255\n",
              "dtype: int64"
            ]
          },
          "metadata": {
            "tags": []
          },
          "execution_count": 9
        }
      ]
    },
    {
      "cell_type": "code",
      "metadata": {
        "id": "K9dkmyT_JRJ9",
        "outputId": "5510025d-1a83-4de6-9508-372f495a41f3",
        "colab": {
          "base_uri": "https://localhost:8080/"
        }
      },
      "source": [
        "x_test.max().sort_values().tail(1)"
      ],
      "execution_count": 10,
      "outputs": [
        {
          "output_type": "execute_result",
          "data": {
            "text/plain": [
              "pixel396    255\n",
              "dtype: int64"
            ]
          },
          "metadata": {
            "tags": []
          },
          "execution_count": 10
        }
      ]
    },
    {
      "cell_type": "code",
      "metadata": {
        "id": "7gFozuFGJRGv"
      },
      "source": [
        "#The max number is 255, so lets divide the target by this number\n",
        "x_train = x_train/255\n",
        "x_test = x_test/255"
      ],
      "execution_count": 11,
      "outputs": []
    },
    {
      "cell_type": "code",
      "metadata": {
        "id": "mj3_fcyQJpbo"
      },
      "source": [
        "x_train = x_train.astype(float) \n",
        "x_test = x_test.astype(float)"
      ],
      "execution_count": 12,
      "outputs": []
    },
    {
      "cell_type": "code",
      "metadata": {
        "id": "8l-TfnrXJpYl"
      },
      "source": [
        "from keras.utils import to_categorical\n",
        "\n",
        "y_train = to_categorical(y_train,10) #10 levels of image\n",
        "y_test =  to_categorical(y_test,10) #10 levels of image"
      ],
      "execution_count": 13,
      "outputs": []
    },
    {
      "cell_type": "code",
      "metadata": {
        "id": "3jqCxCMJJpVF",
        "outputId": "4be0b076-ff75-4148-e2fc-7ad61f42e94c",
        "colab": {
          "base_uri": "https://localhost:8080/"
        }
      },
      "source": [
        "#Starting a neural network\n",
        "modelo = Sequential()\n",
        "\n",
        "#Input the first layer in model with 50 neurals and the activation function will be Relu\n",
        "modelo.add(Dense(50 #number os neurals\n",
        "                ,activation = 'relu' #activation function\n",
        "                ,input_shape = (784,) #Number of features in dataframe, let's pay attention, because keras need to receive a tuple, its the reason of (784,0)\n",
        "                ,kernel_regularizer=l2(0.01), bias_regularizer=l2(0.01)\n",
        "                ))\n",
        "\n",
        "#Input the second layer in model with 50 neurals and the same activation function\n",
        "modelo.add(Dense(30 \n",
        "                ,activation = 'relu' \n",
        "                ,kernel_regularizer=l2(0.01), bias_regularizer=l2(0.01) \n",
        "                ))\n",
        "\n",
        "#Input the third layer in model with 20 neurals and the same activation function\n",
        "modelo.add(Dense(20\n",
        "                ,activation = 'relu' \n",
        "                ,kernel_regularizer=l2(0.01), bias_regularizer=l2(0.01) \n",
        "                ))\n",
        "\n",
        "#The final layes will be with 10 neurals because we have 10 class in this dataframe\n",
        "#The activation function is softmax because its will be normalize the output of neurals and it will be easier identify the probably of each class\n",
        "modelo.add(Dense(10 #numero de classs\n",
        "                ,activation = 'softmax' #Vai normaliza as probabilidades por exponencial\n",
        "                ))\n",
        "\n",
        "#Finally, lets see the summary of the model and see how many parameters its have.\n",
        "modelo.summary()"
      ],
      "execution_count": 14,
      "outputs": [
        {
          "output_type": "stream",
          "text": [
            "Model: \"sequential\"\n",
            "_________________________________________________________________\n",
            "Layer (type)                 Output Shape              Param #   \n",
            "=================================================================\n",
            "dense (Dense)                (None, 50)                39250     \n",
            "_________________________________________________________________\n",
            "dense_1 (Dense)              (None, 30)                1530      \n",
            "_________________________________________________________________\n",
            "dense_2 (Dense)              (None, 20)                620       \n",
            "_________________________________________________________________\n",
            "dense_3 (Dense)              (None, 10)                210       \n",
            "=================================================================\n",
            "Total params: 41,610\n",
            "Trainable params: 41,610\n",
            "Non-trainable params: 0\n",
            "_________________________________________________________________\n"
          ],
          "name": "stdout"
        }
      ]
    },
    {
      "cell_type": "code",
      "metadata": {
        "id": "Jl7gKuFDJpSK"
      },
      "source": [
        "modelo.compile(\n",
        "                loss='categorical_crossentropy' \n",
        "               ,optimizer='adam' \n",
        "               ,metrics=['accuracy'] )"
      ],
      "execution_count": 15,
      "outputs": []
    },
    {
      "cell_type": "code",
      "metadata": {
        "id": "zQ03uMiRJpPc",
        "outputId": "410271b6-aa86-449a-886f-ed1099db15e4",
        "colab": {
          "base_uri": "https://localhost:8080/"
        }
      },
      "source": [
        "history = modelo.fit(x_train,y_train\n",
        "         ,epochs=30 #number of times that model will through in train \n",
        "         ,batch_size = 128 #number of rows that will be consider to update the weights of layers\n",
        "         ,verbose = 1\n",
        "         ,validation_data=(x_test,y_test)\n",
        "         )"
      ],
      "execution_count": 16,
      "outputs": [
        {
          "output_type": "stream",
          "text": [
            "Epoch 1/30\n",
            "469/469 [==============================] - 2s 5ms/step - loss: 1.3896 - accuracy: 0.7256 - val_loss: 0.9584 - val_accuracy: 0.8058\n",
            "Epoch 2/30\n",
            "469/469 [==============================] - 2s 4ms/step - loss: 0.9144 - accuracy: 0.8052 - val_loss: 0.8604 - val_accuracy: 0.8178\n",
            "Epoch 3/30\n",
            "469/469 [==============================] - 2s 4ms/step - loss: 0.8462 - accuracy: 0.8134 - val_loss: 0.8239 - val_accuracy: 0.8162\n",
            "Epoch 4/30\n",
            "469/469 [==============================] - 2s 5ms/step - loss: 0.8114 - accuracy: 0.8162 - val_loss: 0.7947 - val_accuracy: 0.8202\n",
            "Epoch 5/30\n",
            "469/469 [==============================] - 2s 4ms/step - loss: 0.7835 - accuracy: 0.8199 - val_loss: 0.7730 - val_accuracy: 0.8219\n",
            "Epoch 6/30\n",
            "469/469 [==============================] - 2s 5ms/step - loss: 0.7569 - accuracy: 0.8228 - val_loss: 0.7562 - val_accuracy: 0.8256\n",
            "Epoch 7/30\n",
            "469/469 [==============================] - 2s 4ms/step - loss: 0.7387 - accuracy: 0.8260 - val_loss: 0.7334 - val_accuracy: 0.8282\n",
            "Epoch 8/30\n",
            "469/469 [==============================] - 2s 5ms/step - loss: 0.7223 - accuracy: 0.8283 - val_loss: 0.7146 - val_accuracy: 0.8305\n",
            "Epoch 9/30\n",
            "469/469 [==============================] - 2s 5ms/step - loss: 0.7104 - accuracy: 0.8306 - val_loss: 0.6959 - val_accuracy: 0.8355\n",
            "Epoch 10/30\n",
            "469/469 [==============================] - 2s 4ms/step - loss: 0.6948 - accuracy: 0.8330 - val_loss: 0.6909 - val_accuracy: 0.8320\n",
            "Epoch 11/30\n",
            "469/469 [==============================] - 2s 4ms/step - loss: 0.6843 - accuracy: 0.8330 - val_loss: 0.6771 - val_accuracy: 0.8400\n",
            "Epoch 12/30\n",
            "469/469 [==============================] - 2s 5ms/step - loss: 0.6750 - accuracy: 0.8366 - val_loss: 0.6667 - val_accuracy: 0.8392\n",
            "Epoch 13/30\n",
            "469/469 [==============================] - 2s 4ms/step - loss: 0.6666 - accuracy: 0.8361 - val_loss: 0.6652 - val_accuracy: 0.8375\n",
            "Epoch 14/30\n",
            "469/469 [==============================] - 2s 5ms/step - loss: 0.6630 - accuracy: 0.8366 - val_loss: 0.6629 - val_accuracy: 0.8390\n",
            "Epoch 15/30\n",
            "469/469 [==============================] - 2s 4ms/step - loss: 0.6540 - accuracy: 0.8386 - val_loss: 0.6561 - val_accuracy: 0.8353\n",
            "Epoch 16/30\n",
            "469/469 [==============================] - 2s 5ms/step - loss: 0.6431 - accuracy: 0.8395 - val_loss: 0.6444 - val_accuracy: 0.8443\n",
            "Epoch 17/30\n",
            "469/469 [==============================] - 2s 5ms/step - loss: 0.6415 - accuracy: 0.8398 - val_loss: 0.6414 - val_accuracy: 0.8403\n",
            "Epoch 18/30\n",
            "469/469 [==============================] - 2s 5ms/step - loss: 0.6352 - accuracy: 0.8423 - val_loss: 0.6436 - val_accuracy: 0.8388\n",
            "Epoch 19/30\n",
            "469/469 [==============================] - 2s 5ms/step - loss: 0.6347 - accuracy: 0.8400 - val_loss: 0.6475 - val_accuracy: 0.8330\n",
            "Epoch 20/30\n",
            "469/469 [==============================] - 2s 4ms/step - loss: 0.6277 - accuracy: 0.8420 - val_loss: 0.6317 - val_accuracy: 0.8456\n",
            "Epoch 21/30\n",
            "469/469 [==============================] - 2s 5ms/step - loss: 0.6215 - accuracy: 0.8425 - val_loss: 0.6378 - val_accuracy: 0.8346\n",
            "Epoch 22/30\n",
            "469/469 [==============================] - 2s 4ms/step - loss: 0.6153 - accuracy: 0.8440 - val_loss: 0.6179 - val_accuracy: 0.8457\n",
            "Epoch 23/30\n",
            "469/469 [==============================] - 2s 5ms/step - loss: 0.6106 - accuracy: 0.8460 - val_loss: 0.6014 - val_accuracy: 0.8518\n",
            "Epoch 24/30\n",
            "469/469 [==============================] - 2s 4ms/step - loss: 0.6053 - accuracy: 0.8469 - val_loss: 0.6162 - val_accuracy: 0.8434\n",
            "Epoch 25/30\n",
            "469/469 [==============================] - 2s 5ms/step - loss: 0.6034 - accuracy: 0.8461 - val_loss: 0.5989 - val_accuracy: 0.8537\n",
            "Epoch 26/30\n",
            "469/469 [==============================] - 2s 5ms/step - loss: 0.6004 - accuracy: 0.8472 - val_loss: 0.6109 - val_accuracy: 0.8376\n",
            "Epoch 27/30\n",
            "469/469 [==============================] - 2s 5ms/step - loss: 0.5965 - accuracy: 0.8478 - val_loss: 0.5923 - val_accuracy: 0.8484\n",
            "Epoch 28/30\n",
            "469/469 [==============================] - 2s 5ms/step - loss: 0.5959 - accuracy: 0.8470 - val_loss: 0.5910 - val_accuracy: 0.8522\n",
            "Epoch 29/30\n",
            "469/469 [==============================] - 2s 5ms/step - loss: 0.5936 - accuracy: 0.8474 - val_loss: 0.5967 - val_accuracy: 0.8505\n",
            "Epoch 30/30\n",
            "469/469 [==============================] - 2s 5ms/step - loss: 0.5893 - accuracy: 0.8487 - val_loss: 0.6767 - val_accuracy: 0.8037\n"
          ],
          "name": "stdout"
        }
      ]
    },
    {
      "cell_type": "code",
      "metadata": {
        "id": "LIwe6OAvKROD",
        "outputId": "a4cf3c4a-76b2-4cff-aa2d-bf2875df5e14",
        "colab": {
          "base_uri": "https://localhost:8080/"
        }
      },
      "source": [
        "modelo.evaluate(x_test,y_test,verbose = 0)"
      ],
      "execution_count": 17,
      "outputs": [
        {
          "output_type": "execute_result",
          "data": {
            "text/plain": [
              "[0.6766837239265442, 0.8036999702453613]"
            ]
          },
          "metadata": {
            "tags": []
          },
          "execution_count": 17
        }
      ]
    },
    {
      "cell_type": "code",
      "metadata": {
        "id": "lv6-V1jKKZC1",
        "outputId": "3d762e3f-7bef-48c6-b037-fce4f8bd616c",
        "colab": {
          "base_uri": "https://localhost:8080/",
          "height": 513
        }
      },
      "source": [
        "plt.subplots(figsize=(13, 8))\n",
        "plt.plot(history.history['accuracy'])\n",
        "plt.plot(history.history['val_accuracy'])\n",
        "plt.title('Model accuracy')\n",
        "plt.ylabel('Accuracy')\n",
        "plt.xlabel('Epoch')\n",
        "plt.legend(['Train', 'Test'], loc='upper left')\n",
        "plt.show()"
      ],
      "execution_count": 18,
      "outputs": [
        {
          "output_type": "display_data",
          "data": {
            "image/png": "[encoded data removed]",
            "text/plain": [
              "<Figure size 936x576 with 1 Axes>"
            ]
          },
          "metadata": {
            "tags": [],
            "needs_background": "light"
          }
        }
      ]
    },
    {
      "cell_type": "code",
      "metadata": {
        "id": "35bPBK4AKZL2",
        "outputId": "2ec0c1e5-fd16-4606-efd0-580fa1027106",
        "colab": {
          "base_uri": "https://localhost:8080/",
          "height": 513
        }
      },
      "source": [
        "plt.subplots(figsize=(13, 8))\n",
        "plt.plot(history.history['loss'])\n",
        "plt.plot(history.history['val_loss'])\n",
        "plt.title('Model loss')\n",
        "plt.ylabel('loss')\n",
        "plt.xlabel('Epoch')\n",
        "plt.legend(['Train', 'Test'], loc='upper left')\n",
        "plt.show()"
      ],
      "execution_count": 19,
      "outputs": [
        {
          "output_type": "display_data",
          "data": {
            "image/png": "[encoded data removed]",
            "text/plain": [
              "<Figure size 936x576 with 1 Axes>"
            ]
          },
          "metadata": {
            "tags": [],
            "needs_background": "light"
          }
        }
      ]
    },
    {
      "cell_type": "code",
      "metadata": {
        "id": "i520VfCbKZRa",
        "outputId": "c6fd455d-ff66-4c8f-e1ca-a9668c3dcac0",
        "colab": {
          "base_uri": "https://localhost:8080/"
        }
      },
      "source": [
        "#Predict the x_test\n",
        "p = modelo.predict(x_test)\n",
        "p = (p > 0.5)\n",
        "print('ACC: %.3f%%' % (accuracy_score(y_test, p)*100))\n",
        "print('---------')\n",
        "print(classification_report(y_test, p))"
      ],
      "execution_count": 20,
      "outputs": [
        {
          "output_type": "stream",
          "text": [
            "ACC: 76.480%\n",
            "---------\n",
            "              precision    recall  f1-score   support\n",
            "\n",
            "           0       0.85      0.71      0.77      1000\n",
            "           1       0.99      0.93      0.96      1000\n",
            "           2       0.74      0.74      0.74      1000\n",
            "           3       0.86      0.86      0.86      1000\n",
            "           4       0.89      0.24      0.38      1000\n",
            "           5       0.88      0.95      0.91      1000\n",
            "           6       0.53      0.63      0.58      1000\n",
            "           7       0.95      0.81      0.87      1000\n",
            "           8       0.98      0.84      0.90      1000\n",
            "           9       0.89      0.94      0.91      1000\n",
            "\n",
            "   micro avg       0.84      0.76      0.80     10000\n",
            "   macro avg       0.86      0.76      0.79     10000\n",
            "weighted avg       0.86      0.76      0.79     10000\n",
            " samples avg       0.76      0.76      0.76     10000\n",
            "\n"
          ],
          "name": "stdout"
        },
        {
          "output_type": "stream",
          "text": [
            "/usr/local/lib/python3.6/dist-packages/sklearn/metrics/_classification.py:1272: UndefinedMetricWarning: Precision and F-score are ill-defined and being set to 0.0 in samples with no predicted labels. Use `zero_division` parameter to control this behavior.\n",
            "  _warn_prf(average, modifier, msg_start, len(result))\n"
          ],
          "name": "stderr"
        }
      ]
    },
    {
      "cell_type": "code",
      "metadata": {
        "id": "dxjdoieZKZJF",
        "outputId": "b4745e84-fcdb-4d27-a6e4-39e279f68223",
        "colab": {
          "base_uri": "https://localhost:8080/"
        }
      },
      "source": [
        "from sklearn.neural_network import MLPClassifier\n",
        "model = MLPClassifier(hidden_layer_sizes=(50,30,20) #define 3 layers with 50, 30 and 20 neurals\n",
        "                      , batch_size=32 #Define the same bacth_size\n",
        "                      , solver = 'adam' #Define the optimization\n",
        "                      ,activation='relu' #Activation function\n",
        "                      , max_iter=30 #Number of epochs\n",
        "                      ,verbose=1\n",
        "                      , random_state=42)\n",
        "\n",
        "model.fit(x_train, y_train)"
      ],
      "execution_count": 21,
      "outputs": [
        {
          "output_type": "stream",
          "text": [
            "Iteration 1, loss = 1.16751323\n",
            "Iteration 2, loss = 0.73055040\n",
            "Iteration 3, loss = 0.66297888\n",
            "Iteration 4, loss = 0.62398755\n",
            "Iteration 5, loss = 0.59599158\n",
            "Iteration 6, loss = 0.57648485\n",
            "Iteration 7, loss = 0.55670148\n",
            "Iteration 8, loss = 0.53980763\n",
            "Iteration 9, loss = 0.52693651\n",
            "Iteration 10, loss = 0.51314798\n",
            "Iteration 11, loss = 0.50228346\n",
            "Iteration 12, loss = 0.49314415\n",
            "Iteration 13, loss = 0.48015815\n",
            "Iteration 14, loss = 0.47619853\n",
            "Iteration 15, loss = 0.46789987\n",
            "Iteration 16, loss = 0.46192088\n",
            "Iteration 17, loss = 0.45247878\n",
            "Iteration 18, loss = 0.44406509\n",
            "Iteration 19, loss = 0.43771446\n",
            "Iteration 20, loss = 0.43211326\n",
            "Iteration 21, loss = 0.42776855\n",
            "Iteration 22, loss = 0.41946926\n",
            "Iteration 23, loss = 0.41856413\n",
            "Iteration 24, loss = 0.41319356\n",
            "Iteration 25, loss = 0.40686743\n",
            "Iteration 26, loss = 0.40019588\n",
            "Iteration 27, loss = 0.39966402\n",
            "Iteration 28, loss = 0.39747053\n",
            "Iteration 29, loss = 0.39105230\n",
            "Iteration 30, loss = 0.38643915\n"
          ],
          "name": "stdout"
        },
        {
          "output_type": "stream",
          "text": [
            "/usr/local/lib/python3.6/dist-packages/sklearn/neural_network/_multilayer_perceptron.py:571: ConvergenceWarning: Stochastic Optimizer: Maximum iterations (30) reached and the optimization hasn't converged yet.\n",
            "  % self.max_iter, ConvergenceWarning)\n"
          ],
          "name": "stderr"
        },
        {
          "output_type": "execute_result",
          "data": {
            "text/plain": [
              "MLPClassifier(activation='relu', alpha=0.0001, batch_size=32, beta_1=0.9,\n",
              "              beta_2=0.999, early_stopping=False, epsilon=1e-08,\n",
              "              hidden_layer_sizes=(50, 30, 20), learning_rate='constant',\n",
              "              learning_rate_init=0.001, max_fun=15000, max_iter=30,\n",
              "              momentum=0.9, n_iter_no_change=10, nesterovs_momentum=True,\n",
              "              power_t=0.5, random_state=42, shuffle=True, solver='adam',\n",
              "              tol=0.0001, validation_fraction=0.1, verbose=1, warm_start=False)"
            ]
          },
          "metadata": {
            "tags": []
          },
          "execution_count": 21
        }
      ]
    },
    {
      "cell_type": "code",
      "metadata": {
        "id": "wBxv2vDrLeR0",
        "outputId": "1cf396ba-2fec-4cee-ffda-86781ba1f388",
        "colab": {
          "base_uri": "https://localhost:8080/"
        }
      },
      "source": [
        "#Print the accuracy\n",
        "print('Accuracy:', model.score(x_test, y_test))"
      ],
      "execution_count": 22,
      "outputs": [
        {
          "output_type": "stream",
          "text": [
            "Accuracy: 0.8652\n"
          ],
          "name": "stdout"
        }
      ]
    },
    {
      "cell_type": "code",
      "metadata": {
        "id": "-wGKYceUMMU0",
        "outputId": "c2b54cbc-d853-4e0a-8fa4-c1e8e50eb88b",
        "colab": {
          "base_uri": "https://localhost:8080/",
          "height": 609
        }
      },
      "source": [
        "plt.rcParams['figure.figsize'] = 10, 10\n",
        "\n",
        "plt.plot(list(range(len(model.loss_curve_))), model.loss_curve_)"
      ],
      "execution_count": 23,
      "outputs": [
        {
          "output_type": "execute_result",
          "data": {
            "text/plain": [
              "[<matplotlib.lines.Line2D at 0x7f151dde61d0>]"
            ]
          },
          "metadata": {
            "tags": []
          },
          "execution_count": 23
        },
        {
          "output_type": "display_data",
          "data": {
            "image/png": "[encoded data removed]",
            "text/plain": [
              "<Figure size 720x720 with 1 Axes>"
            ]
          },
          "metadata": {
            "tags": [],
            "needs_background": "light"
          }
        }
      ]
    },
    {
      "cell_type": "code",
      "metadata": {
        "id": "0mNF1Y04MTb0",
        "outputId": "782b302e-9d0f-40c6-86ac-8987af9c1242",
        "colab": {
          "base_uri": "https://localhost:8080/"
        }
      },
      "source": [
        "#Predict the x_test\n",
        "p = model.predict(x_test)\n",
        "p = (p > 0.5)\n",
        "print('ACC: %.3f%%' % (accuracy_score(y_test, p)*100))\n",
        "print('---------')\n",
        "print(classification_report(y_test, p))"
      ],
      "execution_count": 25,
      "outputs": [
        {
          "output_type": "stream",
          "text": [
            "ACC: 86.520%\n",
            "---------\n",
            "              precision    recall  f1-score   support\n",
            "\n",
            "           0       0.83      0.81      0.82      1000\n",
            "           1       0.98      0.98      0.98      1000\n",
            "           2       0.86      0.79      0.83      1000\n",
            "           3       0.94      0.86      0.90      1000\n",
            "           4       0.88      0.77      0.82      1000\n",
            "           5       0.98      0.92      0.95      1000\n",
            "           6       0.69      0.73      0.71      1000\n",
            "           7       0.94      0.92      0.93      1000\n",
            "           8       0.97      0.96      0.97      1000\n",
            "           9       0.91      0.97      0.94      1000\n",
            "\n",
            "   micro avg       0.90      0.87      0.88     10000\n",
            "   macro avg       0.90      0.87      0.88     10000\n",
            "weighted avg       0.90      0.87      0.88     10000\n",
            " samples avg       0.87      0.87      0.87     10000\n",
            "\n"
          ],
          "name": "stdout"
        },
        {
          "output_type": "stream",
          "text": [
            "/usr/local/lib/python3.6/dist-packages/sklearn/metrics/_classification.py:1272: UndefinedMetricWarning: Precision and F-score are ill-defined and being set to 0.0 in samples with no predicted labels. Use `zero_division` parameter to control this behavior.\n",
            "  _warn_prf(average, modifier, msg_start, len(result))\n"
          ],
          "name": "stderr"
        }
      ]
    }
  ]
}