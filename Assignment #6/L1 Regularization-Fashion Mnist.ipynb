{
 "cells": [
  {
   "cell_type": "code",
   "execution_count": 104,
   "metadata": {},
   "outputs": [],
   "source": [
    "from keras.utils import to_categorical\n",
    "import numpy as np\n",
    "import pandas as pd\n",
    "import matplotlib.pyplot as plt\n",
    "from sklearn.model_selection import train_test_split\n",
    "from sklearn.metrics import classification_report,accuracy_score\n",
    "from keras.models import Sequential\n",
    "from keras.layers import Dense\n",
    "from keras.regularizers import l1"
   ]
  },
  {
   "cell_type": "code",
   "execution_count": 105,
   "metadata": {},
   "outputs": [],
   "source": [
    "train = pd.read_csv(r'D:\\DataSets\\fashion-mnist_train.csv')\n",
    "test = pd.read_csv(r'D:\\DataSets\\fashion-mnist_test.csv')"
   ]
  },
  {
   "cell_type": "code",
   "execution_count": 106,
   "metadata": {},
   "outputs": [],
   "source": [
    "#Define the target and the features\n",
    "x_train = train.drop(columns=['label'])\n",
    "y_train = train.label\n",
    "\n",
    "x_test = test.drop(columns=['label'])\n",
    "y_test = test.label"
   ]
  },
  {
   "cell_type": "code",
   "execution_count": 107,
   "metadata": {},
   "outputs": [],
   "source": [
    "#The max number is 255, so lets divide the target by this number\n",
    "x_train = x_train/255\n",
    "x_test = x_test/255"
   ]
  },
  {
   "cell_type": "code",
   "execution_count": 108,
   "metadata": {},
   "outputs": [],
   "source": [
    "x_train = x_train.astype(float) \n",
    "x_test = x_test.astype(float)"
   ]
  },
  {
   "cell_type": "code",
   "execution_count": 109,
   "metadata": {},
   "outputs": [],
   "source": [
    "from keras.utils import to_categorical\n",
    "\n",
    "y_train = to_categorical(y_train,10) #10 levels of image\n",
    "y_test =  to_categorical(y_test,10) #10 levels of image"
   ]
  },
  {
   "cell_type": "markdown",
   "metadata": {},
   "source": [
    "## Non Regularization"
   ]
  },
  {
   "cell_type": "code",
   "execution_count": 110,
   "metadata": {},
   "outputs": [
    {
     "name": "stdout",
     "output_type": "stream",
     "text": [
      "Model: \"sequential_19\"\n",
      "_________________________________________________________________\n",
      "Layer (type)                 Output Shape              Param #   \n",
      "=================================================================\n",
      "dense_65 (Dense)             (None, 50)                39250     \n",
      "_________________________________________________________________\n",
      "dense_66 (Dense)             (None, 30)                1530      \n",
      "_________________________________________________________________\n",
      "dense_67 (Dense)             (None, 20)                620       \n",
      "_________________________________________________________________\n",
      "dense_68 (Dense)             (None, 10)                210       \n",
      "=================================================================\n",
      "Total params: 41,610\n",
      "Trainable params: 41,610\n",
      "Non-trainable params: 0\n",
      "_________________________________________________________________\n"
     ]
    }
   ],
   "source": [
    "#Starting a neural network\n",
    "model = Sequential()\n",
    "\n",
    "#Input the first layer in model with 50 neurals and the activation function will be Relu\n",
    "model.add(Dense(50 #number os neurals\n",
    "                ,activation = 'relu' #activation function\n",
    "                ,input_shape = (784,) #Number of features in dataframe, let's pay attention, because keras need to receive a tuple, its the reason of (784,0)\n",
    "\n",
    "                ))\n",
    "\n",
    "#Input the second layer in model with 50 neurals and the same activation function\n",
    "model.add(Dense(30 \n",
    "                ,activation = 'relu' \n",
    "               \n",
    "                ))\n",
    "\n",
    "#Input the third layer in model with 20 neurals and the same activation function\n",
    "model.add(Dense(20\n",
    "                ,activation = 'relu' \n",
    "                \n",
    "                ))\n",
    "\n",
    "#The final layes will be with 10 neurals because we have 10 class in this dataframe\n",
    "#The activation function is softmax because its will be normalize the output of neurals and it will be easier identify the probably of each class\n",
    "model.add(Dense(10 #numero de classs\n",
    "                ,activation = 'softmax' #Vai normaliza as probabilidades por exponencial\n",
    "                ))\n",
    "\n",
    "#Finally, lets see the summary of the model and see how many parameters its have.\n",
    "model.summary()"
   ]
  },
  {
   "cell_type": "code",
   "execution_count": 111,
   "metadata": {},
   "outputs": [],
   "source": [
    "model.compile(\n",
    "                loss='categorical_crossentropy' \n",
    "               ,optimizer='adam' \n",
    "               ,metrics=['accuracy'] )"
   ]
  },
  {
   "cell_type": "code",
   "execution_count": 112,
   "metadata": {},
   "outputs": [
    {
     "name": "stdout",
     "output_type": "stream",
     "text": [
      "Train on 60000 samples, validate on 10000 samples\n",
      "Epoch 1/7\n",
      "60000/60000 [==============================] - 21s 350us/step - loss: 0.5612 - accuracy: 0.8027 - val_loss: 0.4983 - val_accuracy: 0.8273\n",
      "Epoch 2/7\n",
      "60000/60000 [==============================] - 22s 364us/step - loss: 0.4088 - accuracy: 0.8530 - val_loss: 0.3844 - val_accuracy: 0.8580\n",
      "Epoch 3/7\n",
      "60000/60000 [==============================] - 21s 345us/step - loss: 0.3677 - accuracy: 0.8669 - val_loss: 0.3841 - val_accuracy: 0.8579\n",
      "Epoch 4/7\n",
      "60000/60000 [==============================] - 18s 303us/step - loss: 0.3435 - accuracy: 0.8744 - val_loss: 0.3482 - val_accuracy: 0.8740\n",
      "Epoch 5/7\n",
      "60000/60000 [==============================] - 19s 325us/step - loss: 0.3266 - accuracy: 0.8801 - val_loss: 0.3341 - val_accuracy: 0.8795\n",
      "Epoch 6/7\n",
      "60000/60000 [==============================] - 18s 297us/step - loss: 0.3108 - accuracy: 0.8869 - val_loss: 0.3290 - val_accuracy: 0.8796\n",
      "Epoch 7/7\n",
      "60000/60000 [==============================] - 18s 301us/step - loss: 0.3003 - accuracy: 0.8891 - val_loss: 0.3240 - val_accuracy: 0.8787\n"
     ]
    }
   ],
   "source": [
    "history = model.fit(x_train,y_train\n",
    "         ,epochs=7 #number of times that model will through in train \n",
    "         ,batch_size = 32 #number of rows that will be consider to update the weights of layers\n",
    "         ,verbose = 1\n",
    "         ,validation_data=(x_test,y_test)\n",
    "         )"
   ]
  },
  {
   "cell_type": "code",
   "execution_count": null,
   "metadata": {},
   "outputs": [],
   "source": []
  },
  {
   "cell_type": "code",
   "execution_count": null,
   "metadata": {},
   "outputs": [],
   "source": []
  },
  {
   "cell_type": "markdown",
   "metadata": {},
   "source": [
    "## L1 Regularization"
   ]
  },
  {
   "cell_type": "code",
   "execution_count": 125,
   "metadata": {},
   "outputs": [
    {
     "name": "stdout",
     "output_type": "stream",
     "text": [
      "Model: \"sequential_24\"\n",
      "_________________________________________________________________\n",
      "Layer (type)                 Output Shape              Param #   \n",
      "=================================================================\n",
      "dense_85 (Dense)             (None, 50)                39250     \n",
      "_________________________________________________________________\n",
      "dense_86 (Dense)             (None, 30)                1530      \n",
      "_________________________________________________________________\n",
      "dense_87 (Dense)             (None, 20)                620       \n",
      "_________________________________________________________________\n",
      "dense_88 (Dense)             (None, 10)                210       \n",
      "=================================================================\n",
      "Total params: 41,610\n",
      "Trainable params: 41,610\n",
      "Non-trainable params: 0\n",
      "_________________________________________________________________\n"
     ]
    }
   ],
   "source": [
    "#Starting a neural network\n",
    "model = Sequential()\n",
    "\n",
    "#Input the first layer in model with 50 neurals and the activation function will be Relu\n",
    "model.add(Dense(50 #number os neurals\n",
    "                ,activation = 'relu' #activation function\n",
    "                ,input_shape = (784,) #Number of features in dataframe, let's pay attention, because keras need to receive a tuple, its the reason of (784,0)\n",
    "                ,kernel_regularizer=l1(0.01), bias_regularizer=l1(0.01)\n",
    "                ))\n",
    "\n",
    "#Input the second layer in model with 50 neurals and the same activation function\n",
    "model.add(Dense(30 \n",
    "                ,activation = 'relu' \n",
    "                ,kernel_regularizer=l1(0.01), bias_regularizer=l1(0.01) \n",
    "                ))\n",
    "\n",
    "#Input the third layer in model with 20 neurals and the same activation function\n",
    "model.add(Dense(20\n",
    "                ,activation = 'relu' \n",
    "                ,kernel_regularizer=l1(0.01), bias_regularizer=l1(0.01) \n",
    "                ))\n",
    "\n",
    "#The final layes will be with 10 neurals because we have 10 class in this dataframe\n",
    "#The activation function is softmax because its will be normalize the output of neurals and it will be easier identify the probably of each class\n",
    "model.add(Dense(10 #numero de classs\n",
    "                ,activation = 'softmax' #Vai normaliza as probabilidades por exponencial\n",
    "                ))\n",
    "\n",
    "#Finally, lets see the summary of the model and see how many parameters its have.\n",
    "model.summary()"
   ]
  },
  {
   "cell_type": "code",
   "execution_count": 126,
   "metadata": {},
   "outputs": [],
   "source": [
    "model.compile(\n",
    "                loss='categorical_crossentropy' \n",
    "               ,optimizer='adam' \n",
    "               ,metrics=['accuracy'] )"
   ]
  },
  {
   "cell_type": "code",
   "execution_count": 127,
   "metadata": {
    "scrolled": true
   },
   "outputs": [
    {
     "name": "stdout",
     "output_type": "stream",
     "text": [
      "Train on 60000 samples, validate on 10000 samples\n",
      "Epoch 1/7\n",
      "60000/60000 [==============================] - 22s 365us/step - loss: 2.3179 - accuracy: 0.6499 - val_loss: 1.5678 - val_accuracy: 0.7062\n",
      "Epoch 2/7\n",
      "60000/60000 [==============================] - 21s 345us/step - loss: 1.4521 - accuracy: 0.7343 - val_loss: 1.3850 - val_accuracy: 0.7465\n",
      "Epoch 3/7\n",
      "60000/60000 [==============================] - 20s 335us/step - loss: 1.3221 - accuracy: 0.7478 - val_loss: 1.2857 - val_accuracy: 0.7548\n",
      "Epoch 4/7\n",
      "60000/60000 [==============================] - 21s 343us/step - loss: 1.2527 - accuracy: 0.7550 - val_loss: 1.2619 - val_accuracy: 0.7529\n",
      "Epoch 5/7\n",
      "60000/60000 [==============================] - 21s 351us/step - loss: 1.2193 - accuracy: 0.7575 - val_loss: 1.1951 - val_accuracy: 0.7589\n",
      "Epoch 6/7\n",
      "60000/60000 [==============================] - 22s 367us/step - loss: 1.1882 - accuracy: 0.7604 - val_loss: 1.1595 - val_accuracy: 0.7678\n",
      "Epoch 7/7\n",
      "60000/60000 [==============================] - 21s 342us/step - loss: 1.1517 - accuracy: 0.7651 - val_loss: 1.1250 - val_accuracy: 0.7768\n"
     ]
    }
   ],
   "source": [
    "history = model.fit(x_train,y_train\n",
    "         ,epochs=7 #number of times that model will through in train \n",
    "         ,batch_size = 32 #number of rows that will be consider to update the weights of layers\n",
    "         ,verbose = 1\n",
    "         ,validation_data=(x_test,y_test)\n",
    "         )"
   ]
  },
  {
   "cell_type": "code",
   "execution_count": 59,
   "metadata": {},
   "outputs": [
    {
     "name": "stdout",
     "output_type": "stream",
     "text": [
      "> 86.160\n"
     ]
    }
   ],
   "source": [
    "# evaluate model\n",
    "_, acc = model.evaluate(x_test, y_test, verbose=0)\n",
    "print('> %.3f' % (acc * 100.0))"
   ]
  },
  {
   "cell_type": "code",
   "execution_count": null,
   "metadata": {},
   "outputs": [],
   "source": []
  }
 ],
 "metadata": {
  "kernelspec": {
   "display_name": "Python 3",
   "language": "python",
   "name": "python3"
  },
  "language_info": {
   "codemirror_mode": {
    "name": "ipython",
    "version": 3
   },
   "file_extension": ".py",
   "mimetype": "text/x-python",
   "name": "python",
   "nbconvert_exporter": "python",
   "pygments_lexer": "ipython3",
   "version": "3.7.4"
  },
  "toc": {
   "base_numbering": 1,
   "nav_menu": {},
   "number_sections": false,
   "sideBar": true,
   "skip_h1_title": false,
   "title_cell": "Table of Contents",
   "title_sidebar": "Contents",
   "toc_cell": false,
   "toc_position": {},
   "toc_section_display": true,
   "toc_window_display": false
  }
 },
 "nbformat": 4,
 "nbformat_minor": 2
}
