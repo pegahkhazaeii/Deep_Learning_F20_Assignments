{
 "cells": [
  {
   "cell_type": "code",
   "execution_count": 6,
   "metadata": {
    "id": "Bv-G-HRu9qo1"
   },
   "outputs": [],
   "source": [
    "from __future__ import print_function\n",
    "import keras\n",
    "from keras.datasets import cifar10\n",
    "from keras.preprocessing.image import ImageDataGenerator\n",
    "from keras.models import Sequential\n",
    "from keras.layers import Dense, Dropout, Activation, Flatten\n",
    "from keras.layers import Conv2D, MaxPooling2D\n",
    "import tensorflow as tf\n",
    "\n",
    "import numpy as np\n",
    "\n",
    "import seaborn as sns\n",
    "import matplotlib\n",
    "import matplotlib.pyplot as plt\n",
    "\n",
    "from sklearn.metrics import confusion_matrix, classification_report\n",
    "import itertools"
   ]
  },
  {
   "cell_type": "code",
   "execution_count": 7,
   "metadata": {
    "id": "advijaUO9s0k"
   },
   "outputs": [],
   "source": [
    "batch_size = 32  # The default batch size of keras.\n",
    "num_classes = 10  # Number of class for the dataset\n",
    "epochs = 100\n",
    "data_augmentation = False"
   ]
  },
  {
   "cell_type": "code",
   "execution_count": 8,
   "metadata": {
    "colab": {
     "base_uri": "https://localhost:8080/"
    },
    "id": "QvPKdirE99xW",
    "outputId": "934fb1fa-340f-4095-dbed-1cc6c8c6385d"
   },
   "outputs": [
    {
     "name": "stdout",
     "output_type": "stream",
     "text": [
      "Downloading data from https://www.cs.toronto.edu/~kriz/cifar-10-python.tar.gz\n",
      "170500096/170498071 [==============================] - 2s 0us/step\n",
      "x_train shape: (50000, 32, 32, 3)\n",
      "y_train shape: (50000, 1)\n",
      "50000 train samples\n",
      "10000 test samples\n"
     ]
    }
   ],
   "source": [
    "(x_train, y_train), (x_test, y_test) = tf.keras.datasets.cifar10.load_data()\n",
    "print('x_train shape:', x_train.shape)\n",
    "print('y_train shape:', y_train.shape)\n",
    "print(x_train.shape[0], 'train samples')\n",
    "print(x_test.shape[0], 'test samples')"
   ]
  },
  {
   "cell_type": "code",
   "execution_count": 9,
   "metadata": {
    "id": "oJBnHvbK-CEw"
   },
   "outputs": [],
   "source": [
    "x_train = x_train.astype('float32')\n",
    "x_test = x_test.astype('float32')\n",
    "x_train /= 255\n",
    "x_test /= 255\n",
    "\n",
    "# Convert class vectors to binary class matrices. This is called one hot encoding.\n",
    "y_train = keras.utils.to_categorical(y_train, num_classes)\n",
    "y_test = keras.utils.to_categorical(y_test, num_classes)"
   ]
  },
  {
   "cell_type": "markdown",
   "metadata": {
    "id": "RjOSqt-Mh8cb"
   },
   "source": [
    "## **Without Data Aygmentation**"
   ]
  },
  {
   "cell_type": "code",
   "execution_count": 22,
   "metadata": {
    "colab": {
     "base_uri": "https://localhost:8080/"
    },
    "id": "X6e6Skdg_Qj5",
    "outputId": "f2633e6b-9105-45e3-e42d-95d029388500"
   },
   "outputs": [
    {
     "name": "stdout",
     "output_type": "stream",
     "text": [
      "Model: \"sequential_2\"\n",
      "_________________________________________________________________\n",
      "Layer (type)                 Output Shape              Param #   \n",
      "=================================================================\n",
      "conv2d_8 (Conv2D)            (None, 32, 32, 32)        896       \n",
      "_________________________________________________________________\n",
      "activation_12 (Activation)   (None, 32, 32, 32)        0         \n",
      "_________________________________________________________________\n",
      "conv2d_9 (Conv2D)            (None, 30, 30, 32)        9248      \n",
      "_________________________________________________________________\n",
      "activation_13 (Activation)   (None, 30, 30, 32)        0         \n",
      "_________________________________________________________________\n",
      "max_pooling2d_4 (MaxPooling2 (None, 15, 15, 32)        0         \n",
      "_________________________________________________________________\n",
      "dropout_6 (Dropout)          (None, 15, 15, 32)        0         \n",
      "_________________________________________________________________\n",
      "conv2d_10 (Conv2D)           (None, 15, 15, 64)        18496     \n",
      "_________________________________________________________________\n",
      "activation_14 (Activation)   (None, 15, 15, 64)        0         \n",
      "_________________________________________________________________\n",
      "conv2d_11 (Conv2D)           (None, 13, 13, 64)        36928     \n",
      "_________________________________________________________________\n",
      "activation_15 (Activation)   (None, 13, 13, 64)        0         \n",
      "_________________________________________________________________\n",
      "max_pooling2d_5 (MaxPooling2 (None, 6, 6, 64)          0         \n",
      "_________________________________________________________________\n",
      "dropout_7 (Dropout)          (None, 6, 6, 64)          0         \n",
      "_________________________________________________________________\n",
      "flatten_2 (Flatten)          (None, 2304)              0         \n",
      "_________________________________________________________________\n",
      "dense_4 (Dense)              (None, 512)               1180160   \n",
      "_________________________________________________________________\n",
      "activation_16 (Activation)   (None, 512)               0         \n",
      "_________________________________________________________________\n",
      "dropout_8 (Dropout)          (None, 512)               0         \n",
      "_________________________________________________________________\n",
      "dense_5 (Dense)              (None, 10)                5130      \n",
      "_________________________________________________________________\n",
      "activation_17 (Activation)   (None, 10)                0         \n",
      "=================================================================\n",
      "Total params: 1,250,858\n",
      "Trainable params: 1,250,858\n",
      "Non-trainable params: 0\n",
      "_________________________________________________________________\n"
     ]
    }
   ],
   "source": [
    "#define the convnet\n",
    "model = Sequential()\n",
    "# CONV => RELU => CONV => RELU => POOL => DROPOUT\n",
    "model.add(Conv2D(32, (3, 3), padding='same',input_shape=x_train.shape[1:]))\n",
    "model.add(Activation('relu'))\n",
    "model.add(Conv2D(32, (3, 3)))\n",
    "model.add(Activation('relu'))\n",
    "model.add(MaxPooling2D(pool_size=(2, 2)))\n",
    "model.add(Dropout(0.25))\n",
    "\n",
    "# CONV => RELU => CONV => RELU => POOL => DROPOUT\n",
    "model.add(Conv2D(64, (3, 3), padding='same'))\n",
    "model.add(Activation('relu'))\n",
    "model.add(Conv2D(64, (3, 3)))\n",
    "model.add(Activation('relu'))\n",
    "model.add(MaxPooling2D(pool_size=(2, 2)))\n",
    "model.add(Dropout(0.25))\n",
    "\n",
    "# FLATTERN => DENSE => RELU => DROPOUT\n",
    "model.add(Flatten())\n",
    "model.add(Dense(512))\n",
    "model.add(Activation('relu'))\n",
    "model.add(Dropout(0.5))\n",
    "# a softmax classifier\n",
    "model.add(Dense(num_classes))\n",
    "model.add(Activation('softmax'))\n",
    "\n",
    "model.summary()"
   ]
  },
  {
   "cell_type": "code",
   "execution_count": 23,
   "metadata": {
    "id": "x0hsjvdM_VQ9"
   },
   "outputs": [],
   "source": [
    "opt = keras.optimizers.RMSprop(learning_rate=0.0001, decay=1e-6)\n",
    "\n",
    "# Let's train the model using RMSprop\n",
    "model.compile(loss='categorical_crossentropy',\n",
    "              optimizer=opt,\n",
    "              metrics=['accuracy'])"
   ]
  },
  {
   "cell_type": "code",
   "execution_count": 24,
   "metadata": {
    "id": "vOa7v1xBCgZk"
   },
   "outputs": [],
   "source": [
    "history = model.fit(x_train, y_train, epochs=epochs, batch_size=batch_size, validation_data=(x_test, y_test), verbose=0)"
   ]
  },
  {
   "cell_type": "code",
   "execution_count": 25,
   "metadata": {
    "colab": {
     "base_uri": "https://localhost:8080/"
    },
    "id": "vvZwKf0wDmkv",
    "outputId": "4c99d943-df85-450a-9895-826c53b1f8b6"
   },
   "outputs": [
    {
     "name": "stdout",
     "output_type": "stream",
     "text": [
      "> 78.450\n"
     ]
    }
   ],
   "source": [
    "_, acc = model.evaluate(x_test, y_test, verbose=0)\n",
    "print('> %.3f' % (acc * 100.0))"
   ]
  },
  {
   "cell_type": "code",
   "execution_count": 26,
   "metadata": {
    "colab": {
     "base_uri": "https://localhost:8080/",
     "height": 367
    },
    "id": "C0NXZNRfCtTt",
    "outputId": "746f6e44-5c83-4fd1-a765-bca86799e09d"
   },
   "outputs": [
    {
     "name": "stdout",
     "output_type": "stream",
     "text": [
      "dict_keys(['loss', 'accuracy', 'val_loss', 'val_accuracy'])\n"
     ]
    },
    {
     "data": {
      "image/png": "[encoded data removed]",
      "text/plain": [
       "<Figure size 1080x360 with 2 Axes>"
      ]
     },
     "metadata": {
      "needs_background": "light",
      "tags": []
     },
     "output_type": "display_data"
    }
   ],
   "source": [
    "def plotmodelhistory(history): \n",
    "    fig, axs = plt.subplots(1,2,figsize=(15,5)) \n",
    "    # summarize history for accuracy\n",
    "    axs[0].plot(history.history['accuracy']) \n",
    "    axs[0].plot(history.history['val_accuracy']) \n",
    "    axs[0].set_title('Model Accuracy')\n",
    "    axs[0].set_ylabel('Accuracy') \n",
    "    axs[0].set_xlabel('Epoch')\n",
    "    axs[0].legend(['train', 'validate'], loc='upper left')\n",
    "    # summarize history for loss\n",
    "    axs[1].plot(history.history['loss']) \n",
    "    axs[1].plot(history.history['val_loss']) \n",
    "    axs[1].set_title('Model Loss')\n",
    "    axs[1].set_ylabel('Loss') \n",
    "    axs[1].set_xlabel('Epoch')\n",
    "    axs[1].legend(['train', 'validate'], loc='upper left')\n",
    "    plt.show()\n",
    "\n",
    "# list all data in history\n",
    "print(history.history.keys())\n",
    "\n",
    "plotmodelhistory(history)"
   ]
  },
  {
   "cell_type": "markdown",
   "metadata": {
    "id": "AvoypiTuiFYz"
   },
   "source": [
    "## **With Data Augmentation**"
   ]
  },
  {
   "cell_type": "code",
   "execution_count": 27,
   "metadata": {
    "colab": {
     "base_uri": "https://localhost:8080/"
    },
    "id": "J6t9sooBTL2g",
    "outputId": "ab2133ba-3310-41a9-c7d5-a566d481b193"
   },
   "outputs": [
    {
     "name": "stdout",
     "output_type": "stream",
     "text": [
      "Model: \"sequential_3\"\n",
      "_________________________________________________________________\n",
      "Layer (type)                 Output Shape              Param #   \n",
      "=================================================================\n",
      "conv2d_12 (Conv2D)           (None, 32, 32, 32)        896       \n",
      "_________________________________________________________________\n",
      "activation_18 (Activation)   (None, 32, 32, 32)        0         \n",
      "_________________________________________________________________\n",
      "conv2d_13 (Conv2D)           (None, 30, 30, 32)        9248      \n",
      "_________________________________________________________________\n",
      "activation_19 (Activation)   (None, 30, 30, 32)        0         \n",
      "_________________________________________________________________\n",
      "max_pooling2d_6 (MaxPooling2 (None, 15, 15, 32)        0         \n",
      "_________________________________________________________________\n",
      "dropout_9 (Dropout)          (None, 15, 15, 32)        0         \n",
      "_________________________________________________________________\n",
      "conv2d_14 (Conv2D)           (None, 15, 15, 64)        18496     \n",
      "_________________________________________________________________\n",
      "activation_20 (Activation)   (None, 15, 15, 64)        0         \n",
      "_________________________________________________________________\n",
      "conv2d_15 (Conv2D)           (None, 13, 13, 64)        36928     \n",
      "_________________________________________________________________\n",
      "activation_21 (Activation)   (None, 13, 13, 64)        0         \n",
      "_________________________________________________________________\n",
      "max_pooling2d_7 (MaxPooling2 (None, 6, 6, 64)          0         \n",
      "_________________________________________________________________\n",
      "dropout_10 (Dropout)         (None, 6, 6, 64)          0         \n",
      "_________________________________________________________________\n",
      "flatten_3 (Flatten)          (None, 2304)              0         \n",
      "_________________________________________________________________\n",
      "dense_6 (Dense)              (None, 512)               1180160   \n",
      "_________________________________________________________________\n",
      "activation_22 (Activation)   (None, 512)               0         \n",
      "_________________________________________________________________\n",
      "dropout_11 (Dropout)         (None, 512)               0         \n",
      "_________________________________________________________________\n",
      "dense_7 (Dense)              (None, 10)                5130      \n",
      "_________________________________________________________________\n",
      "activation_23 (Activation)   (None, 10)                0         \n",
      "=================================================================\n",
      "Total params: 1,250,858\n",
      "Trainable params: 1,250,858\n",
      "Non-trainable params: 0\n",
      "_________________________________________________________________\n"
     ]
    }
   ],
   "source": [
    "#define the convnet\n",
    "model = Sequential()\n",
    "# CONV => RELU => CONV => RELU => POOL => DROPOUT\n",
    "model.add(Conv2D(32, (3, 3), padding='same',input_shape=x_train.shape[1:]))\n",
    "model.add(Activation('relu'))\n",
    "model.add(Conv2D(32, (3, 3)))\n",
    "model.add(Activation('relu'))\n",
    "model.add(MaxPooling2D(pool_size=(2, 2)))\n",
    "model.add(Dropout(0.25))\n",
    "\n",
    "# CONV => RELU => CONV => RELU => POOL => DROPOUT\n",
    "model.add(Conv2D(64, (3, 3), padding='same'))\n",
    "model.add(Activation('relu'))\n",
    "model.add(Conv2D(64, (3, 3)))\n",
    "model.add(Activation('relu'))\n",
    "model.add(MaxPooling2D(pool_size=(2, 2)))\n",
    "model.add(Dropout(0.25))\n",
    "\n",
    "# FLATTERN => DENSE => RELU => DROPOUT\n",
    "model.add(Flatten())\n",
    "model.add(Dense(512))\n",
    "model.add(Activation('relu'))\n",
    "model.add(Dropout(0.5))\n",
    "# a softmax classifier\n",
    "model.add(Dense(num_classes))\n",
    "model.add(Activation('softmax'))\n",
    "\n",
    "model.summary()"
   ]
  },
  {
   "cell_type": "code",
   "execution_count": 28,
   "metadata": {
    "id": "Uz9S7yYeToea"
   },
   "outputs": [],
   "source": [
    "opt = keras.optimizers.RMSprop(learning_rate=0.0001, decay=1e-6)\n",
    "\n",
    "# Let's train the model using RMSprop\n",
    "model.compile(loss='categorical_crossentropy',\n",
    "              optimizer=opt,\n",
    "              metrics=['accuracy'])"
   ]
  },
  {
   "cell_type": "code",
   "execution_count": 30,
   "metadata": {
    "id": "ip4tpcxKTol6"
   },
   "outputs": [],
   "source": [
    "# This will do preprocessing and realtime data augmentation:\n",
    "datagen = ImageDataGenerator(\n",
    "        featurewise_center=False,  # set input mean to 0 over the dataset\n",
    "        samplewise_center=False,  # set each sample mean to 0\n",
    "        featurewise_std_normalization=False,  # divide inputs by std of the dataset\n",
    "        samplewise_std_normalization=False,  # divide each input by its std\n",
    "        zca_whitening=False,  # apply ZCA whitening\n",
    "        zca_epsilon=1e-06,  # epsilon for ZCA whitening\n",
    "        rotation_range=0,  # randomly rotate images in the range (degrees, 0 to 180)\n",
    "        # randomly shift images horizontally (fraction of total width)\n",
    "        width_shift_range=0.1,\n",
    "        # randomly shift images vertically (fraction of total height)\n",
    "        height_shift_range=0.1,\n",
    "        shear_range=0.,  # set range for random shear\n",
    "        zoom_range=0.,  # set range for random zoom\n",
    "        channel_shift_range=0.,  # set range for random channel shifts\n",
    "        # set mode for filling points outside the input boundaries\n",
    "        fill_mode='nearest',\n",
    "        cval=0.,  # value used for fill_mode = \"constant\"\n",
    "        horizontal_flip=True,  # randomly flip images\n",
    "        vertical_flip=False,  # randomly flip images\n",
    "        # set rescaling factor (applied before any other transformation)\n",
    "        rescale=None,\n",
    "        # set function that will be applied on each input\n",
    "        preprocessing_function=None,\n",
    "        # image data format, either \"channels_first\" or \"channels_last\"\n",
    "        data_format=None,\n",
    "        # fraction of images reserved for validation (strictly between 0 and 1)\n",
    "        validation_split=0.0)"
   ]
  },
  {
   "cell_type": "code",
   "execution_count": 31,
   "metadata": {
    "id": "2ebjKvAgT693"
   },
   "outputs": [],
   "source": [
    " datagen.fit(x_train)"
   ]
  },
  {
   "cell_type": "code",
   "execution_count": 33,
   "metadata": {
    "colab": {
     "base_uri": "https://localhost:8080/"
    },
    "id": "790amAhsT-J0",
    "outputId": "7850ad1d-c65f-4281-8457-6461a54b0318"
   },
   "outputs": [
    {
     "name": "stdout",
     "output_type": "stream",
     "text": [
      "WARNING:tensorflow:From <ipython-input-33-39f564a282ac>:6: Model.fit_generator (from tensorflow.python.keras.engine.training) is deprecated and will be removed in a future version.\n",
      "Instructions for updating:\n",
      "Please use Model.fit, which supports generators.\n",
      "Epoch 1/100\n",
      "1563/1563 [==============================] - 33s 21ms/step - loss: 1.8350 - accuracy: 0.3220 - val_loss: 1.5417 - val_accuracy: 0.4374\n",
      "Epoch 2/100\n",
      "1563/1563 [==============================] - 33s 21ms/step - loss: 1.5843 - accuracy: 0.4224 - val_loss: 1.3899 - val_accuracy: 0.4941\n",
      "Epoch 3/100\n",
      "1563/1563 [==============================] - 33s 21ms/step - loss: 1.4567 - accuracy: 0.4729 - val_loss: 1.3730 - val_accuracy: 0.5033\n",
      "Epoch 4/100\n",
      "1563/1563 [==============================] - 32s 21ms/step - loss: 1.3704 - accuracy: 0.5061 - val_loss: 1.2268 - val_accuracy: 0.5608\n",
      "Epoch 5/100\n",
      "1563/1563 [==============================] - 32s 21ms/step - loss: 1.2968 - accuracy: 0.5368 - val_loss: 1.1548 - val_accuracy: 0.5872\n",
      "Epoch 6/100\n",
      "1563/1563 [==============================] - 32s 21ms/step - loss: 1.2393 - accuracy: 0.5593 - val_loss: 1.2115 - val_accuracy: 0.5720\n",
      "Epoch 7/100\n",
      "1563/1563 [==============================] - 33s 21ms/step - loss: 1.1953 - accuracy: 0.5775 - val_loss: 1.0672 - val_accuracy: 0.6260\n",
      "Epoch 8/100\n",
      "1563/1563 [==============================] - 33s 21ms/step - loss: 1.1566 - accuracy: 0.5901 - val_loss: 1.0876 - val_accuracy: 0.6223\n",
      "Epoch 9/100\n",
      "1563/1563 [==============================] - 33s 21ms/step - loss: 1.1210 - accuracy: 0.6050 - val_loss: 1.1072 - val_accuracy: 0.6177\n",
      "Epoch 10/100\n",
      "1563/1563 [==============================] - 32s 21ms/step - loss: 1.0923 - accuracy: 0.6168 - val_loss: 0.9687 - val_accuracy: 0.6622\n",
      "Epoch 11/100\n",
      "1563/1563 [==============================] - 32s 21ms/step - loss: 1.0658 - accuracy: 0.6224 - val_loss: 0.9079 - val_accuracy: 0.6827\n",
      "Epoch 12/100\n",
      "1563/1563 [==============================] - 32s 21ms/step - loss: 1.0366 - accuracy: 0.6338 - val_loss: 0.9415 - val_accuracy: 0.6718\n",
      "Epoch 13/100\n",
      "1563/1563 [==============================] - 33s 21ms/step - loss: 1.0171 - accuracy: 0.6443 - val_loss: 0.8911 - val_accuracy: 0.6850\n",
      "Epoch 14/100\n",
      "1563/1563 [==============================] - 32s 21ms/step - loss: 0.9913 - accuracy: 0.6527 - val_loss: 0.8740 - val_accuracy: 0.6904\n",
      "Epoch 15/100\n",
      "1563/1563 [==============================] - 32s 21ms/step - loss: 0.9795 - accuracy: 0.6572 - val_loss: 0.8611 - val_accuracy: 0.6985\n",
      "Epoch 16/100\n",
      "1563/1563 [==============================] - 32s 21ms/step - loss: 0.9586 - accuracy: 0.6660 - val_loss: 0.8238 - val_accuracy: 0.7120\n",
      "Epoch 17/100\n",
      "1563/1563 [==============================] - 33s 21ms/step - loss: 0.9484 - accuracy: 0.6694 - val_loss: 0.8334 - val_accuracy: 0.7061\n",
      "Epoch 18/100\n",
      "1563/1563 [==============================] - 32s 21ms/step - loss: 0.9328 - accuracy: 0.6741 - val_loss: 0.8074 - val_accuracy: 0.7147\n",
      "Epoch 19/100\n",
      "1563/1563 [==============================] - 32s 20ms/step - loss: 0.9251 - accuracy: 0.6757 - val_loss: 0.8042 - val_accuracy: 0.7182\n",
      "Epoch 20/100\n",
      "1563/1563 [==============================] - 32s 20ms/step - loss: 0.9095 - accuracy: 0.6835 - val_loss: 0.8265 - val_accuracy: 0.7082\n",
      "Epoch 21/100\n",
      "1563/1563 [==============================] - 32s 20ms/step - loss: 0.9016 - accuracy: 0.6873 - val_loss: 0.8257 - val_accuracy: 0.7094\n",
      "Epoch 22/100\n",
      "1563/1563 [==============================] - 32s 21ms/step - loss: 0.8913 - accuracy: 0.6921 - val_loss: 0.8147 - val_accuracy: 0.7212\n",
      "Epoch 23/100\n",
      "1563/1563 [==============================] - 32s 20ms/step - loss: 0.8834 - accuracy: 0.6921 - val_loss: 0.7667 - val_accuracy: 0.7317\n",
      "Epoch 24/100\n",
      "1563/1563 [==============================] - 32s 20ms/step - loss: 0.8735 - accuracy: 0.6969 - val_loss: 0.7849 - val_accuracy: 0.7275\n",
      "Epoch 25/100\n",
      "1563/1563 [==============================] - 32s 20ms/step - loss: 0.8645 - accuracy: 0.7014 - val_loss: 0.8186 - val_accuracy: 0.7108\n",
      "Epoch 26/100\n",
      "1563/1563 [==============================] - 32s 20ms/step - loss: 0.8620 - accuracy: 0.7022 - val_loss: 0.7479 - val_accuracy: 0.7436\n",
      "Epoch 27/100\n",
      "1563/1563 [==============================] - 33s 21ms/step - loss: 0.8582 - accuracy: 0.7048 - val_loss: 0.7907 - val_accuracy: 0.7344\n",
      "Epoch 28/100\n",
      "1563/1563 [==============================] - 32s 20ms/step - loss: 0.8500 - accuracy: 0.7063 - val_loss: 0.7812 - val_accuracy: 0.7352\n",
      "Epoch 29/100\n",
      "1563/1563 [==============================] - 31s 20ms/step - loss: 0.8491 - accuracy: 0.7089 - val_loss: 0.7171 - val_accuracy: 0.7548\n",
      "Epoch 30/100\n",
      "1563/1563 [==============================] - 32s 20ms/step - loss: 0.8380 - accuracy: 0.7108 - val_loss: 0.7494 - val_accuracy: 0.7433\n",
      "Epoch 31/100\n",
      "1563/1563 [==============================] - 32s 20ms/step - loss: 0.8429 - accuracy: 0.7113 - val_loss: 0.7016 - val_accuracy: 0.7617\n",
      "Epoch 32/100\n",
      "1563/1563 [==============================] - 32s 20ms/step - loss: 0.8343 - accuracy: 0.7133 - val_loss: 0.7266 - val_accuracy: 0.7503\n",
      "Epoch 33/100\n",
      "1563/1563 [==============================] - 32s 20ms/step - loss: 0.8268 - accuracy: 0.7182 - val_loss: 0.7255 - val_accuracy: 0.7535\n",
      "Epoch 34/100\n",
      "1563/1563 [==============================] - 31s 20ms/step - loss: 0.8323 - accuracy: 0.7154 - val_loss: 0.6905 - val_accuracy: 0.7652\n",
      "Epoch 35/100\n",
      "1563/1563 [==============================] - 31s 20ms/step - loss: 0.8251 - accuracy: 0.7182 - val_loss: 0.7281 - val_accuracy: 0.7542\n",
      "Epoch 36/100\n",
      "1563/1563 [==============================] - 32s 20ms/step - loss: 0.8240 - accuracy: 0.7189 - val_loss: 0.7516 - val_accuracy: 0.7482\n",
      "Epoch 37/100\n",
      "1563/1563 [==============================] - 32s 20ms/step - loss: 0.8103 - accuracy: 0.7227 - val_loss: 0.7467 - val_accuracy: 0.7490\n",
      "Epoch 38/100\n",
      "1563/1563 [==============================] - 32s 20ms/step - loss: 0.8125 - accuracy: 0.7227 - val_loss: 0.7228 - val_accuracy: 0.7560\n",
      "Epoch 39/100\n",
      "1563/1563 [==============================] - 31s 20ms/step - loss: 0.8163 - accuracy: 0.7220 - val_loss: 0.7235 - val_accuracy: 0.7561\n",
      "Epoch 40/100\n",
      "1563/1563 [==============================] - 32s 20ms/step - loss: 0.8075 - accuracy: 0.7270 - val_loss: 0.7474 - val_accuracy: 0.7467\n",
      "Epoch 41/100\n",
      "1563/1563 [==============================] - 32s 20ms/step - loss: 0.8046 - accuracy: 0.7266 - val_loss: 0.7256 - val_accuracy: 0.7525\n",
      "Epoch 42/100\n",
      "1563/1563 [==============================] - 31s 20ms/step - loss: 0.8034 - accuracy: 0.7259 - val_loss: 0.6815 - val_accuracy: 0.7743\n",
      "Epoch 43/100\n",
      "1563/1563 [==============================] - 31s 20ms/step - loss: 0.8080 - accuracy: 0.7272 - val_loss: 0.7053 - val_accuracy: 0.7642\n",
      "Epoch 44/100\n",
      "1563/1563 [==============================] - 32s 20ms/step - loss: 0.8030 - accuracy: 0.7288 - val_loss: 0.6937 - val_accuracy: 0.7672\n",
      "Epoch 45/100\n",
      "1563/1563 [==============================] - 32s 20ms/step - loss: 0.7986 - accuracy: 0.7299 - val_loss: 0.7231 - val_accuracy: 0.7561\n",
      "Epoch 46/100\n",
      "1563/1563 [==============================] - 32s 21ms/step - loss: 0.7969 - accuracy: 0.7312 - val_loss: 0.7050 - val_accuracy: 0.7665\n",
      "Epoch 47/100\n",
      "1563/1563 [==============================] - 31s 20ms/step - loss: 0.7949 - accuracy: 0.7320 - val_loss: 0.7558 - val_accuracy: 0.7480\n",
      "Epoch 48/100\n",
      "1563/1563 [==============================] - 32s 20ms/step - loss: 0.7951 - accuracy: 0.7290 - val_loss: 0.7065 - val_accuracy: 0.7668\n",
      "Epoch 49/100\n",
      "1563/1563 [==============================] - 31s 20ms/step - loss: 0.7980 - accuracy: 0.7296 - val_loss: 0.7023 - val_accuracy: 0.7758\n",
      "Epoch 50/100\n",
      "1563/1563 [==============================] - 32s 20ms/step - loss: 0.7869 - accuracy: 0.7329 - val_loss: 0.7322 - val_accuracy: 0.7588\n",
      "Epoch 51/100\n",
      "1563/1563 [==============================] - 31s 20ms/step - loss: 0.7918 - accuracy: 0.7331 - val_loss: 0.6982 - val_accuracy: 0.7693\n",
      "Epoch 52/100\n",
      "1563/1563 [==============================] - 32s 20ms/step - loss: 0.7953 - accuracy: 0.7329 - val_loss: 0.6858 - val_accuracy: 0.7715\n",
      "Epoch 53/100\n",
      "1563/1563 [==============================] - 31s 20ms/step - loss: 0.7822 - accuracy: 0.7365 - val_loss: 0.6752 - val_accuracy: 0.7777\n",
      "Epoch 54/100\n",
      "1563/1563 [==============================] - 31s 20ms/step - loss: 0.7943 - accuracy: 0.7316 - val_loss: 0.6834 - val_accuracy: 0.7784\n",
      "Epoch 55/100\n",
      "1563/1563 [==============================] - 31s 20ms/step - loss: 0.7838 - accuracy: 0.7381 - val_loss: 0.7851 - val_accuracy: 0.7378\n",
      "Epoch 56/100\n",
      "1563/1563 [==============================] - 32s 21ms/step - loss: 0.7905 - accuracy: 0.7357 - val_loss: 0.7315 - val_accuracy: 0.7600\n",
      "Epoch 57/100\n",
      "1563/1563 [==============================] - 31s 20ms/step - loss: 0.7940 - accuracy: 0.7337 - val_loss: 0.6730 - val_accuracy: 0.7833\n",
      "Epoch 58/100\n",
      "1563/1563 [==============================] - 31s 20ms/step - loss: 0.7882 - accuracy: 0.7360 - val_loss: 0.6749 - val_accuracy: 0.7752\n",
      "Epoch 59/100\n",
      "1563/1563 [==============================] - 31s 20ms/step - loss: 0.7868 - accuracy: 0.7364 - val_loss: 0.6881 - val_accuracy: 0.7744\n",
      "Epoch 60/100\n",
      "1563/1563 [==============================] - 32s 20ms/step - loss: 0.7858 - accuracy: 0.7361 - val_loss: 0.6834 - val_accuracy: 0.7711\n",
      "Epoch 61/100\n",
      "1563/1563 [==============================] - 32s 20ms/step - loss: 0.7916 - accuracy: 0.7367 - val_loss: 0.6485 - val_accuracy: 0.7843\n",
      "Epoch 62/100\n",
      "1563/1563 [==============================] - 31s 20ms/step - loss: 0.7869 - accuracy: 0.7359 - val_loss: 0.6937 - val_accuracy: 0.7674\n",
      "Epoch 63/100\n",
      "1563/1563 [==============================] - 32s 20ms/step - loss: 0.7851 - accuracy: 0.7353 - val_loss: 0.6649 - val_accuracy: 0.7838\n",
      "Epoch 64/100\n",
      "1563/1563 [==============================] - 31s 20ms/step - loss: 0.7890 - accuracy: 0.7339 - val_loss: 0.6984 - val_accuracy: 0.7693\n",
      "Epoch 65/100\n",
      "1563/1563 [==============================] - 32s 20ms/step - loss: 0.7793 - accuracy: 0.7366 - val_loss: 0.6415 - val_accuracy: 0.7907\n",
      "Epoch 66/100\n",
      "1563/1563 [==============================] - 32s 20ms/step - loss: 0.7849 - accuracy: 0.7372 - val_loss: 0.6674 - val_accuracy: 0.7809\n",
      "Epoch 67/100\n",
      "1563/1563 [==============================] - 31s 20ms/step - loss: 0.7856 - accuracy: 0.7367 - val_loss: 0.6794 - val_accuracy: 0.7687\n",
      "Epoch 68/100\n",
      "1563/1563 [==============================] - 32s 20ms/step - loss: 0.7833 - accuracy: 0.7384 - val_loss: 0.7083 - val_accuracy: 0.7743\n",
      "Epoch 69/100\n",
      "1563/1563 [==============================] - 31s 20ms/step - loss: 0.7811 - accuracy: 0.7410 - val_loss: 0.6894 - val_accuracy: 0.7648\n",
      "Epoch 70/100\n",
      "1563/1563 [==============================] - 31s 20ms/step - loss: 0.7849 - accuracy: 0.7363 - val_loss: 0.6345 - val_accuracy: 0.7917\n",
      "Epoch 71/100\n",
      "1563/1563 [==============================] - 31s 20ms/step - loss: 0.7897 - accuracy: 0.7351 - val_loss: 0.7463 - val_accuracy: 0.7547\n",
      "Epoch 72/100\n",
      "1563/1563 [==============================] - 31s 20ms/step - loss: 0.7894 - accuracy: 0.7379 - val_loss: 0.7141 - val_accuracy: 0.7704\n",
      "Epoch 73/100\n",
      "1563/1563 [==============================] - 31s 20ms/step - loss: 0.7897 - accuracy: 0.7364 - val_loss: 0.6742 - val_accuracy: 0.7719\n",
      "Epoch 74/100\n",
      "1563/1563 [==============================] - 31s 20ms/step - loss: 0.7824 - accuracy: 0.7399 - val_loss: 0.6647 - val_accuracy: 0.7791\n",
      "Epoch 75/100\n",
      "1563/1563 [==============================] - 32s 20ms/step - loss: 0.7854 - accuracy: 0.7365 - val_loss: 0.6999 - val_accuracy: 0.7740\n",
      "Epoch 76/100\n",
      "1563/1563 [==============================] - 32s 20ms/step - loss: 0.7895 - accuracy: 0.7369 - val_loss: 0.7601 - val_accuracy: 0.7470\n",
      "Epoch 77/100\n",
      "1563/1563 [==============================] - 31s 20ms/step - loss: 0.7868 - accuracy: 0.7383 - val_loss: 0.7220 - val_accuracy: 0.7765\n",
      "Epoch 78/100\n",
      "1563/1563 [==============================] - 31s 20ms/step - loss: 0.7890 - accuracy: 0.7344 - val_loss: 0.7255 - val_accuracy: 0.7619\n",
      "Epoch 79/100\n",
      "1563/1563 [==============================] - 31s 20ms/step - loss: 0.7839 - accuracy: 0.7409 - val_loss: 0.6826 - val_accuracy: 0.7755\n",
      "Epoch 80/100\n",
      "1563/1563 [==============================] - 31s 20ms/step - loss: 0.7913 - accuracy: 0.7362 - val_loss: 0.7451 - val_accuracy: 0.7681\n",
      "Epoch 81/100\n",
      "1563/1563 [==============================] - 31s 20ms/step - loss: 0.7864 - accuracy: 0.7405 - val_loss: 0.7016 - val_accuracy: 0.7636\n",
      "Epoch 82/100\n",
      "1563/1563 [==============================] - 31s 20ms/step - loss: 0.7850 - accuracy: 0.7394 - val_loss: 0.6876 - val_accuracy: 0.7775\n",
      "Epoch 83/100\n",
      "1563/1563 [==============================] - 31s 20ms/step - loss: 0.7981 - accuracy: 0.7349 - val_loss: 0.7653 - val_accuracy: 0.7498\n",
      "Epoch 84/100\n",
      "1563/1563 [==============================] - 31s 20ms/step - loss: 0.7880 - accuracy: 0.7384 - val_loss: 0.7527 - val_accuracy: 0.7545\n",
      "Epoch 85/100\n",
      "1563/1563 [==============================] - 31s 20ms/step - loss: 0.7914 - accuracy: 0.7387 - val_loss: 0.7421 - val_accuracy: 0.7591\n",
      "Epoch 86/100\n",
      "1563/1563 [==============================] - 32s 21ms/step - loss: 0.7899 - accuracy: 0.7386 - val_loss: 0.7101 - val_accuracy: 0.7612\n",
      "Epoch 87/100\n",
      "1563/1563 [==============================] - 31s 20ms/step - loss: 0.7925 - accuracy: 0.7381 - val_loss: 0.7452 - val_accuracy: 0.7545\n",
      "Epoch 88/100\n",
      "1563/1563 [==============================] - 32s 20ms/step - loss: 0.7993 - accuracy: 0.7343 - val_loss: 0.6679 - val_accuracy: 0.7830\n",
      "Epoch 89/100\n",
      "1563/1563 [==============================] - 32s 20ms/step - loss: 0.7955 - accuracy: 0.7359 - val_loss: 0.7163 - val_accuracy: 0.7669\n",
      "Epoch 90/100\n",
      "1563/1563 [==============================] - 31s 20ms/step - loss: 0.7914 - accuracy: 0.7392 - val_loss: 0.7789 - val_accuracy: 0.7408\n",
      "Epoch 91/100\n",
      "1563/1563 [==============================] - 31s 20ms/step - loss: 0.7978 - accuracy: 0.7394 - val_loss: 0.7221 - val_accuracy: 0.7551\n",
      "Epoch 92/100\n",
      "1563/1563 [==============================] - 31s 20ms/step - loss: 0.7953 - accuracy: 0.7363 - val_loss: 0.7410 - val_accuracy: 0.7578\n",
      "Epoch 93/100\n",
      "1563/1563 [==============================] - 31s 20ms/step - loss: 0.7963 - accuracy: 0.7369 - val_loss: 0.6962 - val_accuracy: 0.7691\n",
      "Epoch 94/100\n",
      "1563/1563 [==============================] - 32s 20ms/step - loss: 0.7946 - accuracy: 0.7390 - val_loss: 0.6779 - val_accuracy: 0.7753\n",
      "Epoch 95/100\n",
      "1563/1563 [==============================] - 32s 20ms/step - loss: 0.7985 - accuracy: 0.7379 - val_loss: 0.7969 - val_accuracy: 0.7436\n",
      "Epoch 96/100\n",
      "1563/1563 [==============================] - 32s 20ms/step - loss: 0.7977 - accuracy: 0.7359 - val_loss: 0.7694 - val_accuracy: 0.7515\n",
      "Epoch 97/100\n",
      "1563/1563 [==============================] - 31s 20ms/step - loss: 0.8049 - accuracy: 0.7370 - val_loss: 0.7993 - val_accuracy: 0.7535\n",
      "Epoch 98/100\n",
      "1563/1563 [==============================] - 31s 20ms/step - loss: 0.7987 - accuracy: 0.7359 - val_loss: 0.7360 - val_accuracy: 0.7557\n",
      "Epoch 99/100\n",
      "1563/1563 [==============================] - 31s 20ms/step - loss: 0.8095 - accuracy: 0.7343 - val_loss: 0.7923 - val_accuracy: 0.7459\n",
      "Epoch 100/100\n",
      "1563/1563 [==============================] - 31s 20ms/step - loss: 0.8071 - accuracy: 0.7337 - val_loss: 0.7551 - val_accuracy: 0.7558\n"
     ]
    }
   ],
   "source": [
    "# Fit the model on the batches generated by datagen.flow().\n",
    "history = model.fit_generator(datagen.flow(x_train, y_train,\n",
    "                                    batch_size=batch_size),\n",
    "                                    epochs=epochs,\n",
    "                                    validation_data=(x_test, y_test),\n",
    "                                    workers=4)"
   ]
  },
  {
   "cell_type": "code",
   "execution_count": 34,
   "metadata": {
    "colab": {
     "base_uri": "https://localhost:8080/"
    },
    "id": "L2Q8Gg8tg3ck",
    "outputId": "fecb2870-e93f-4ca7-f656-12d1078d896e"
   },
   "outputs": [
    {
     "name": "stdout",
     "output_type": "stream",
     "text": [
      "> 75.580\n"
     ]
    }
   ],
   "source": [
    "_, acc = model.evaluate(x_test, y_test, verbose=0)\n",
    "print('> %.3f' % (acc * 100.0))"
   ]
  },
  {
   "cell_type": "code",
   "execution_count": 35,
   "metadata": {
    "colab": {
     "base_uri": "https://localhost:8080/",
     "height": 367
    },
    "id": "5kkAe5hFGHfw",
    "outputId": "77a05545-0a3a-4e25-faea-33f75e3e2be0"
   },
   "outputs": [
    {
     "name": "stdout",
     "output_type": "stream",
     "text": [
      "dict_keys(['loss', 'accuracy', 'val_loss', 'val_accuracy'])\n"
     ]
    },
    {
     "data": {
      "image/png": "[encoded data removed]",
      "text/plain": [
       "<Figure size 1080x360 with 2 Axes>"
      ]
     },
     "metadata": {
      "needs_background": "light",
      "tags": []
     },
     "output_type": "display_data"
    }
   ],
   "source": [
    "def plotmodelhistory(history): \n",
    "    fig, axs = plt.subplots(1,2,figsize=(15,5)) \n",
    "    # summarize history for accuracy\n",
    "    axs[0].plot(history.history['accuracy']) \n",
    "    axs[0].plot(history.history['val_accuracy']) \n",
    "    axs[0].set_title('Model Accuracy')\n",
    "    axs[0].set_ylabel('Accuracy') \n",
    "    axs[0].set_xlabel('Epoch')\n",
    "    axs[0].legend(['train', 'validate'], loc='upper left')\n",
    "    # summarize history for loss\n",
    "    axs[1].plot(history.history['loss']) \n",
    "    axs[1].plot(history.history['val_loss']) \n",
    "    axs[1].set_title('Model Loss')\n",
    "    axs[1].set_ylabel('Loss') \n",
    "    axs[1].set_xlabel('Epoch')\n",
    "    axs[1].legend(['train', 'validate'], loc='upper left')\n",
    "    plt.show()\n",
    "\n",
    "# list all data in history\n",
    "print(history.history.keys())\n",
    "\n",
    "plotmodelhistory(history)"
   ]
  },
  {
   "cell_type": "code",
   "execution_count": null,
   "metadata": {
    "id": "uv0i3O8BKvAx"
   },
   "outputs": [],
   "source": []
  }
 ],
 "metadata": {
  "accelerator": "GPU",
  "colab": {
   "name": "Data Augmentation-Cifar10-First Model.ipynb",
   "provenance": []
  },
  "kernelspec": {
   "display_name": "Python 3",
   "language": "python",
   "name": "python3"
  },
  "language_info": {
   "codemirror_mode": {
    "name": "ipython",
    "version": 3
   },
   "file_extension": ".py",
   "mimetype": "text/x-python",
   "name": "python",
   "nbconvert_exporter": "python",
   "pygments_lexer": "ipython3",
   "version": "3.7.4"
  },
  "toc": {
   "base_numbering": 1,
   "nav_menu": {},
   "number_sections": false,
   "sideBar": true,
   "skip_h1_title": false,
   "title_cell": "Table of Contents",
   "title_sidebar": "Contents",
   "toc_cell": false,
   "toc_position": {},
   "toc_section_display": true,
   "toc_window_display": false
  }
 },
 "nbformat": 4,
 "nbformat_minor": 1
}
