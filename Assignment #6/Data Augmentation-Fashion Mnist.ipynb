{
 "cells": [
  {
   "cell_type": "code",
   "execution_count": 30,
   "metadata": {},
   "outputs": [],
   "source": [
    "import numpy as np\n",
    "\n",
    "import matplotlib.pyplot as plt\n",
    "\n",
    "\n",
    "import tensorflow as tf\n",
    "from tensorflow import keras\n",
    "\n",
    "from tensorflow.keras.preprocessing.image import ImageDataGenerator"
   ]
  },
  {
   "cell_type": "code",
   "execution_count": 31,
   "metadata": {},
   "outputs": [
    {
     "name": "stdout",
     "output_type": "stream",
     "text": [
      "Downloading data from https://storage.googleapis.com/tensorflow/tf-keras-datasets/train-labels-idx1-ubyte.gz\n",
      "32768/29515 [=================================] - 0s 6us/step\n",
      "Downloading data from https://storage.googleapis.com/tensorflow/tf-keras-datasets/train-images-idx3-ubyte.gz\n",
      "26427392/26421880 [==============================] - 179s 7us/step\n",
      "Downloading data from https://storage.googleapis.com/tensorflow/tf-keras-datasets/t10k-labels-idx1-ubyte.gz\n",
      "8192/5148 [===============================================] - 0s 0us/step\n",
      "Downloading data from https://storage.googleapis.com/tensorflow/tf-keras-datasets/t10k-images-idx3-ubyte.gz\n",
      "4423680/4422102 [==============================] - 24s 5us/step\n"
     ]
    }
   ],
   "source": [
    "from keras.datasets import fashion_mnist\n",
    "\n",
    "(X_train, y_train), (X_test, y_test) = keras.datasets.fashion_mnist.load_data()"
   ]
  },
  {
   "cell_type": "code",
   "execution_count": 32,
   "metadata": {},
   "outputs": [
    {
     "name": "stdout",
     "output_type": "stream",
     "text": [
      "X train 60000 and Test size 10000\n"
     ]
    }
   ],
   "source": [
    "# Count of the X_train and X_test\n",
    "print(\"X train {} and Test size {}\".format(X_train.shape[0], X_test.shape[0]))"
   ]
  },
  {
   "cell_type": "code",
   "execution_count": 33,
   "metadata": {},
   "outputs": [
    {
     "data": {
      "text/plain": [
       "(60000, 28, 28)"
      ]
     },
     "execution_count": 33,
     "metadata": {},
     "output_type": "execute_result"
    }
   ],
   "source": [
    "X_train = X_train.astype('float32')\n",
    "X_test = X_test.astype('float32')\n",
    "\n",
    "X_train /= 255\n",
    "X_test /= 255\n",
    "\n",
    "X_train.shape"
   ]
  },
  {
   "cell_type": "code",
   "execution_count": 34,
   "metadata": {},
   "outputs": [],
   "source": [
    "# Convert to the tensor shape\n",
    "X_train = X_train.reshape(X_train.shape[0], 28, 28, 1).astype('float32')\n",
    "X_test = X_test.reshape(X_test.shape[0], 28, 28, 1).astype('float32')"
   ]
  },
  {
   "cell_type": "code",
   "execution_count": 35,
   "metadata": {},
   "outputs": [
    {
     "name": "stdout",
     "output_type": "stream",
     "text": [
      "X_Train shape (60000, 28, 28, 1)\n",
      "X_Test shape (10000, 28, 28, 1)\n"
     ]
    }
   ],
   "source": [
    "print(\"X_Train shape {}\".format(X_train.shape))\n",
    "print(\"X_Test shape {}\".format(X_test.shape))"
   ]
  },
  {
   "cell_type": "code",
   "execution_count": 36,
   "metadata": {},
   "outputs": [],
   "source": [
    "y_train = keras.utils.to_categorical(y_train, 10)\n",
    "y_test = keras.utils.to_categorical(y_test, 10)"
   ]
  },
  {
   "cell_type": "code",
   "execution_count": null,
   "metadata": {},
   "outputs": [],
   "source": []
  },
  {
   "cell_type": "code",
   "execution_count": 146,
   "metadata": {},
   "outputs": [],
   "source": [
    "st = keras.utils.to_categorical(y_test, 10)\n",
    "model = keras.models.Sequential()\n",
    "    \n",
    "model.add(keras.layers.Convolution2D(32, 3, 3, input_shape=(28, 28, 1)))\n",
    "model.add(keras.layers.Activation('relu'))\n",
    "model.add(keras.layers.Dropout(0.25))\n",
    "    \n",
    "model.add(keras.layers.Convolution2D(32, 3, 3))\n",
    "model.add(keras.layers.Activation('relu'))\n",
    "\n",
    "model.add(keras.layers.Convolution2D(32, 3, 3))\n",
    "model.add(keras.layers.Activation('relu'))\n",
    "model.add(keras.layers.Dropout(0.25))\n",
    "\n",
    "model.add(keras.layers.Flatten())\n",
    "\n",
    "model.add(keras.layers.Dense(128))\n",
    "model.add(keras.layers.Dense(128))\n",
    "model.add(keras.layers.Activation('relu'))\n",
    "    \n",
    "model.add(keras.layers.Dense(10))\n",
    "model.add(keras.layers.Activation('softmax'))"
   ]
  },
  {
   "cell_type": "code",
   "execution_count": 147,
   "metadata": {},
   "outputs": [],
   "source": [
    "keras.optimizers.Adam\n",
    "model.compile(optimizer='adam', loss='categorical_crossentropy', metrics=['accuracy'])"
   ]
  },
  {
   "cell_type": "code",
   "execution_count": 148,
   "metadata": {},
   "outputs": [],
   "source": [
    "history = model.fit(X_train, y_train, epochs=10, batch_size=32, validation_data=(X_test, y_test), verbose=0)"
   ]
  },
  {
   "cell_type": "code",
   "execution_count": 149,
   "metadata": {},
   "outputs": [
    {
     "name": "stdout",
     "output_type": "stream",
     "text": [
      "> 88.060\n"
     ]
    }
   ],
   "source": [
    "_, acc = model.evaluate(X_test, y_test, verbose=0)\n",
    "print('> %.3f' % (acc * 100.0))"
   ]
  },
  {
   "cell_type": "code",
   "execution_count": null,
   "metadata": {},
   "outputs": [],
   "source": []
  },
  {
   "cell_type": "code",
   "execution_count": null,
   "metadata": {},
   "outputs": [],
   "source": []
  },
  {
   "cell_type": "code",
   "execution_count": 150,
   "metadata": {},
   "outputs": [],
   "source": [
    "st = keras.utils.to_categorical(y_test, 10)\n",
    "model = keras.models.Sequential()\n",
    "    \n",
    "model.add(keras.layers.Convolution2D(32, 3, 3, input_shape=(28, 28, 1)))\n",
    "model.add(keras.layers.Activation('relu'))\n",
    "model.add(keras.layers.Dropout(0.25))\n",
    "    \n",
    "model.add(keras.layers.Convolution2D(32, 3, 3))\n",
    "model.add(keras.layers.Activation('relu'))\n",
    "\n",
    "model.add(keras.layers.Convolution2D(32, 3, 3))\n",
    "model.add(keras.layers.Activation('relu'))\n",
    "model.add(keras.layers.Dropout(0.25))\n",
    "\n",
    "model.add(keras.layers.Flatten())\n",
    "\n",
    "model.add(keras.layers.Dense(128))\n",
    "model.add(keras.layers.Dense(128))\n",
    "model.add(keras.layers.Activation('relu'))\n",
    "    \n",
    "model.add(keras.layers.Dense(10))\n",
    "model.add(keras.layers.Activation('softmax'))\n",
    "    \n",
    "\n",
    "    "
   ]
  },
  {
   "cell_type": "code",
   "execution_count": 151,
   "metadata": {},
   "outputs": [],
   "source": [
    "keras.optimizers.Adam\n",
    "model.compile(optimizer='adam', loss='categorical_crossentropy', metrics=['accuracy'])"
   ]
  },
  {
   "cell_type": "code",
   "execution_count": 152,
   "metadata": {},
   "outputs": [],
   "source": [
    "from keras.preprocessing.image import ImageDataGenerator\n",
    "datagen = ImageDataGenerator( featurewise_center=False,\n",
    "        samplewise_center=False,\n",
    "        featurewise_std_normalization=False,\n",
    "        samplewise_std_normalization=False,\n",
    "        zca_whitening=False,\n",
    "        rotation_range=0,\n",
    "        width_shift_range=0.1,\n",
    "        height_shift_range=0.1,\n",
    "        horizontal_flip=True,\n",
    "        vertical_flip=False)"
   ]
  },
  {
   "cell_type": "code",
   "execution_count": 153,
   "metadata": {},
   "outputs": [],
   "source": [
    "steps = int(X_train.shape[0] / 64)"
   ]
  },
  {
   "cell_type": "code",
   "execution_count": 154,
   "metadata": {},
   "outputs": [],
   "source": [
    "datagen.fit(X_train)"
   ]
  },
  {
   "cell_type": "code",
   "execution_count": 155,
   "metadata": {},
   "outputs": [
    {
     "name": "stdout",
     "output_type": "stream",
     "text": [
      "Epoch 1/10\n",
      "10000/10000 [==============================] - 3s 326us/sample - loss: 0.6018 - acc: 0.7536\n",
      "1875/1875 [==============================] - 62s 33ms/step - loss: 0.8895 - acc: 0.6543 - val_loss: 0.6015 - val_acc: 0.7536\n",
      "Epoch 2/10\n",
      "10000/10000 [==============================] - 3s 312us/sample - loss: 0.5373 - acc: 0.7915\n",
      "1875/1875 [==============================] - 63s 33ms/step - loss: 0.6910 - acc: 0.7301 - val_loss: 0.5372 - val_acc: 0.7915\n",
      "Epoch 3/10\n",
      "10000/10000 [==============================] - 4s 360us/sample - loss: 0.5360 - acc: 0.7887\n",
      "1875/1875 [==============================] - 74s 40ms/step - loss: 0.6394 - acc: 0.7522 - val_loss: 0.5361 - val_acc: 0.7887\n",
      "Epoch 4/10\n",
      "10000/10000 [==============================] - 3s 264us/sample - loss: 0.5025 - acc: 0.8127\n",
      "1875/1875 [==============================] - 71s 38ms/step - loss: 0.6095 - acc: 0.7648 - val_loss: 0.5023 - val_acc: 0.8127\n",
      "Epoch 5/10\n",
      "10000/10000 [==============================] - 3s 334us/sample - loss: 0.4979 - acc: 0.7952\n",
      "1875/1875 [==============================] - 73s 39ms/step - loss: 0.5837 - acc: 0.7768 - val_loss: 0.4976 - val_acc: 0.7952\n",
      "Epoch 6/10\n",
      "10000/10000 [==============================] - 4s 360us/sample - loss: 0.4708 - acc: 0.8243s - loss: 0.4688 - a\n",
      "1875/1875 [==============================] - 65s 34ms/step - loss: 0.5697 - acc: 0.7840 - val_loss: 0.4706 - val_acc: 0.8243\n",
      "Epoch 7/10\n",
      "10000/10000 [==============================] - 3s 340us/sample - loss: 0.4742 - acc: 0.8312\n",
      "1875/1875 [==============================] - 71s 38ms/step - loss: 0.5515 - acc: 0.7913 - val_loss: 0.4741 - val_acc: 0.8312\n",
      "Epoch 8/10\n",
      "10000/10000 [==============================] - 3s 334us/sample - loss: 0.4623 - acc: 0.8277\n",
      "1875/1875 [==============================] - 68s 36ms/step - loss: 0.5441 - acc: 0.7944 - val_loss: 0.4620 - val_acc: 0.8277\n",
      "Epoch 9/10\n",
      "10000/10000 [==============================] - 3s 315us/sample - loss: 0.4683 - acc: 0.8252s - loss: 0.432 - ETA\n",
      "1875/1875 [==============================] - 64s 34ms/step - loss: 0.5336 - acc: 0.7980 - val_loss: 0.4682 - val_acc: 0.8252\n",
      "Epoch 10/10\n",
      "10000/10000 [==============================] - 3s 327us/sample - loss: 0.4470 - acc: 0.8415\n",
      "1875/1875 [==============================] - 67s 36ms/step - loss: 0.5231 - acc: 0.8013 - val_loss: 0.4468 - val_acc: 0.8415\n"
     ]
    }
   ],
   "source": [
    "history = model.fit_generator(datagen.flow(X_train, y_train,\n",
    "                                    batch_size=32),\n",
    "                                    epochs=10,\n",
    "                                    validation_data=(X_test, y_test),\n",
    "                                  )"
   ]
  },
  {
   "cell_type": "code",
   "execution_count": 145,
   "metadata": {},
   "outputs": [
    {
     "name": "stdout",
     "output_type": "stream",
     "text": [
      "> 84.000\n"
     ]
    }
   ],
   "source": [
    "_, acc = model.evaluate(X_test, y_test, verbose=0)\n",
    "print('> %.3f' % (acc * 100.0))"
   ]
  },
  {
   "cell_type": "markdown",
   "metadata": {},
   "source": []
  }
 ],
 "metadata": {
  "kernelspec": {
   "display_name": "Python 3",
   "language": "python",
   "name": "python3"
  },
  "language_info": {
   "codemirror_mode": {
    "name": "ipython",
    "version": 3
   },
   "file_extension": ".py",
   "mimetype": "text/x-python",
   "name": "python",
   "nbconvert_exporter": "python",
   "pygments_lexer": "ipython3",
   "version": "3.7.4"
  },
  "toc": {
   "base_numbering": 1,
   "nav_menu": {},
   "number_sections": false,
   "sideBar": true,
   "skip_h1_title": false,
   "title_cell": "Table of Contents",
   "title_sidebar": "Contents",
   "toc_cell": false,
   "toc_position": {},
   "toc_section_display": true,
   "toc_window_display": false
  }
 },
 "nbformat": 4,
 "nbformat_minor": 2
}
