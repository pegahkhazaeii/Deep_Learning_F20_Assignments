{
  "nbformat": 4,
  "nbformat_minor": 0,
  "metadata": {
    "colab": {
      "name": "FashionMnist-Regularization.ipynb",
      "provenance": [],
      "collapsed_sections": []
    },
    "kernelspec": {
      "name": "python3",
      "display_name": "Python 3"
    },
    "accelerator": "GPU"
  },
  "cells": [
    {
      "cell_type": "code",
      "metadata": {
        "id": "pXMKPPrV6Fia"
      },
      "source": [
        "from keras.utils import to_categorical\n",
        "import numpy as np\n",
        "import pandas as pd\n",
        "import matplotlib.pyplot as plt\n",
        "from sklearn.model_selection import train_test_split\n",
        "from sklearn.metrics import classification_report,accuracy_score\n",
        "from keras.models import Sequential\n",
        "from keras.layers import Dense\n",
        "from keras.regularizers import l2\n",
        "from google.colab import drive"
      ],
      "execution_count": null,
      "outputs": []
    },
    {
      "cell_type": "code",
      "metadata": {
        "id": "GowC9G52IMJ3",
        "outputId": "952b2a01-f9b1-454b-ecb6-926f67de0502",
        "colab": {
          "base_uri": "https://localhost:8080/"
        }
      },
      "source": [
        "drive.mount('/content/drive')"
      ],
      "execution_count": null,
      "outputs": [
        {
          "output_type": "stream",
          "text": [
            "Drive already mounted at /content/drive; to attempt to forcibly remount, call drive.mount(\"/content/drive\", force_remount=True).\n"
          ],
          "name": "stdout"
        }
      ]
    },
    {
      "cell_type": "code",
      "metadata": {
        "id": "0toMkDeDI2J6"
      },
      "source": [
        "train = pd.read_csv(\"/content/drive/My Drive/Deep Learning/fashion-mnist_train.csv\")\n",
        "test = pd.read_csv(\"/content/drive/My Drive/Deep Learning/fashion-mnist_test.csv\")"
      ],
      "execution_count": null,
      "outputs": []
    },
    {
      "cell_type": "code",
      "metadata": {
        "id": "bvmJwxioJRYh"
      },
      "source": [
        "#Define the target and the features\n",
        "x_train = train.drop(columns=['label'])\n",
        "y_train = train.label\n",
        "\n",
        "x_test = test.drop(columns=['label'])\n",
        "y_test = test.label"
      ],
      "execution_count": null,
      "outputs": []
    },
    {
      "cell_type": "code",
      "metadata": {
        "id": "UslUnyQoJRUf",
        "outputId": "a4ba8f9b-a239-407e-a0b9-27efbcf8ba86",
        "colab": {
          "base_uri": "https://localhost:8080/"
        }
      },
      "source": [
        "#Print the shape of target\n",
        "y_train.shape , y_test.shape"
      ],
      "execution_count": null,
      "outputs": [
        {
          "output_type": "execute_result",
          "data": {
            "text/plain": [
              "((60000,), (10000,))"
            ]
          },
          "metadata": {
            "tags": []
          },
          "execution_count": 11
        }
      ]
    },
    {
      "cell_type": "code",
      "metadata": {
        "id": "us7xuXaqJRR8",
        "outputId": "d52bab6e-a659-48de-a5cd-ebe8f880c08e",
        "colab": {
          "base_uri": "https://localhost:8080/"
        }
      },
      "source": [
        "#Print the number of class in the train target\n",
        "list(y_train.unique())"
      ],
      "execution_count": null,
      "outputs": [
        {
          "output_type": "execute_result",
          "data": {
            "text/plain": [
              "[2, 9, 6, 0, 3, 4, 5, 8, 7, 1]"
            ]
          },
          "metadata": {
            "tags": []
          },
          "execution_count": 12
        }
      ]
    },
    {
      "cell_type": "code",
      "metadata": {
        "id": "_fr5VpMqJRPF",
        "outputId": "f0193dbf-5911-4b19-fe36-1c1b3e17b0a4",
        "colab": {
          "base_uri": "https://localhost:8080/"
        }
      },
      "source": [
        "#Print the number of class in the test target\n",
        "list(y_test.unique())"
      ],
      "execution_count": null,
      "outputs": [
        {
          "output_type": "execute_result",
          "data": {
            "text/plain": [
              "[0, 1, 2, 3, 8, 6, 5, 4, 7, 9]"
            ]
          },
          "metadata": {
            "tags": []
          },
          "execution_count": 13
        }
      ]
    },
    {
      "cell_type": "code",
      "metadata": {
        "id": "04Myefe-JRMe",
        "outputId": "cceafdcb-f978-4a12-ffa0-9e98c945bc86",
        "colab": {
          "base_uri": "https://localhost:8080/"
        }
      },
      "source": [
        "x_train.max().sort_values().tail(1)"
      ],
      "execution_count": null,
      "outputs": [
        {
          "output_type": "execute_result",
          "data": {
            "text/plain": [
              "pixel392    255\n",
              "dtype: int64"
            ]
          },
          "metadata": {
            "tags": []
          },
          "execution_count": 14
        }
      ]
    },
    {
      "cell_type": "code",
      "metadata": {
        "id": "K9dkmyT_JRJ9",
        "outputId": "ab0ade5f-128e-4417-d965-a33e705fc364",
        "colab": {
          "base_uri": "https://localhost:8080/"
        }
      },
      "source": [
        "x_test.max().sort_values().tail(1)"
      ],
      "execution_count": null,
      "outputs": [
        {
          "output_type": "execute_result",
          "data": {
            "text/plain": [
              "pixel396    255\n",
              "dtype: int64"
            ]
          },
          "metadata": {
            "tags": []
          },
          "execution_count": 15
        }
      ]
    },
    {
      "cell_type": "code",
      "metadata": {
        "id": "7gFozuFGJRGv"
      },
      "source": [
        "#The max number is 255, so lets divide the target by this number\n",
        "x_train = x_train/255\n",
        "x_test = x_test/255"
      ],
      "execution_count": null,
      "outputs": []
    },
    {
      "cell_type": "code",
      "metadata": {
        "id": "mj3_fcyQJpbo"
      },
      "source": [
        "x_train = x_train.astype(float) \n",
        "x_test = x_test.astype(float)"
      ],
      "execution_count": null,
      "outputs": []
    },
    {
      "cell_type": "code",
      "metadata": {
        "id": "8l-TfnrXJpYl"
      },
      "source": [
        "from keras.utils import to_categorical\n",
        "\n",
        "y_train = to_categorical(y_train,10) #10 levels of image\n",
        "y_test =  to_categorical(y_test,10) #10 levels of image"
      ],
      "execution_count": null,
      "outputs": []
    },
    {
      "cell_type": "markdown",
      "metadata": {
        "id": "1wh_lXViNenn"
      },
      "source": [
        "# NonRegularization"
      ]
    },
    {
      "cell_type": "code",
      "metadata": {
        "id": "floyNIwMMXKG",
        "outputId": "721d0e0d-397a-4a71-fd80-daa66da0c34d",
        "colab": {
          "base_uri": "https://localhost:8080/"
        }
      },
      "source": [
        "#Starting a neural network\n",
        "model = Sequential()\n",
        "\n",
        "#Input the first layer in model with 50 neurals and the activation function will be Relu\n",
        "model.add(Dense(50 #number os neurals\n",
        "                ,activation = 'relu' #activation function\n",
        "                ,input_shape = (784,) #Number of features in dataframe, let's pay attention, because keras need to receive a tuple, its the reason of (784,0)\n",
        "                ))\n",
        "\n",
        "#Input the second layer in model with 50 neurals and the same activation function\n",
        "model.add(Dense(30 \n",
        "                ,activation = 'relu' \n",
        "               \n",
        "                ))\n",
        "\n",
        "#Input the third layer in model with 20 neurals and the same activation function\n",
        "model.add(Dense(20\n",
        "                ,activation = 'relu' \n",
        "               \n",
        "                ))\n",
        "\n",
        "#The final layes will be with 10 neurals because we have 10 class in this dataframe\n",
        "#The activation function is softmax because its will be normalize the output of neurals and it will be easier identify the probably of each class\n",
        "model.add(Dense(10 #numero de classs\n",
        "                ,activation = 'softmax' #Vai normaliza as probabilidades por exponencial\n",
        "                ))\n",
        "\n",
        "#Finally, lets see the summary of the model and see how many parameters its have.\n",
        "model.summary()"
      ],
      "execution_count": null,
      "outputs": [
        {
          "output_type": "stream",
          "text": [
            "Model: \"sequential_1\"\n",
            "_________________________________________________________________\n",
            "Layer (type)                 Output Shape              Param #   \n",
            "=================================================================\n",
            "dense_4 (Dense)              (None, 50)                39250     \n",
            "_________________________________________________________________\n",
            "dense_5 (Dense)              (None, 30)                1530      \n",
            "_________________________________________________________________\n",
            "dense_6 (Dense)              (None, 20)                620       \n",
            "_________________________________________________________________\n",
            "dense_7 (Dense)              (None, 10)                210       \n",
            "=================================================================\n",
            "Total params: 41,610\n",
            "Trainable params: 41,610\n",
            "Non-trainable params: 0\n",
            "_________________________________________________________________\n"
          ],
          "name": "stdout"
        }
      ]
    },
    {
      "cell_type": "code",
      "metadata": {
        "id": "StD8HrczMXNK",
        "outputId": "1ba13188-b03e-4e39-bbe4-93957c61dabc",
        "colab": {
          "base_uri": "https://localhost:8080/"
        }
      },
      "source": [
        "batch_size = 64\n",
        "model.compile(loss='categorical_crossentropy',\n",
        "              optimizer='sgd',\n",
        "              metrics=['accuracy'])\n",
        "# train the network\n",
        "model.fit(x_train, y_train, epochs=20, batch_size=batch_size)\n"
      ],
      "execution_count": null,
      "outputs": [
        {
          "output_type": "stream",
          "text": [
            "Epoch 1/20\n",
            "938/938 [==============================] - 2s 3ms/step - loss: 1.2083 - accuracy: 0.5848\n",
            "Epoch 2/20\n",
            "938/938 [==============================] - 2s 2ms/step - loss: 0.6469 - accuracy: 0.7717\n",
            "Epoch 3/20\n",
            "938/938 [==============================] - 2s 2ms/step - loss: 0.5556 - accuracy: 0.8040\n",
            "Epoch 4/20\n",
            "938/938 [==============================] - 2s 2ms/step - loss: 0.5093 - accuracy: 0.8208\n",
            "Epoch 5/20\n",
            "938/938 [==============================] - 2s 2ms/step - loss: 0.4768 - accuracy: 0.8314\n",
            "Epoch 6/20\n",
            "938/938 [==============================] - 2s 3ms/step - loss: 0.4556 - accuracy: 0.8388\n",
            "Epoch 7/20\n",
            "938/938 [==============================] - 2s 3ms/step - loss: 0.4379 - accuracy: 0.8446\n",
            "Epoch 8/20\n",
            "938/938 [==============================] - 2s 3ms/step - loss: 0.4242 - accuracy: 0.8512\n",
            "Epoch 9/20\n",
            "938/938 [==============================] - 2s 3ms/step - loss: 0.4118 - accuracy: 0.8543\n",
            "Epoch 10/20\n",
            "938/938 [==============================] - 2s 3ms/step - loss: 0.4019 - accuracy: 0.8583\n",
            "Epoch 11/20\n",
            "938/938 [==============================] - 2s 2ms/step - loss: 0.3941 - accuracy: 0.8601\n",
            "Epoch 12/20\n",
            "938/938 [==============================] - 2s 3ms/step - loss: 0.3852 - accuracy: 0.8636\n",
            "Epoch 13/20\n",
            "938/938 [==============================] - 2s 2ms/step - loss: 0.3786 - accuracy: 0.8658\n",
            "Epoch 14/20\n",
            "938/938 [==============================] - 3s 3ms/step - loss: 0.3724 - accuracy: 0.8677\n",
            "Epoch 15/20\n",
            "938/938 [==============================] - 2s 2ms/step - loss: 0.3679 - accuracy: 0.8689\n",
            "Epoch 16/20\n",
            "938/938 [==============================] - 2s 2ms/step - loss: 0.3618 - accuracy: 0.8714\n",
            "Epoch 17/20\n",
            "938/938 [==============================] - 2s 3ms/step - loss: 0.3567 - accuracy: 0.8733\n",
            "Epoch 18/20\n",
            "938/938 [==============================] - 2s 2ms/step - loss: 0.3522 - accuracy: 0.8752\n",
            "Epoch 19/20\n",
            "938/938 [==============================] - 2s 2ms/step - loss: 0.3476 - accuracy: 0.8768\n",
            "Epoch 20/20\n",
            "938/938 [==============================] - 2s 3ms/step - loss: 0.3432 - accuracy: 0.8775\n"
          ],
          "name": "stdout"
        },
        {
          "output_type": "execute_result",
          "data": {
            "text/plain": [
              "<tensorflow.python.keras.callbacks.History at 0x7f84000b90f0>"
            ]
          },
          "metadata": {
            "tags": []
          },
          "execution_count": 20
        }
      ]
    },
    {
      "cell_type": "markdown",
      "metadata": {
        "id": "3KsGKpGkNLOx"
      },
      "source": [
        "# L2 Regularizatin"
      ]
    },
    {
      "cell_type": "code",
      "metadata": {
        "id": "3jqCxCMJJpVF",
        "outputId": "4665e03a-2821-4ccf-8d04-f071f1610fa1",
        "colab": {
          "base_uri": "https://localhost:8080/"
        }
      },
      "source": [
        "#Starting a neural network\n",
        "regularization_model = Sequential()\n",
        "\n",
        "#Input the first layer in model with 50 neurals and the activation function will be Relu\n",
        "regularization_model.add(Dense(50 #number os neurals\n",
        "                ,activation = 'relu' #activation function\n",
        "                ,input_shape = (784,) #Number of features in dataframe, let's pay attention, because keras need to receive a tuple, its the reason of (784,0)\n",
        "                ,kernel_regularizer=l2(0.01), bias_regularizer=l2(0.01)\n",
        "                ))\n",
        "\n",
        "#Input the second layer in model with 50 neurals and the same activation function\n",
        "regularization_model.add(Dense(30 \n",
        "                ,activation = 'relu' \n",
        "                ,kernel_regularizer=l2(0.01), bias_regularizer=l2(0.01) \n",
        "                ))\n",
        "\n",
        "#Input the third layer in model with 20 neurals and the same activation function\n",
        "regularization_model.add(Dense(20\n",
        "                ,activation = 'relu' \n",
        "                ,kernel_regularizer=l2(0.01), bias_regularizer=l2(0.01) \n",
        "                ))\n",
        "\n",
        "#The final layes will be with 10 neurals because we have 10 class in this dataframe\n",
        "#The activation function is softmax because its will be normalize the output of neurals and it will be easier identify the probably of each class\n",
        "regularization_model.add(Dense(10 #numero de classs\n",
        "                ,activation = 'softmax' #Vai normaliza as probabilidades por exponencial\n",
        "                ))\n",
        "\n",
        "#Finally, lets see the summary of the model and see how many parameters its have.\n",
        "regularization_model.summary()"
      ],
      "execution_count": null,
      "outputs": [
        {
          "output_type": "stream",
          "text": [
            "Model: \"sequential\"\n",
            "_________________________________________________________________\n",
            "Layer (type)                 Output Shape              Param #   \n",
            "=================================================================\n",
            "dense (Dense)                (None, 50)                39250     \n",
            "_________________________________________________________________\n",
            "dense_1 (Dense)              (None, 30)                1530      \n",
            "_________________________________________________________________\n",
            "dense_2 (Dense)              (None, 20)                620       \n",
            "_________________________________________________________________\n",
            "dense_3 (Dense)              (None, 10)                210       \n",
            "=================================================================\n",
            "Total params: 41,610\n",
            "Trainable params: 41,610\n",
            "Non-trainable params: 0\n",
            "_________________________________________________________________\n"
          ],
          "name": "stdout"
        }
      ]
    },
    {
      "cell_type": "code",
      "metadata": {
        "id": "Jl7gKuFDJpSK"
      },
      "source": [
        "regularization_model.compile(\n",
        "                loss='categorical_crossentropy' \n",
        "               ,optimizer='adam' \n",
        "               ,metrics=['accuracy'] )"
      ],
      "execution_count": null,
      "outputs": []
    },
    {
      "cell_type": "code",
      "metadata": {
        "id": "zQ03uMiRJpPc",
        "outputId": "9d71c519-fd4e-49e4-e131-74a45ef6e108",
        "colab": {
          "base_uri": "https://localhost:8080/"
        }
      },
      "source": [
        "batch_size = 64\n",
        "regularization_model.compile(loss='categorical_crossentropy',\n",
        "              optimizer='sgd',\n",
        "              metrics=['accuracy'])\n",
        "# train the network\n",
        "regularization_model.fit(x_train, y_train, epochs=20, batch_size=batch_size)\n",
        "\n",
        "\n"
      ],
      "execution_count": null,
      "outputs": [
        {
          "output_type": "stream",
          "text": [
            "Epoch 1/20\n",
            "938/938 [==============================] - 2s 3ms/step - loss: 2.4298 - accuracy: 0.6500\n",
            "Epoch 2/20\n",
            "938/938 [==============================] - 3s 3ms/step - loss: 1.6819 - accuracy: 0.7827\n",
            "Epoch 3/20\n",
            "938/938 [==============================] - 3s 3ms/step - loss: 1.3699 - accuracy: 0.8047\n",
            "Epoch 4/20\n",
            "938/938 [==============================] - 3s 3ms/step - loss: 1.1702 - accuracy: 0.8144\n",
            "Epoch 5/20\n",
            "938/938 [==============================] - 3s 3ms/step - loss: 1.0338 - accuracy: 0.8187\n",
            "Epoch 6/20\n",
            "938/938 [==============================] - 3s 3ms/step - loss: 0.9379 - accuracy: 0.8237\n",
            "Epoch 7/20\n",
            "938/938 [==============================] - 3s 3ms/step - loss: 0.8724 - accuracy: 0.8252\n",
            "Epoch 8/20\n",
            "938/938 [==============================] - 3s 3ms/step - loss: 0.8250 - accuracy: 0.8279\n",
            "Epoch 9/20\n",
            "938/938 [==============================] - 2s 3ms/step - loss: 0.7905 - accuracy: 0.8290\n",
            "Epoch 10/20\n",
            "938/938 [==============================] - 3s 3ms/step - loss: 0.7671 - accuracy: 0.8300\n",
            "Epoch 11/20\n",
            "938/938 [==============================] - 3s 3ms/step - loss: 0.7466 - accuracy: 0.8315\n",
            "Epoch 12/20\n",
            "938/938 [==============================] - 3s 3ms/step - loss: 0.7324 - accuracy: 0.8355\n",
            "Epoch 13/20\n",
            "938/938 [==============================] - 3s 3ms/step - loss: 0.7229 - accuracy: 0.8347\n",
            "Epoch 14/20\n",
            "938/938 [==============================] - 3s 3ms/step - loss: 0.7124 - accuracy: 0.8359\n",
            "Epoch 15/20\n",
            "938/938 [==============================] - 3s 3ms/step - loss: 0.7034 - accuracy: 0.8368\n",
            "Epoch 16/20\n",
            "938/938 [==============================] - 3s 3ms/step - loss: 0.6979 - accuracy: 0.8377\n",
            "Epoch 17/20\n",
            "938/938 [==============================] - 3s 3ms/step - loss: 0.6912 - accuracy: 0.8387\n",
            "Epoch 18/20\n",
            "938/938 [==============================] - 3s 3ms/step - loss: 0.6873 - accuracy: 0.8395\n",
            "Epoch 19/20\n",
            "938/938 [==============================] - 3s 3ms/step - loss: 0.6825 - accuracy: 0.8403\n",
            "Epoch 20/20\n",
            "938/938 [==============================] - 3s 3ms/step - loss: 0.6786 - accuracy: 0.8412\n"
          ],
          "name": "stdout"
        },
        {
          "output_type": "execute_result",
          "data": {
            "text/plain": [
              "<tensorflow.python.keras.callbacks.History at 0x7f1db6e78cc0>"
            ]
          },
          "metadata": {
            "tags": []
          },
          "execution_count": 15
        }
      ]
    },
    {
      "cell_type": "code",
      "metadata": {
        "id": "LIwe6OAvKROD",
        "outputId": "6b24d704-bcb9-408d-f974-110a176b381b",
        "colab": {
          "base_uri": "https://localhost:8080/"
        }
      },
      "source": [
        "regularization_model.evaluate(x_test,y_test,verbose = 0)"
      ],
      "execution_count": null,
      "outputs": [
        {
          "output_type": "execute_result",
          "data": {
            "text/plain": [
              "[0.7081738114356995, 0.8248999714851379]"
            ]
          },
          "metadata": {
            "tags": []
          },
          "execution_count": 16
        }
      ]
    },
    {
      "cell_type": "code",
      "metadata": {
        "id": "pOwb83lIMUNz"
      },
      "source": [
        ""
      ],
      "execution_count": null,
      "outputs": []
    }
  ]
}