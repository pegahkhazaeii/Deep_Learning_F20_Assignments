{
 "cells": [
  {
   "cell_type": "code",
   "execution_count": 2,
   "metadata": {},
   "outputs": [],
   "source": [
    "from keras.utils import to_categorical\n",
    "import numpy as np\n",
    "import pandas as pd\n",
    "import matplotlib.pyplot as plt\n",
    "from sklearn.model_selection import train_test_split\n",
    "from sklearn.metrics import classification_report,accuracy_score\n",
    "from keras.models import Sequential\n",
    "from keras.layers import Dense\n",
    "from keras.regularizers import l2"
   ]
  },
  {
   "cell_type": "code",
   "execution_count": 3,
   "metadata": {},
   "outputs": [],
   "source": [
    "train = pd.read_csv(r'D:\\DataSets\\fashion-mnist_train.csv')\n",
    "test = pd.read_csv(r'D:\\DataSets\\fashion-mnist_test.csv')"
   ]
  },
  {
   "cell_type": "code",
   "execution_count": 4,
   "metadata": {},
   "outputs": [],
   "source": [
    "#Define the target and the features\n",
    "x_train = train.drop(columns=['label'])\n",
    "y_train = train.label\n",
    "\n",
    "x_test = test.drop(columns=['label'])\n",
    "y_test = test.label"
   ]
  },
  {
   "cell_type": "code",
   "execution_count": 5,
   "metadata": {},
   "outputs": [],
   "source": [
    "x_train = x_train/255\n",
    "x_test = x_test/255"
   ]
  },
  {
   "cell_type": "code",
   "execution_count": 6,
   "metadata": {},
   "outputs": [],
   "source": [
    "x_train = x_train.astype(float) \n",
    "x_test = x_test.astype(float)"
   ]
  },
  {
   "cell_type": "code",
   "execution_count": 7,
   "metadata": {},
   "outputs": [],
   "source": [
    "from keras.utils import to_categorical\n",
    "\n",
    "y_train = to_categorical(y_train,10) #10 levels of image\n",
    "y_test =  to_categorical(y_test,10) #10 levels of image"
   ]
  },
  {
   "cell_type": "markdown",
   "metadata": {},
   "source": [
    "## Non Regularization"
   ]
  },
  {
   "cell_type": "code",
   "execution_count": 8,
   "metadata": {},
   "outputs": [
    {
     "name": "stdout",
     "output_type": "stream",
     "text": [
      "WARNING:tensorflow:From C:\\Users\\Pegah Khazaie\\AppData\\Local\\Continuum\\anaconda3\\lib\\site-packages\\tensorflow\\python\\ops\\resource_variable_ops.py:435: colocate_with (from tensorflow.python.framework.ops) is deprecated and will be removed in a future version.\n",
      "Instructions for updating:\n",
      "Colocations handled automatically by placer.\n",
      "Model: \"sequential_1\"\n",
      "_________________________________________________________________\n",
      "Layer (type)                 Output Shape              Param #   \n",
      "=================================================================\n",
      "dense_1 (Dense)              (None, 50)                39250     \n",
      "_________________________________________________________________\n",
      "dense_2 (Dense)              (None, 30)                1530      \n",
      "_________________________________________________________________\n",
      "dense_3 (Dense)              (None, 20)                620       \n",
      "_________________________________________________________________\n",
      "dense_4 (Dense)              (None, 10)                210       \n",
      "=================================================================\n",
      "Total params: 41,610\n",
      "Trainable params: 41,610\n",
      "Non-trainable params: 0\n",
      "_________________________________________________________________\n"
     ]
    }
   ],
   "source": [
    "#Starting a neural network\n",
    "model = Sequential()\n",
    "\n",
    "#Input the first layer in model with 50 neurals and the activation function will be Relu\n",
    "model.add(Dense(50 #number os neurals\n",
    "                ,activation = 'relu' #activation function\n",
    "                ,input_shape = (784,) #Number of features in dataframe, let's pay attention, because keras need to receive a tuple, its the reason of (784,0)\n",
    "\n",
    "                ))\n",
    "\n",
    "#Input the second layer in model with 50 neurals and the same activation function\n",
    "model.add(Dense(30 \n",
    "                ,activation = 'relu' \n",
    "               \n",
    "                ))\n",
    "\n",
    "#Input the third layer in model with 20 neurals and the same activation function\n",
    "model.add(Dense(20\n",
    "                ,activation = 'relu' \n",
    "                \n",
    "                ))\n",
    "\n",
    "#The final layes will be with 10 neurals because we have 10 class in this dataframe\n",
    "#The activation function is softmax because its will be normalize the output of neurals and it will be easier identify the probably of each class\n",
    "model.add(Dense(10 #numero de classs\n",
    "                ,activation = 'softmax' #Vai normaliza as probabilidades por exponencial\n",
    "                ))\n",
    "\n",
    "#Finally, lets see the summary of the model and see how many parameters its have.\n",
    "model.summary()"
   ]
  },
  {
   "cell_type": "code",
   "execution_count": 9,
   "metadata": {},
   "outputs": [],
   "source": [
    "model.compile(\n",
    "                loss='categorical_crossentropy' \n",
    "               ,optimizer='adam' \n",
    "               ,metrics=['accuracy'] )"
   ]
  },
  {
   "cell_type": "code",
   "execution_count": 10,
   "metadata": {},
   "outputs": [
    {
     "name": "stdout",
     "output_type": "stream",
     "text": [
      "WARNING:tensorflow:From C:\\Users\\Pegah Khazaie\\AppData\\Local\\Continuum\\anaconda3\\lib\\site-packages\\tensorflow\\python\\ops\\math_ops.py:3066: to_int32 (from tensorflow.python.ops.math_ops) is deprecated and will be removed in a future version.\n",
      "Instructions for updating:\n",
      "Use tf.cast instead.\n",
      "Train on 60000 samples, validate on 10000 samples\n",
      "Epoch 1/30\n",
      "60000/60000 [==============================] - 6s 94us/step - loss: 0.6982 - accuracy: 0.7577 - val_loss: 0.4556 - val_accuracy: 0.8414\n",
      "Epoch 2/30\n",
      "60000/60000 [==============================] - 5s 78us/step - loss: 0.4339 - accuracy: 0.8469 - val_loss: 0.4188 - val_accuracy: 0.8511\n",
      "Epoch 3/30\n",
      "60000/60000 [==============================] - 5s 83us/step - loss: 0.3946 - accuracy: 0.8594 - val_loss: 0.3830 - val_accuracy: 0.8660\n",
      "Epoch 4/30\n",
      "60000/60000 [==============================] - 5s 79us/step - loss: 0.3643 - accuracy: 0.8692 - val_loss: 0.3541 - val_accuracy: 0.8766\n",
      "Epoch 5/30\n",
      "60000/60000 [==============================] - 5s 77us/step - loss: 0.3473 - accuracy: 0.8762 - val_loss: 0.3564 - val_accuracy: 0.8717\n",
      "Epoch 6/30\n",
      "60000/60000 [==============================] - 5s 82us/step - loss: 0.3352 - accuracy: 0.8782 - val_loss: 0.3379 - val_accuracy: 0.8772\n",
      "Epoch 7/30\n",
      "60000/60000 [==============================] - 5s 87us/step - loss: 0.3245 - accuracy: 0.8810 - val_loss: 0.3387 - val_accuracy: 0.8754\n",
      "Epoch 8/30\n",
      "60000/60000 [==============================] - 5s 88us/step - loss: 0.3130 - accuracy: 0.8852 - val_loss: 0.3457 - val_accuracy: 0.8707\n",
      "Epoch 9/30\n",
      "60000/60000 [==============================] - 7s 108us/step - loss: 0.3032 - accuracy: 0.8894 - val_loss: 0.3440 - val_accuracy: 0.8772\n",
      "Epoch 10/30\n",
      "60000/60000 [==============================] - 7s 115us/step - loss: 0.2943 - accuracy: 0.8914 - val_loss: 0.3203 - val_accuracy: 0.8838\n",
      "Epoch 11/30\n",
      "60000/60000 [==============================] - 7s 114us/step - loss: 0.2897 - accuracy: 0.8938 - val_loss: 0.3259 - val_accuracy: 0.8822\n",
      "Epoch 12/30\n",
      "60000/60000 [==============================] - 7s 110us/step - loss: 0.2826 - accuracy: 0.8956 - val_loss: 0.3414 - val_accuracy: 0.8777\n",
      "Epoch 13/30\n",
      "60000/60000 [==============================] - 6s 100us/step - loss: 0.2787 - accuracy: 0.8967 - val_loss: 0.3179 - val_accuracy: 0.8823\n",
      "Epoch 14/30\n",
      "60000/60000 [==============================] - 6s 100us/step - loss: 0.2714 - accuracy: 0.8997 - val_loss: 0.3206 - val_accuracy: 0.8863\n",
      "Epoch 15/30\n",
      "60000/60000 [==============================] - 6s 95us/step - loss: 0.2654 - accuracy: 0.9023 - val_loss: 0.3167 - val_accuracy: 0.8862\n",
      "Epoch 16/30\n",
      "60000/60000 [==============================] - 5s 86us/step - loss: 0.2586 - accuracy: 0.9045 - val_loss: 0.3303 - val_accuracy: 0.8797\n",
      "Epoch 17/30\n",
      "60000/60000 [==============================] - 5s 82us/step - loss: 0.2564 - accuracy: 0.9061 - val_loss: 0.3323 - val_accuracy: 0.8807\n",
      "Epoch 18/30\n",
      "60000/60000 [==============================] - 5s 85us/step - loss: 0.2526 - accuracy: 0.9066 - val_loss: 0.3313 - val_accuracy: 0.8814\n",
      "Epoch 19/30\n",
      "60000/60000 [==============================] - 5s 89us/step - loss: 0.2500 - accuracy: 0.9071 - val_loss: 0.3301 - val_accuracy: 0.8807\n",
      "Epoch 20/30\n",
      "60000/60000 [==============================] - 6s 93us/step - loss: 0.2437 - accuracy: 0.9103 - val_loss: 0.3220 - val_accuracy: 0.8866\n",
      "Epoch 21/30\n",
      "60000/60000 [==============================] - 5s 83us/step - loss: 0.2396 - accuracy: 0.9112 - val_loss: 0.3197 - val_accuracy: 0.8860\n",
      "Epoch 22/30\n",
      "60000/60000 [==============================] - 5s 84us/step - loss: 0.2348 - accuracy: 0.9124 - val_loss: 0.3260 - val_accuracy: 0.8863\n",
      "Epoch 23/30\n",
      "60000/60000 [==============================] - 5s 86us/step - loss: 0.2355 - accuracy: 0.9116 - val_loss: 0.3218 - val_accuracy: 0.8842\n",
      "Epoch 24/30\n",
      "60000/60000 [==============================] - 5s 80us/step - loss: 0.2316 - accuracy: 0.9143 - val_loss: 0.3291 - val_accuracy: 0.8855\n",
      "Epoch 25/30\n",
      "60000/60000 [==============================] - 5s 76us/step - loss: 0.2254 - accuracy: 0.9159 - val_loss: 0.3320 - val_accuracy: 0.8860\n",
      "Epoch 26/30\n",
      "60000/60000 [==============================] - 5s 86us/step - loss: 0.2277 - accuracy: 0.9149 - val_loss: 0.3221 - val_accuracy: 0.8894\n",
      "Epoch 27/30\n",
      "60000/60000 [==============================] - 7s 114us/step - loss: 0.2200 - accuracy: 0.9178 - val_loss: 0.3204 - val_accuracy: 0.8892\n",
      "Epoch 28/30\n",
      "60000/60000 [==============================] - 6s 104us/step - loss: 0.2167 - accuracy: 0.9193 - val_loss: 0.3401 - val_accuracy: 0.8838\n",
      "Epoch 29/30\n",
      "60000/60000 [==============================] - 6s 92us/step - loss: 0.2182 - accuracy: 0.9181 - val_loss: 0.3330 - val_accuracy: 0.8871\n",
      "Epoch 30/30\n",
      "60000/60000 [==============================] - 6s 102us/step - loss: 0.2120 - accuracy: 0.9201 - val_loss: 0.3357 - val_accuracy: 0.8852\n"
     ]
    }
   ],
   "source": [
    "history = model.fit(x_train,y_train\n",
    "         ,epochs=30 #number of times that model will through in train \n",
    "         ,batch_size = 128 #number of rows that will be consider to update the weights of layers\n",
    "         ,verbose = 1\n",
    "         ,validation_data=(x_test,y_test)\n",
    "         )"
   ]
  },
  {
   "cell_type": "code",
   "execution_count": null,
   "metadata": {},
   "outputs": [],
   "source": []
  },
  {
   "cell_type": "markdown",
   "metadata": {},
   "source": [
    "## L2 Regularization"
   ]
  },
  {
   "cell_type": "code",
   "execution_count": 92,
   "metadata": {},
   "outputs": [],
   "source": [
    "def cnn_model():\n",
    "    \n",
    "    model = Sequential()\n",
    "    \n",
    "    # First Conv layer\n",
    "    model.add(Conv2D(filters=128, kernel_size=(3,3), activation='relu', padding='same', kernel_regularizer=regularizers.l2(1e-4), input_shape=(28,28,1)))\n",
    "    model.add(MaxPooling2D(pool_size=(2,2)))\n",
    "    model.add(Dropout(0.3))\n",
    "    \n",
    "    # Second Conv layer\n",
    "    model.add(Conv2D(filters=256, kernel_size=(3,3), activation='relu', padding='same', kernel_regularizer=regularizers.l2(1e-4)))\n",
    "    model.add(MaxPooling2D(pool_size=(2,2)))\n",
    "    model.add(Dropout(0.3))\n",
    "    \n",
    "     # Third, fourth, fifth convolution layer\n",
    "    model.add(Conv2D(filters=512, kernel_size=(3,3), activation='relu', padding='same', kernel_regularizer=regularizers.l2(1e-4)))\n",
    "    model.add(Conv2D(filters=512, kernel_size=(3,3), activation='relu', padding='same', kernel_regularizer=regularizers.l2(1e-4)))\n",
    "    model.add(Conv2D(filters=256, kernel_size=(3,3), activation='relu', padding='same', kernel_regularizer=regularizers.l2(1e-4)))\n",
    "    model.add(MaxPooling2D(pool_size=(2,2)))\n",
    "    model.add(Dropout(0.3))\n",
    "\n",
    "    # Fully Connected layers\n",
    "    model.add(Flatten())\n",
    "    \n",
    "    model.add(Dense(512, activation='relu'))\n",
    "    model.add(Dropout(0.5))\n",
    "    model.add(Dense(256, activation='relu'))\n",
    "    model.add(Dropout(0.5))\n",
    "    model.add(Dense(128, activation='relu'))\n",
    "    model.add(Dropout(0.5))\n",
    "    \n",
    "    model.add(Dense(10, activation='softmax'))\n",
    "    \n",
    "    model.summary()\n",
    "    \n",
    "    return model"
   ]
  },
  {
   "cell_type": "code",
   "execution_count": 93,
   "metadata": {
    "code_folding": []
   },
   "outputs": [],
   "source": [
    "model.compile(\n",
    "                loss='categorical_crossentropy' \n",
    "               ,optimizer='adam' \n",
    "               ,metrics=['accuracy'] )"
   ]
  },
  {
   "cell_type": "code",
   "execution_count": 94,
   "metadata": {},
   "outputs": [
    {
     "name": "stdout",
     "output_type": "stream",
     "text": [
      "Train on 60000 samples, validate on 10000 samples\n",
      "Epoch 1/20\n",
      "60000/60000 [==============================] - 11s 182us/step - loss: 0.0920 - accuracy: 0.9669 - val_loss: 0.6807 - val_accuracy: 0.8778\n",
      "Epoch 2/20\n",
      "60000/60000 [==============================] - 13s 214us/step - loss: 0.0898 - accuracy: 0.9674 - val_loss: 0.6632 - val_accuracy: 0.8801\n",
      "Epoch 3/20\n",
      "60000/60000 [==============================] - 15s 248us/step - loss: 0.0895 - accuracy: 0.9668 - val_loss: 0.6663 - val_accuracy: 0.8755\n",
      "Epoch 4/20\n",
      "60000/60000 [==============================] - 11s 186us/step - loss: 0.0906 - accuracy: 0.9676 - val_loss: 0.6511 - val_accuracy: 0.8803\n",
      "Epoch 5/20\n",
      "60000/60000 [==============================] - 9s 158us/step - loss: 0.0911 - accuracy: 0.9671 - val_loss: 0.6406 - val_accuracy: 0.8760\n",
      "Epoch 6/20\n",
      "60000/60000 [==============================] - 9s 143us/step - loss: 0.0874 - accuracy: 0.9680 - val_loss: 0.7218 - val_accuracy: 0.8764\n",
      "Epoch 7/20\n",
      "60000/60000 [==============================] - 10s 159us/step - loss: 0.0891 - accuracy: 0.9673 - val_loss: 0.6939 - val_accuracy: 0.8740\n",
      "Epoch 8/20\n",
      "60000/60000 [==============================] - 14s 233us/step - loss: 0.0856 - accuracy: 0.9683 - val_loss: 0.6762 - val_accuracy: 0.8780\n",
      "Epoch 9/20\n",
      "60000/60000 [==============================] - 11s 176us/step - loss: 0.0878 - accuracy: 0.9682 - val_loss: 0.6622 - val_accuracy: 0.8771\n",
      "Epoch 10/20\n",
      "60000/60000 [==============================] - 10s 161us/step - loss: 0.0830 - accuracy: 0.9701 - val_loss: 0.6876 - val_accuracy: 0.8783\n",
      "Epoch 11/20\n",
      "60000/60000 [==============================] - 10s 162us/step - loss: 0.0885 - accuracy: 0.9679 - val_loss: 0.6788 - val_accuracy: 0.8745\n",
      "Epoch 12/20\n",
      "60000/60000 [==============================] - 10s 163us/step - loss: 0.0904 - accuracy: 0.9672 - val_loss: 0.6678 - val_accuracy: 0.8805\n",
      "Epoch 13/20\n",
      "60000/60000 [==============================] - 11s 179us/step - loss: 0.0840 - accuracy: 0.9697 - val_loss: 0.6569 - val_accuracy: 0.8813\n",
      "Epoch 14/20\n",
      "60000/60000 [==============================] - 10s 168us/step - loss: 0.0843 - accuracy: 0.9685 - val_loss: 0.6563 - val_accuracy: 0.8792\n",
      "Epoch 15/20\n",
      "60000/60000 [==============================] - 10s 160us/step - loss: 0.0855 - accuracy: 0.9693 - val_loss: 0.6956 - val_accuracy: 0.8794\n",
      "Epoch 16/20\n",
      "60000/60000 [==============================] - 11s 176us/step - loss: 0.0873 - accuracy: 0.9679 - val_loss: 0.6499 - val_accuracy: 0.8776\n",
      "Epoch 17/20\n",
      "60000/60000 [==============================] - 10s 167us/step - loss: 0.0857 - accuracy: 0.9685 - val_loss: 0.6699 - val_accuracy: 0.8757\n",
      "Epoch 18/20\n",
      "60000/60000 [==============================] - 10s 170us/step - loss: 0.0846 - accuracy: 0.9691 - val_loss: 0.6716 - val_accuracy: 0.8809\n",
      "Epoch 19/20\n",
      "60000/60000 [==============================] - 10s 167us/step - loss: 0.0852 - accuracy: 0.9689 - val_loss: 0.6681 - val_accuracy: 0.8765\n",
      "Epoch 20/20\n",
      "60000/60000 [==============================] - 12s 201us/step - loss: 0.0846 - accuracy: 0.9685 - val_loss: 0.7202 - val_accuracy: 0.8791\n"
     ]
    }
   ],
   "source": [
    "history = model.fit(x_train,y_train\n",
    "         ,epochs=20 #number of times that model will through in train \n",
    "         ,batch_size = 32 #number of rows that will be consider to update the weights of layers\n",
    "         ,verbose = 1\n",
    "         ,validation_data=(x_test,y_test)\n",
    "         )"
   ]
  },
  {
   "cell_type": "code",
   "execution_count": null,
   "metadata": {},
   "outputs": [],
   "source": []
  }
 ],
 "metadata": {
  "kernelspec": {
   "display_name": "Python 3",
   "language": "python",
   "name": "python3"
  },
  "language_info": {
   "codemirror_mode": {
    "name": "ipython",
    "version": 3
   },
   "file_extension": ".py",
   "mimetype": "text/x-python",
   "name": "python",
   "nbconvert_exporter": "python",
   "pygments_lexer": "ipython3",
   "version": "3.7.4"
  },
  "toc": {
   "base_numbering": 1,
   "nav_menu": {},
   "number_sections": false,
   "sideBar": true,
   "skip_h1_title": false,
   "title_cell": "Table of Contents",
   "title_sidebar": "Contents",
   "toc_cell": false,
   "toc_position": {},
   "toc_section_display": true,
   "toc_window_display": false
  }
 },
 "nbformat": 4,
 "nbformat_minor": 2
}
