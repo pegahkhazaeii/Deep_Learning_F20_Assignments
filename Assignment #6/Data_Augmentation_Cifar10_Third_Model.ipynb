{
 "cells": [
  {
   "cell_type": "code",
   "execution_count": 10,
   "metadata": {
    "id": "oMDNAAeBmyE-"
   },
   "outputs": [],
   "source": [
    "import keras\n",
    "from keras.models import Sequential\n",
    "from keras.utils import np_utils\n",
    "from keras.preprocessing.image import ImageDataGenerator\n",
    "from keras.layers import Dense, Activation, Flatten, Dropout, BatchNormalization\n",
    "from keras.layers import Conv2D, MaxPooling2D\n",
    "from keras.datasets import cifar10\n",
    "from keras import regularizers\n",
    "from keras.callbacks import LearningRateScheduler\n",
    "import numpy as np\n",
    "import tensorflow as tf\n",
    " \n",
    "def lr_schedule(epoch):\n",
    "    lrate = 0.001\n",
    "    if epoch > 75:\n",
    "        lrate = 0.0005\n",
    "    if epoch > 100:\n",
    "        lrate = 0.0003\n",
    "    return lrate\n",
    " \n",
    "(x_train, y_train), (x_test, y_test) = tf.keras.datasets.cifar10.load_data()\n",
    "x_train = x_train.astype('float32')\n",
    "x_test = x_test.astype('float32')\n",
    " \n",
    "#z-score\n",
    "mean = np.mean(x_train,axis=(0,1,2,3))\n",
    "std = np.std(x_train,axis=(0,1,2,3))\n",
    "x_train = (x_train-mean)/(std+1e-7)\n",
    "x_test = (x_test-mean)/(std+1e-7)\n",
    " \n",
    "num_classes = 10\n",
    "y_train = np_utils.to_categorical(y_train,num_classes)\n",
    "y_test = np_utils.to_categorical(y_test,num_classes)"
   ]
  },
  {
   "cell_type": "code",
   "execution_count": null,
   "metadata": {
    "colab": {
     "base_uri": "https://localhost:8080/"
    },
    "id": "kfeGj0fEAzno",
    "outputId": "4a8e9aff-833e-4532-b121-5293cb645113"
   },
   "outputs": [],
   "source": [
    "# define cnn model\n",
    "model = Sequential()\n",
    "model.add(Conv2D(32, (3, 3), activation='relu', kernel_initializer='he_uniform', padding='same', input_shape=(32, 32, 3)))\n",
    "model.add(Conv2D(32, (3, 3), activation='relu', kernel_initializer='he_uniform', padding='same'))\n",
    "model.add(MaxPooling2D((2, 2)))\n",
    "model.add(Conv2D(64, (3, 3), activation='relu', kernel_initializer='he_uniform', padding='same'))\n",
    "model.add(Conv2D(64, (3, 3), activation='relu', kernel_initializer='he_uniform', padding='same'))\n",
    "model.add(MaxPooling2D((2, 2)))\n",
    "model.add(Conv2D(128, (3, 3), activation='relu', kernel_initializer='he_uniform', padding='same'))\n",
    "model.add(Conv2D(128, (3, 3), activation='relu', kernel_initializer='he_uniform', padding='same'))\n",
    "model.add(MaxPooling2D((2, 2)))\n",
    "model.add(Flatten())\n",
    "model.add(Dense(128, activation='relu', kernel_initializer='he_uniform'))\n",
    "model.add(Dense(10, activation='softmax'))\n"
   ]
  },
  {
   "cell_type": "code",
   "execution_count": 6,
   "metadata": {
    "id": "n4FNW47pAzrk"
   },
   "outputs": [],
   "source": [
    "initial_lr = 0.1\n",
    "loss = \"sparse_categorical_crossentropy\"\n",
    "model.compile(SGD(lr=initial_lr), loss=loss ,metrics=['accuracy'])\n",
    "model.summary()"
   ]
  },
  {
   "cell_type": "code",
   "execution_count": 7,
   "metadata": {
    "id": "CMBGqCZWAzlG"
   },
   "outputs": [],
   "source": [
    "history = model.fit(x_train, y_train, epochs=100, batch_size=64, validation_data=(x_test, y_test), verbose=0)"
   ]
  },
  {
   "cell_type": "code",
   "execution_count": 8,
   "metadata": {
    "colab": {
     "base_uri": "https://localhost:8080/"
    },
    "id": "A3jKfueeAzio",
    "outputId": "2f10e529-957c-475d-837d-5d3a9969a648"
   },
   "outputs": [
    {
     "name": "stdout",
     "output_type": "stream",
     "text": [
      "> 73.720\n"
     ]
    }
   ],
   "source": [
    "_, acc = model.evaluate(x_test, y_test, verbose=0)\n",
    "print('> %.3f' % (acc * 100.0))"
   ]
  },
  {
   "cell_type": "code",
   "execution_count": null,
   "metadata": {
    "id": "gubsnDQkAzhp"
   },
   "outputs": [],
   "source": []
  },
  {
   "cell_type": "markdown",
   "metadata": {
    "id": "Y9OZOuircCMW"
   },
   "source": [
    "## Data Augmentation\n"
   ]
  },
  {
   "cell_type": "code",
   "execution_count": 9,
   "metadata": {
    "id": "E3in3q-hAzdM"
   },
   "outputs": [],
   "source": [
    "model = Sequential()\n",
    "model.add(Conv2D(32, (3, 3), activation='relu', kernel_initializer='he_uniform', padding='same', input_shape=(32, 32, 3)))\n",
    "model.add(Conv2D(32, (3, 3), activation='relu', kernel_initializer='he_uniform', padding='same'))\n",
    "model.add(MaxPooling2D((2, 2)))\n",
    "model.add(Conv2D(64, (3, 3), activation='relu', kernel_initializer='he_uniform', padding='same'))\n",
    "model.add(Conv2D(64, (3, 3), activation='relu', kernel_initializer='he_uniform', padding='same'))\n",
    "model.add(MaxPooling2D((2, 2)))\n",
    "model.add(Conv2D(128, (3, 3), activation='relu', kernel_initializer='he_uniform', padding='same'))\n",
    "model.add(Conv2D(128, (3, 3), activation='relu', kernel_initializer='he_uniform', padding='same'))\n",
    "model.add(MaxPooling2D((2, 2)))\n",
    "model.add(Flatten())\n",
    "model.add(Dense(128, activation='relu', kernel_initializer='he_uniform'))\n",
    "model.add(Dense(10, activation='softmax'))"
   ]
  },
  {
   "cell_type": "code",
   "execution_count": 10,
   "metadata": {
    "id": "ffg1vrrYAzaN"
   },
   "outputs": [],
   "source": [
    "opt = SGD(lr=0.001, momentum=0.9)\n",
    "model.compile(optimizer=opt, loss='categorical_crossentropy', metrics=['accuracy'])"
   ]
  },
  {
   "cell_type": "code",
   "execution_count": 13,
   "metadata": {
    "id": "plinfEERAzXC"
   },
   "outputs": [],
   "source": [
    "from keras.preprocessing.image import ImageDataGenerator\n",
    "datagen = ImageDataGenerator(width_shift_range=0.1, height_shift_range=0.1, horizontal_flip=True)"
   ]
  },
  {
   "cell_type": "code",
   "execution_count": 17,
   "metadata": {
    "id": "t_Nbk0jBuQtV"
   },
   "outputs": [],
   "source": [
    "it_train = datagen.flow(x_train, y_train, batch_size=64)"
   ]
  },
  {
   "cell_type": "code",
   "execution_count": 18,
   "metadata": {
    "id": "t1SjbJESucJs"
   },
   "outputs": [],
   "source": [
    "steps = int(x_train.shape[0] / 64)"
   ]
  },
  {
   "cell_type": "code",
   "execution_count": 12,
   "metadata": {
    "id": "YQRlH6-IobSQ"
   },
   "outputs": [],
   "source": [
    "datagen.fit(x_train)"
   ]
  },
  {
   "cell_type": "code",
   "execution_count": 20,
   "metadata": {
    "colab": {
     "base_uri": "https://localhost:8080/"
    },
    "id": "GXwD2Pu1obfq",
    "outputId": "50fec531-903a-4796-e5a3-2b95d35d739a"
   },
   "outputs": [
    {
     "name": "stdout",
     "output_type": "stream",
     "text": [
      "Epoch 1/100\n",
      "782/782 [==============================] - 29s 37ms/step - loss: 0.7202 - accuracy: 0.7457 - val_loss: 0.7251 - val_accuracy: 0.7543\n",
      "Epoch 2/100\n",
      "782/782 [==============================] - 29s 37ms/step - loss: 0.6959 - accuracy: 0.7576 - val_loss: 0.7568 - val_accuracy: 0.7516\n",
      "Epoch 3/100\n",
      "782/782 [==============================] - 29s 37ms/step - loss: 0.6767 - accuracy: 0.7621 - val_loss: 0.7056 - val_accuracy: 0.7609\n",
      "Epoch 4/100\n",
      "782/782 [==============================] - 29s 37ms/step - loss: 0.6607 - accuracy: 0.7668 - val_loss: 0.7199 - val_accuracy: 0.7562\n",
      "Epoch 5/100\n",
      "782/782 [==============================] - 29s 37ms/step - loss: 0.6447 - accuracy: 0.7759 - val_loss: 0.6701 - val_accuracy: 0.7735\n",
      "Epoch 6/100\n",
      "782/782 [==============================] - 29s 37ms/step - loss: 0.6336 - accuracy: 0.7789 - val_loss: 0.6658 - val_accuracy: 0.7817\n",
      "Epoch 7/100\n",
      "782/782 [==============================] - 29s 37ms/step - loss: 0.6210 - accuracy: 0.7839 - val_loss: 0.6878 - val_accuracy: 0.7693\n",
      "Epoch 8/100\n",
      "782/782 [==============================] - 29s 36ms/step - loss: 0.6061 - accuracy: 0.7882 - val_loss: 0.6711 - val_accuracy: 0.7726\n",
      "Epoch 9/100\n",
      "782/782 [==============================] - 29s 37ms/step - loss: 0.5918 - accuracy: 0.7933 - val_loss: 0.6500 - val_accuracy: 0.7801\n",
      "Epoch 10/100\n",
      "782/782 [==============================] - 28s 36ms/step - loss: 0.5802 - accuracy: 0.7964 - val_loss: 0.6670 - val_accuracy: 0.7819\n",
      "Epoch 11/100\n",
      "782/782 [==============================] - 29s 37ms/step - loss: 0.5646 - accuracy: 0.8031 - val_loss: 0.6556 - val_accuracy: 0.7838\n",
      "Epoch 12/100\n",
      "782/782 [==============================] - 29s 37ms/step - loss: 0.5564 - accuracy: 0.8045 - val_loss: 0.6569 - val_accuracy: 0.7817\n",
      "Epoch 13/100\n",
      "782/782 [==============================] - 29s 37ms/step - loss: 0.5461 - accuracy: 0.8076 - val_loss: 0.6280 - val_accuracy: 0.7929\n",
      "Epoch 14/100\n",
      "782/782 [==============================] - 28s 36ms/step - loss: 0.5360 - accuracy: 0.8130 - val_loss: 0.6424 - val_accuracy: 0.7901\n",
      "Epoch 15/100\n",
      "782/782 [==============================] - 28s 35ms/step - loss: 0.5257 - accuracy: 0.8169 - val_loss: 0.6219 - val_accuracy: 0.7938\n",
      "Epoch 16/100\n",
      "782/782 [==============================] - 28s 36ms/step - loss: 0.5215 - accuracy: 0.8172 - val_loss: 0.6454 - val_accuracy: 0.7906\n",
      "Epoch 17/100\n",
      "782/782 [==============================] - 28s 36ms/step - loss: 0.5053 - accuracy: 0.8242 - val_loss: 0.6341 - val_accuracy: 0.7892\n",
      "Epoch 18/100\n",
      "782/782 [==============================] - 27s 35ms/step - loss: 0.5011 - accuracy: 0.8253 - val_loss: 0.6282 - val_accuracy: 0.7977\n",
      "Epoch 19/100\n",
      "782/782 [==============================] - 28s 36ms/step - loss: 0.4907 - accuracy: 0.8283 - val_loss: 0.5906 - val_accuracy: 0.8047\n",
      "Epoch 20/100\n",
      "782/782 [==============================] - 27s 35ms/step - loss: 0.4822 - accuracy: 0.8324 - val_loss: 0.6282 - val_accuracy: 0.8009\n",
      "Epoch 21/100\n",
      "782/782 [==============================] - 28s 35ms/step - loss: 0.4730 - accuracy: 0.8332 - val_loss: 0.6183 - val_accuracy: 0.8052\n",
      "Epoch 22/100\n",
      "782/782 [==============================] - 29s 37ms/step - loss: 0.4696 - accuracy: 0.8342 - val_loss: 0.5850 - val_accuracy: 0.8088\n",
      "Epoch 23/100\n",
      "782/782 [==============================] - 28s 36ms/step - loss: 0.4621 - accuracy: 0.8386 - val_loss: 0.5850 - val_accuracy: 0.8075\n",
      "Epoch 24/100\n",
      "782/782 [==============================] - 28s 36ms/step - loss: 0.4573 - accuracy: 0.8404 - val_loss: 0.5717 - val_accuracy: 0.8119\n",
      "Epoch 25/100\n",
      "782/782 [==============================] - 28s 36ms/step - loss: 0.4494 - accuracy: 0.8421 - val_loss: 0.5870 - val_accuracy: 0.8107\n",
      "Epoch 26/100\n",
      "782/782 [==============================] - 28s 35ms/step - loss: 0.4385 - accuracy: 0.8459 - val_loss: 0.5912 - val_accuracy: 0.8104\n",
      "Epoch 27/100\n",
      "782/782 [==============================] - 28s 36ms/step - loss: 0.4317 - accuracy: 0.8486 - val_loss: 0.5944 - val_accuracy: 0.8083\n",
      "Epoch 28/100\n",
      "782/782 [==============================] - 28s 36ms/step - loss: 0.4264 - accuracy: 0.8507 - val_loss: 0.5911 - val_accuracy: 0.8118\n",
      "Epoch 29/100\n",
      "782/782 [==============================] - 28s 36ms/step - loss: 0.4194 - accuracy: 0.8527 - val_loss: 0.5819 - val_accuracy: 0.8164\n",
      "Epoch 30/100\n",
      "782/782 [==============================] - 28s 36ms/step - loss: 0.4170 - accuracy: 0.8526 - val_loss: 0.5526 - val_accuracy: 0.8211\n",
      "Epoch 31/100\n",
      "782/782 [==============================] - 28s 36ms/step - loss: 0.4097 - accuracy: 0.8572 - val_loss: 0.5714 - val_accuracy: 0.8188\n",
      "Epoch 32/100\n",
      "782/782 [==============================] - 27s 35ms/step - loss: 0.4010 - accuracy: 0.8587 - val_loss: 0.5731 - val_accuracy: 0.8192\n",
      "Epoch 33/100\n",
      "782/782 [==============================] - 28s 36ms/step - loss: 0.3976 - accuracy: 0.8598 - val_loss: 0.6087 - val_accuracy: 0.8116\n",
      "Epoch 34/100\n",
      "782/782 [==============================] - 28s 36ms/step - loss: 0.3901 - accuracy: 0.8633 - val_loss: 0.5795 - val_accuracy: 0.8126\n",
      "Epoch 35/100\n",
      "782/782 [==============================] - 28s 36ms/step - loss: 0.3843 - accuracy: 0.8624 - val_loss: 0.5809 - val_accuracy: 0.8172\n",
      "Epoch 36/100\n",
      "782/782 [==============================] - 28s 36ms/step - loss: 0.3876 - accuracy: 0.8643 - val_loss: 0.6007 - val_accuracy: 0.8081\n",
      "Epoch 37/100\n",
      "782/782 [==============================] - 28s 36ms/step - loss: 0.3761 - accuracy: 0.8681 - val_loss: 0.5728 - val_accuracy: 0.8234\n",
      "Epoch 38/100\n",
      "782/782 [==============================] - 29s 37ms/step - loss: 0.3704 - accuracy: 0.8700 - val_loss: 0.5660 - val_accuracy: 0.8205\n",
      "Epoch 39/100\n",
      "782/782 [==============================] - 29s 37ms/step - loss: 0.3644 - accuracy: 0.8706 - val_loss: 0.5611 - val_accuracy: 0.8244\n",
      "Epoch 40/100\n",
      "782/782 [==============================] - 29s 37ms/step - loss: 0.3622 - accuracy: 0.8721 - val_loss: 0.5908 - val_accuracy: 0.8149\n",
      "Epoch 41/100\n",
      "782/782 [==============================] - 29s 36ms/step - loss: 0.3547 - accuracy: 0.8754 - val_loss: 0.6018 - val_accuracy: 0.8147\n",
      "Epoch 42/100\n",
      "782/782 [==============================] - 29s 37ms/step - loss: 0.3509 - accuracy: 0.8766 - val_loss: 0.5717 - val_accuracy: 0.8216\n",
      "Epoch 43/100\n",
      "782/782 [==============================] - 29s 37ms/step - loss: 0.3440 - accuracy: 0.8789 - val_loss: 0.5673 - val_accuracy: 0.8269\n",
      "Epoch 44/100\n",
      "782/782 [==============================] - 30s 38ms/step - loss: 0.3433 - accuracy: 0.8779 - val_loss: 0.5748 - val_accuracy: 0.8238\n",
      "Epoch 45/100\n",
      "782/782 [==============================] - 28s 36ms/step - loss: 0.3426 - accuracy: 0.8782 - val_loss: 0.5840 - val_accuracy: 0.8206\n",
      "Epoch 46/100\n",
      "782/782 [==============================] - 29s 38ms/step - loss: 0.3309 - accuracy: 0.8840 - val_loss: 0.5415 - val_accuracy: 0.8325\n",
      "Epoch 47/100\n",
      "782/782 [==============================] - 30s 38ms/step - loss: 0.3321 - accuracy: 0.8819 - val_loss: 0.5530 - val_accuracy: 0.8305\n",
      "Epoch 48/100\n",
      "782/782 [==============================] - 30s 38ms/step - loss: 0.3243 - accuracy: 0.8859 - val_loss: 0.6000 - val_accuracy: 0.8228\n",
      "Epoch 49/100\n",
      "782/782 [==============================] - 29s 38ms/step - loss: 0.3246 - accuracy: 0.8854 - val_loss: 0.6194 - val_accuracy: 0.8187\n",
      "Epoch 50/100\n",
      "782/782 [==============================] - 28s 36ms/step - loss: 0.3217 - accuracy: 0.8863 - val_loss: 0.5839 - val_accuracy: 0.8211\n",
      "Epoch 51/100\n",
      "782/782 [==============================] - 28s 36ms/step - loss: 0.3138 - accuracy: 0.8890 - val_loss: 0.5459 - val_accuracy: 0.8355\n",
      "Epoch 52/100\n",
      "782/782 [==============================] - 28s 35ms/step - loss: 0.3118 - accuracy: 0.8884 - val_loss: 0.5881 - val_accuracy: 0.8264\n",
      "Epoch 53/100\n",
      "782/782 [==============================] - 27s 35ms/step - loss: 0.3029 - accuracy: 0.8924 - val_loss: 0.5881 - val_accuracy: 0.8265\n",
      "Epoch 54/100\n",
      "782/782 [==============================] - 27s 35ms/step - loss: 0.3002 - accuracy: 0.8930 - val_loss: 0.5815 - val_accuracy: 0.8268\n",
      "Epoch 55/100\n",
      "782/782 [==============================] - 28s 36ms/step - loss: 0.2982 - accuracy: 0.8947 - val_loss: 0.6081 - val_accuracy: 0.8240\n",
      "Epoch 56/100\n",
      "782/782 [==============================] - 27s 35ms/step - loss: 0.2977 - accuracy: 0.8933 - val_loss: 0.5808 - val_accuracy: 0.8293\n",
      "Epoch 57/100\n",
      "782/782 [==============================] - 27s 35ms/step - loss: 0.2929 - accuracy: 0.8958 - val_loss: 0.5572 - val_accuracy: 0.8353\n",
      "Epoch 58/100\n",
      "782/782 [==============================] - 28s 35ms/step - loss: 0.2906 - accuracy: 0.8977 - val_loss: 0.5750 - val_accuracy: 0.8354\n",
      "Epoch 59/100\n",
      "782/782 [==============================] - 28s 36ms/step - loss: 0.2842 - accuracy: 0.8998 - val_loss: 0.5882 - val_accuracy: 0.8296\n",
      "Epoch 60/100\n",
      "782/782 [==============================] - 28s 35ms/step - loss: 0.2799 - accuracy: 0.9001 - val_loss: 0.5671 - val_accuracy: 0.8382\n",
      "Epoch 61/100\n",
      "782/782 [==============================] - 28s 35ms/step - loss: 0.2742 - accuracy: 0.9023 - val_loss: 0.5859 - val_accuracy: 0.8288\n",
      "Epoch 62/100\n",
      "782/782 [==============================] - 28s 35ms/step - loss: 0.2733 - accuracy: 0.9028 - val_loss: 0.6105 - val_accuracy: 0.8325\n",
      "Epoch 63/100\n",
      "782/782 [==============================] - 28s 35ms/step - loss: 0.2713 - accuracy: 0.9048 - val_loss: 0.5609 - val_accuracy: 0.8333\n",
      "Epoch 64/100\n",
      "782/782 [==============================] - 28s 36ms/step - loss: 0.2657 - accuracy: 0.9073 - val_loss: 0.5741 - val_accuracy: 0.8366\n",
      "Epoch 65/100\n",
      "782/782 [==============================] - 28s 36ms/step - loss: 0.2632 - accuracy: 0.9075 - val_loss: 0.6217 - val_accuracy: 0.8211\n",
      "Epoch 66/100\n",
      "782/782 [==============================] - 28s 36ms/step - loss: 0.2639 - accuracy: 0.9066 - val_loss: 0.6040 - val_accuracy: 0.8274\n",
      "Epoch 67/100\n",
      "782/782 [==============================] - 28s 36ms/step - loss: 0.2591 - accuracy: 0.9064 - val_loss: 0.5970 - val_accuracy: 0.8354\n",
      "Epoch 68/100\n",
      "782/782 [==============================] - 28s 36ms/step - loss: 0.2576 - accuracy: 0.9088 - val_loss: 0.5776 - val_accuracy: 0.8334\n",
      "Epoch 69/100\n",
      "782/782 [==============================] - 28s 35ms/step - loss: 0.2520 - accuracy: 0.9108 - val_loss: 0.5551 - val_accuracy: 0.8410\n",
      "Epoch 70/100\n",
      "782/782 [==============================] - 28s 36ms/step - loss: 0.2492 - accuracy: 0.9120 - val_loss: 0.6100 - val_accuracy: 0.8304\n",
      "Epoch 71/100\n",
      "782/782 [==============================] - 28s 36ms/step - loss: 0.2461 - accuracy: 0.9125 - val_loss: 0.6258 - val_accuracy: 0.8327\n",
      "Epoch 72/100\n",
      "782/782 [==============================] - 28s 36ms/step - loss: 0.2444 - accuracy: 0.9128 - val_loss: 0.5723 - val_accuracy: 0.8353\n",
      "Epoch 73/100\n",
      "782/782 [==============================] - 29s 37ms/step - loss: 0.2440 - accuracy: 0.9128 - val_loss: 0.5912 - val_accuracy: 0.8323\n",
      "Epoch 74/100\n",
      "782/782 [==============================] - 28s 35ms/step - loss: 0.2385 - accuracy: 0.9167 - val_loss: 0.6039 - val_accuracy: 0.8364\n",
      "Epoch 75/100\n",
      "782/782 [==============================] - 28s 36ms/step - loss: 0.2374 - accuracy: 0.9144 - val_loss: 0.5674 - val_accuracy: 0.8421\n",
      "Epoch 76/100\n",
      "782/782 [==============================] - 28s 36ms/step - loss: 0.2350 - accuracy: 0.9162 - val_loss: 0.6455 - val_accuracy: 0.8285\n",
      "Epoch 77/100\n",
      "782/782 [==============================] - 29s 37ms/step - loss: 0.2340 - accuracy: 0.9161 - val_loss: 0.5848 - val_accuracy: 0.8402\n",
      "Epoch 78/100\n",
      "782/782 [==============================] - 28s 36ms/step - loss: 0.2282 - accuracy: 0.9192 - val_loss: 0.5977 - val_accuracy: 0.8341\n",
      "Epoch 79/100\n",
      "782/782 [==============================] - 28s 35ms/step - loss: 0.2298 - accuracy: 0.9185 - val_loss: 0.5800 - val_accuracy: 0.8326\n",
      "Epoch 80/100\n",
      "782/782 [==============================] - 27s 35ms/step - loss: 0.2240 - accuracy: 0.9203 - val_loss: 0.5816 - val_accuracy: 0.8410\n",
      "Epoch 81/100\n",
      "782/782 [==============================] - 28s 36ms/step - loss: 0.2222 - accuracy: 0.9215 - val_loss: 0.5987 - val_accuracy: 0.8379\n",
      "Epoch 82/100\n",
      "782/782 [==============================] - 28s 36ms/step - loss: 0.2215 - accuracy: 0.9209 - val_loss: 0.6257 - val_accuracy: 0.8344\n",
      "Epoch 83/100\n",
      "782/782 [==============================] - 28s 35ms/step - loss: 0.2153 - accuracy: 0.9233 - val_loss: 0.5884 - val_accuracy: 0.8420\n",
      "Epoch 84/100\n",
      "782/782 [==============================] - 28s 36ms/step - loss: 0.2139 - accuracy: 0.9232 - val_loss: 0.5963 - val_accuracy: 0.8384\n",
      "Epoch 85/100\n",
      "782/782 [==============================] - 28s 36ms/step - loss: 0.2120 - accuracy: 0.9240 - val_loss: 0.5569 - val_accuracy: 0.8495\n",
      "Epoch 86/100\n",
      "782/782 [==============================] - 28s 36ms/step - loss: 0.2117 - accuracy: 0.9255 - val_loss: 0.6044 - val_accuracy: 0.8408\n",
      "Epoch 87/100\n",
      "782/782 [==============================] - 28s 36ms/step - loss: 0.2090 - accuracy: 0.9254 - val_loss: 0.6015 - val_accuracy: 0.8375\n",
      "Epoch 88/100\n",
      "782/782 [==============================] - 29s 37ms/step - loss: 0.2042 - accuracy: 0.9279 - val_loss: 0.6649 - val_accuracy: 0.8281\n",
      "Epoch 89/100\n",
      "782/782 [==============================] - 29s 37ms/step - loss: 0.2041 - accuracy: 0.9266 - val_loss: 0.5924 - val_accuracy: 0.8424\n",
      "Epoch 90/100\n",
      "782/782 [==============================] - 29s 37ms/step - loss: 0.2000 - accuracy: 0.9282 - val_loss: 0.6357 - val_accuracy: 0.8347\n",
      "Epoch 91/100\n",
      "782/782 [==============================] - 29s 37ms/step - loss: 0.1983 - accuracy: 0.9290 - val_loss: 0.6623 - val_accuracy: 0.8252\n",
      "Epoch 92/100\n",
      "782/782 [==============================] - 29s 37ms/step - loss: 0.1920 - accuracy: 0.9314 - val_loss: 0.6408 - val_accuracy: 0.8377\n",
      "Epoch 93/100\n",
      "782/782 [==============================] - 29s 37ms/step - loss: 0.1980 - accuracy: 0.9289 - val_loss: 0.6354 - val_accuracy: 0.8362\n",
      "Epoch 94/100\n",
      "782/782 [==============================] - 29s 38ms/step - loss: 0.1931 - accuracy: 0.9301 - val_loss: 0.5935 - val_accuracy: 0.8438\n",
      "Epoch 95/100\n",
      "782/782 [==============================] - 30s 39ms/step - loss: 0.1923 - accuracy: 0.9316 - val_loss: 0.6082 - val_accuracy: 0.8426\n",
      "Epoch 96/100\n",
      "782/782 [==============================] - 29s 38ms/step - loss: 0.1897 - accuracy: 0.9327 - val_loss: 0.6434 - val_accuracy: 0.8338\n",
      "Epoch 97/100\n",
      "782/782 [==============================] - 29s 37ms/step - loss: 0.1866 - accuracy: 0.9335 - val_loss: 0.6214 - val_accuracy: 0.8405\n",
      "Epoch 98/100\n",
      "782/782 [==============================] - 30s 38ms/step - loss: 0.1846 - accuracy: 0.9338 - val_loss: 0.6052 - val_accuracy: 0.8433\n",
      "Epoch 99/100\n",
      "782/782 [==============================] - 30s 38ms/step - loss: 0.1833 - accuracy: 0.9334 - val_loss: 0.5945 - val_accuracy: 0.8463\n",
      "Epoch 100/100\n",
      "782/782 [==============================] - 29s 37ms/step - loss: 0.1805 - accuracy: 0.9349 - val_loss: 0.6244 - val_accuracy: 0.8346\n"
     ]
    }
   ],
   "source": [
    "history = model.fit_generator(datagen.flow(x_train, y_train,\n",
    "                                    batch_size=64),\n",
    "                                    epochs=100,\n",
    "                                    validation_data=(x_test, y_test),\n",
    "                                    workers=4)\n",
    "\n",
    "#history = model.fit_generator(it_train, steps_per_epoch=steps, epochs=100, validation_data=(x_test, y_test), verbose=0)"
   ]
  },
  {
   "cell_type": "code",
   "execution_count": 22,
   "metadata": {
    "colab": {
     "base_uri": "https://localhost:8080/"
    },
    "id": "RKjveqVQoiLA",
    "outputId": "6e96cd1d-2c27-4b9c-c72b-dd711f7a5eab"
   },
   "outputs": [
    {
     "name": "stdout",
     "output_type": "stream",
     "text": [
      "> 83.460\n"
     ]
    }
   ],
   "source": [
    "_, acc = model.evaluate(x_test, y_test, verbose=0)\n",
    "print('> %.3f' % (acc * 100.0))"
   ]
  },
  {
   "cell_type": "code",
   "execution_count": 24,
   "metadata": {
    "colab": {
     "base_uri": "https://localhost:8080/",
     "height": 299
    },
    "id": "Ql4J9iFYoiPJ",
    "outputId": "93b1d904-0348-459f-cb78-d3611fbd523e"
   },
   "outputs": [
    {
     "data": {
      "text/plain": [
       "[<matplotlib.lines.Line2D at 0x7fced865d160>]"
      ]
     },
     "execution_count": 24,
     "metadata": {
      "tags": []
     },
     "output_type": "execute_result"
    },
    {
     "data": {
      "image/png": "[encoded data removed]",
      "text/plain": [
       "<Figure size 432x288 with 2 Axes>"
      ]
     },
     "metadata": {
      "needs_background": "light",
      "tags": []
     },
     "output_type": "display_data"
    }
   ],
   "source": [
    "# plot loss\n",
    "from matplotlib import pyplot\n",
    "pyplot.subplot(211)\n",
    "pyplot.title('Cross Entropy Loss')\n",
    "pyplot.plot(history.history['loss'], color='blue', label='train')\n",
    "pyplot.plot(history.history['val_loss'], color='orange', label='test')\n",
    "# plot accuracy\n",
    "pyplot.subplot(212)\n",
    "pyplot.title('Classification Accuracy')\n",
    "pyplot.plot(history.history['accuracy'], color='blue', label='train')\n",
    "pyplot.plot(history.history['val_accuracy'], color='orange', label='test')"
   ]
  },
  {
   "cell_type": "code",
   "execution_count": null,
   "metadata": {
    "id": "ExcVOGwtXhy4"
   },
   "outputs": [],
   "source": []
  },
  {
   "cell_type": "code",
   "execution_count": null,
   "metadata": {
    "id": "2wohA2ybXh2Z"
   },
   "outputs": [],
   "source": []
  }
 ],
 "metadata": {
  "accelerator": "GPU",
  "colab": {
   "collapsed_sections": [],
   "name": "Data Augmentation-Cifar10.ipynb",
   "provenance": []
  },
  "kernelspec": {
   "display_name": "Python 3",
   "language": "python",
   "name": "python3"
  },
  "language_info": {
   "codemirror_mode": {
    "name": "ipython",
    "version": 3
   },
   "file_extension": ".py",
   "mimetype": "text/x-python",
   "name": "python",
   "nbconvert_exporter": "python",
   "pygments_lexer": "ipython3",
   "version": "3.7.4"
  },
  "toc": {
   "base_numbering": 1,
   "nav_menu": {},
   "number_sections": false,
   "sideBar": true,
   "skip_h1_title": false,
   "title_cell": "Table of Contents",
   "title_sidebar": "Contents",
   "toc_cell": false,
   "toc_position": {},
   "toc_section_display": true,
   "toc_window_display": false
  }
 },
 "nbformat": 4,
 "nbformat_minor": 1
}
