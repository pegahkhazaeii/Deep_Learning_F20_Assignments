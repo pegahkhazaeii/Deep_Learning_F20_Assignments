{
 "cells": [
  {
   "cell_type": "code",
   "execution_count": 3,
   "metadata": {
    "id": "SWgzqG2W5zIx"
   },
   "outputs": [],
   "source": [
    "from google.colab import drive\n",
    "import pandas as pd"
   ]
  },
  {
   "cell_type": "code",
   "execution_count": 5,
   "metadata": {
    "colab": {
     "base_uri": "https://localhost:8080/"
    },
    "id": "P8Mk8-YtKA23",
    "outputId": "acd180dc-9086-401b-ef2b-dd349e5cbfcb"
   },
   "outputs": [
    {
     "name": "stdout",
     "output_type": "stream",
     "text": [
      "Drive already mounted at /content/drive; to attempt to forcibly remount, call drive.mount(\"/content/drive\", force_remount=True).\n"
     ]
    }
   ],
   "source": [
    "drive.mount('/content/drive')"
   ]
  },
  {
   "cell_type": "code",
   "execution_count": 6,
   "metadata": {
    "id": "q9bHPuTE76wI"
   },
   "outputs": [],
   "source": [
    "train_data = pd.read_csv(\"/content/drive/My Drive/Deep Learning/fashion-mnist_train.csv\")\n",
    "test_data = pd.read_csv(\"/content/drive/My Drive/Deep Learning/fashion-mnist_test.csv\")"
   ]
  },
  {
   "cell_type": "code",
   "execution_count": 7,
   "metadata": {
    "id": "qeC7pKu2Lj3z"
   },
   "outputs": [],
   "source": [
    "y = train_data['label']\n",
    "X = train_data.drop(['label'],axis=1)"
   ]
  },
  {
   "cell_type": "code",
   "execution_count": 8,
   "metadata": {
    "id": "WHh4ZvA2LsnM"
   },
   "outputs": [],
   "source": [
    "X_test = test_data.drop(['label'],axis=1)\n",
    "y_test = test_data['label']"
   ]
  },
  {
   "cell_type": "code",
   "execution_count": 9,
   "metadata": {
    "id": "qc7piCVtMwm4"
   },
   "outputs": [],
   "source": [
    "del train_data"
   ]
  },
  {
   "cell_type": "code",
   "execution_count": 10,
   "metadata": {
    "id": "FqDtbtAyOZDg"
   },
   "outputs": [],
   "source": [
    "del test_data"
   ]
  },
  {
   "cell_type": "code",
   "execution_count": 11,
   "metadata": {
    "id": "TIOREg0QAPN9"
   },
   "outputs": [],
   "source": [
    "X = X.values.reshape(-1,28,28,1)"
   ]
  },
  {
   "cell_type": "code",
   "execution_count": 12,
   "metadata": {
    "id": "Ci2Mx-HEAQp6"
   },
   "outputs": [],
   "source": [
    "X_test = X_test.values.reshape(-1,28,28,1)"
   ]
  },
  {
   "cell_type": "code",
   "execution_count": 13,
   "metadata": {
    "id": "7X12JV0P_kF2"
   },
   "outputs": [],
   "source": [
    "X = X / 255\n",
    "X_test = X_test / 255"
   ]
  },
  {
   "cell_type": "code",
   "execution_count": 14,
   "metadata": {
    "id": "SJXvMPbg_mAG"
   },
   "outputs": [],
   "source": [
    "import warnings\n",
    "warnings.filterwarnings('ignore')"
   ]
  },
  {
   "cell_type": "code",
   "execution_count": 15,
   "metadata": {
    "id": "P3WM9IJz9lp3"
   },
   "outputs": [],
   "source": [
    "from keras.models import Sequential\n",
    "from keras.layers import Conv2D, Dense, Dropout, BatchNormalization, Flatten, MaxPool2D\n",
    "from keras.utils.np_utils import to_categorical"
   ]
  },
  {
   "cell_type": "code",
   "execution_count": 16,
   "metadata": {
    "id": "kLp_5yXu_tEO"
   },
   "outputs": [],
   "source": [
    "y = to_categorical(y,num_classes=10)"
   ]
  },
  {
   "cell_type": "code",
   "execution_count": 17,
   "metadata": {
    "id": "jk67NM8Ee-K0"
   },
   "outputs": [],
   "source": [
    "from keras.callbacks import ModelCheckpoint\n",
    "checkpoint = ModelCheckpoint('BWeight.md5',monitor='val_loss',\n",
    "                            save_best_only=True)"
   ]
  },
  {
   "cell_type": "code",
   "execution_count": 26,
   "metadata": {
    "id": "QMmhdFKZe-NW"
   },
   "outputs": [],
   "source": [
    "model = Sequential()\n",
    "model.add(Conv2D(filters = 32, kernel_size = (3,3),padding = 'Same', \n",
    "                 activation ='relu', input_shape = (28,28,1)))\n",
    "model.add(Conv2D(filters = 32, kernel_size = (3,3),padding = 'Same', \n",
    "                 activation ='relu'))\n",
    "model.add(MaxPool2D(pool_size=(2,2)))\n",
    "model.add(Dropout(0.25))\n",
    "model.add(Conv2D(filters = 64, kernel_size = (3,3),padding = 'Same', \n",
    "                 activation ='relu'))\n",
    "model.add(Conv2D(filters = 64, kernel_size = (3,3),padding = 'Same', \n",
    "                 activation ='relu'))\n",
    "model.add(MaxPool2D(pool_size=(2,2)))\n",
    "model.add(Dropout(0.25))\n",
    "model.add(Flatten())\n",
    "model.add(Dense(128, activation = 'relu'))\n",
    "model.add(Dropout(0.5))\n",
    "model.add(Dense(10,activation='softmax'))"
   ]
  },
  {
   "cell_type": "code",
   "execution_count": 27,
   "metadata": {
    "id": "qXGxnmxw65q9"
   },
   "outputs": [],
   "source": [
    "X_train, X_val, y_train, y_val = train_test_split(\n",
    "...     X, y, test_size=0.1)"
   ]
  },
  {
   "cell_type": "code",
   "execution_count": 34,
   "metadata": {
    "id": "7Tzrnv5Ee-Qu"
   },
   "outputs": [],
   "source": [
    "from keras import optimizers\n",
    "sgd = optimizers.SGD(lr=0.001, decay=1e-8, momentum=0.9, nesterov=True)"
   ]
  },
  {
   "cell_type": "code",
   "execution_count": 35,
   "metadata": {
    "id": "NJGaY-Dsf-C6"
   },
   "outputs": [],
   "source": [
    "model.compile(optimizer=sgd,loss = 'categorical_crossentropy', metrics=['accuracy'])"
   ]
  },
  {
   "cell_type": "markdown",
   "metadata": {
    "id": "PJaFlXNzBftn"
   },
   "source": [
    "# Without Data Augmentation"
   ]
  },
  {
   "cell_type": "code",
   "execution_count": 28,
   "metadata": {
    "colab": {
     "base_uri": "https://localhost:8080/"
    },
    "id": "c431xjQE54x1",
    "outputId": "1fcce845-6d5f-462e-bd01-a88427a86d04"
   },
   "outputs": [
    {
     "name": "stdout",
     "output_type": "stream",
     "text": [
      "Epoch 1/20\n",
      "844/844 [==============================] - 4s 5ms/step - loss: 0.9674 - accuracy: 0.6456\n",
      "Epoch 2/20\n",
      "844/844 [==============================] - 4s 5ms/step - loss: 0.6019 - accuracy: 0.7817\n",
      "Epoch 3/20\n",
      "844/844 [==============================] - 4s 5ms/step - loss: 0.5118 - accuracy: 0.8166\n",
      "Epoch 4/20\n",
      "844/844 [==============================] - 4s 5ms/step - loss: 0.4642 - accuracy: 0.8356\n",
      "Epoch 5/20\n",
      "844/844 [==============================] - 4s 5ms/step - loss: 0.4277 - accuracy: 0.8486\n",
      "Epoch 6/20\n",
      "844/844 [==============================] - 4s 5ms/step - loss: 0.4021 - accuracy: 0.8594\n",
      "Epoch 7/20\n",
      "844/844 [==============================] - 4s 5ms/step - loss: 0.3736 - accuracy: 0.8683\n",
      "Epoch 8/20\n",
      "844/844 [==============================] - 4s 5ms/step - loss: 0.3592 - accuracy: 0.8729\n",
      "Epoch 9/20\n",
      "844/844 [==============================] - 4s 5ms/step - loss: 0.3423 - accuracy: 0.8789\n",
      "Epoch 10/20\n",
      "844/844 [==============================] - 4s 5ms/step - loss: 0.3280 - accuracy: 0.8839\n",
      "Epoch 11/20\n",
      "844/844 [==============================] - 4s 5ms/step - loss: 0.3168 - accuracy: 0.8891\n",
      "Epoch 12/20\n",
      "844/844 [==============================] - 4s 5ms/step - loss: 0.3059 - accuracy: 0.8925\n",
      "Epoch 13/20\n",
      "844/844 [==============================] - 4s 5ms/step - loss: 0.2994 - accuracy: 0.8936\n",
      "Epoch 14/20\n",
      "844/844 [==============================] - 4s 5ms/step - loss: 0.2921 - accuracy: 0.8978\n",
      "Epoch 15/20\n",
      "844/844 [==============================] - 4s 5ms/step - loss: 0.2869 - accuracy: 0.8995\n",
      "Epoch 16/20\n",
      "844/844 [==============================] - 4s 5ms/step - loss: 0.2808 - accuracy: 0.9019\n",
      "Epoch 17/20\n",
      "844/844 [==============================] - 4s 5ms/step - loss: 0.2746 - accuracy: 0.9031\n",
      "Epoch 18/20\n",
      "844/844 [==============================] - 4s 5ms/step - loss: 0.2703 - accuracy: 0.9058\n",
      "Epoch 19/20\n",
      "844/844 [==============================] - 4s 5ms/step - loss: 0.2681 - accuracy: 0.9060\n",
      "Epoch 20/20\n",
      "844/844 [==============================] - 4s 5ms/step - loss: 0.2644 - accuracy: 0.9071\n"
     ]
    },
    {
     "data": {
      "text/plain": [
       "<tensorflow.python.keras.callbacks.History at 0x7f53fc0b7630>"
      ]
     },
     "execution_count": 28,
     "metadata": {
      "tags": []
     },
     "output_type": "execute_result"
    }
   ],
   "source": [
    "batch_size = 64\n",
    "opt = keras.optimizers.RMSprop(learning_rate=0.0001, decay=1e-6)\n",
    "\n",
    "model.compile(loss='categorical_crossentropy',\n",
    "              optimizer=opt,\n",
    "              metrics=['accuracy'])\n",
    "model.fit(X_train, y_train, epochs=20, batch_size=batch_size)\n",
    "\n",
    "\n",
    "\n"
   ]
  },
  {
   "cell_type": "markdown",
   "metadata": {
    "id": "FYpsnKyrBV_2"
   },
   "source": [
    "# Data Augmentation"
   ]
  },
  {
   "cell_type": "code",
   "execution_count": 29,
   "metadata": {
    "id": "L_Fph7uIgRiN"
   },
   "outputs": [],
   "source": [
    "from keras.preprocessing.image import ImageDataGenerator"
   ]
  },
  {
   "cell_type": "code",
   "execution_count": 30,
   "metadata": {
    "id": "bHuAm3Z0gdHp"
   },
   "outputs": [],
   "source": [
    "datagen = ImageDataGenerator(\n",
    "        featurewise_center=False,\n",
    "        samplewise_center=False,\n",
    "        featurewise_std_normalization=False,\n",
    "        samplewise_std_normalization=False,\n",
    "        zca_whitening=False,\n",
    "        zoom_range = 0.2,\n",
    "        width_shift_range=0.3,\n",
    "        height_shift_range=0.3,\n",
    "        horizontal_flip=True,\n",
    "        vertical_flip=False)"
   ]
  },
  {
   "cell_type": "code",
   "execution_count": 31,
   "metadata": {
    "id": "WV4q6eKGgzc7"
   },
   "outputs": [],
   "source": [
    "datagen.fit(X)\n",
    "\n"
   ]
  },
  {
   "cell_type": "code",
   "execution_count": null,
   "metadata": {
    "id": "vDceEZI-hNDW"
   },
   "outputs": [],
   "source": [
    "X_train, X_val, y_train, y_val = train_test_split(\n",
    "...     X, y, test_size=0.1)"
   ]
  },
  {
   "cell_type": "code",
   "execution_count": 32,
   "metadata": {
    "id": "fhPIKgzZhgLW"
   },
   "outputs": [],
   "source": [
    "size_batch = 28"
   ]
  },
  {
   "cell_type": "code",
   "execution_count": 33,
   "metadata": {
    "colab": {
     "base_uri": "https://localhost:8080/"
    },
    "id": "ynQ8K-Kj-jB2",
    "outputId": "a79a07f0-09d6-4de2-f6fc-d7ed501d7827"
   },
   "outputs": [
    {
     "name": "stdout",
     "output_type": "stream",
     "text": [
      "WARNING:tensorflow:From <ipython-input-33-c924dfe5cbfb>:7: Model.fit_generator (from tensorflow.python.keras.engine.training) is deprecated and will be removed in a future version.\n",
      "Instructions for updating:\n",
      "Please use Model.fit, which supports generators.\n",
      "Epoch 1/10\n",
      "WARNING:tensorflow:multiprocessing can interact badly with TensorFlow, causing nondeterministic deadlocks. For high performance data pipelines tf.data is recommended.\n",
      "WARNING:tensorflow:From /usr/local/lib/python3.6/dist-packages/tensorflow/python/training/tracking/tracking.py:111: Model.state_updates (from tensorflow.python.keras.engine.training) is deprecated and will be removed in a future version.\n",
      "Instructions for updating:\n",
      "This property should not be used in TensorFlow 2.0, as updates are applied automatically.\n",
      "WARNING:tensorflow:From /usr/local/lib/python3.6/dist-packages/tensorflow/python/training/tracking/tracking.py:111: Layer.updates (from tensorflow.python.keras.engine.base_layer) is deprecated and will be removed in a future version.\n",
      "Instructions for updating:\n",
      "This property should not be used in TensorFlow 2.0, as updates are applied automatically.\n",
      "INFO:tensorflow:Assets written to: BWeight.md5/assets\n",
      "1928/1928 - 17s - loss: 1.2488 - accuracy: 0.5480 - val_loss: 0.4285 - val_accuracy: 0.8603\n",
      "Epoch 2/10\n",
      "WARNING:tensorflow:multiprocessing can interact badly with TensorFlow, causing nondeterministic deadlocks. For high performance data pipelines tf.data is recommended.\n",
      "INFO:tensorflow:Assets written to: BWeight.md5/assets\n",
      "1928/1928 - 17s - loss: 0.9023 - accuracy: 0.6767 - val_loss: 0.4200 - val_accuracy: 0.8557\n",
      "Epoch 3/10\n",
      "WARNING:tensorflow:multiprocessing can interact badly with TensorFlow, causing nondeterministic deadlocks. For high performance data pipelines tf.data is recommended.\n",
      "1928/1928 - 15s - loss: 0.7949 - accuracy: 0.7153 - val_loss: 0.4420 - val_accuracy: 0.8502\n",
      "Epoch 4/10\n",
      "WARNING:tensorflow:multiprocessing can interact badly with TensorFlow, causing nondeterministic deadlocks. For high performance data pipelines tf.data is recommended.\n",
      "1928/1928 - 16s - loss: 0.7476 - accuracy: 0.7341 - val_loss: 0.4295 - val_accuracy: 0.8510\n",
      "Epoch 5/10\n",
      "WARNING:tensorflow:multiprocessing can interact badly with TensorFlow, causing nondeterministic deadlocks. For high performance data pipelines tf.data is recommended.\n",
      "INFO:tensorflow:Assets written to: BWeight.md5/assets\n",
      "1928/1928 - 16s - loss: 0.7122 - accuracy: 0.7453 - val_loss: 0.4041 - val_accuracy: 0.8587\n",
      "Epoch 6/10\n",
      "WARNING:tensorflow:multiprocessing can interact badly with TensorFlow, causing nondeterministic deadlocks. For high performance data pipelines tf.data is recommended.\n",
      "INFO:tensorflow:Assets written to: BWeight.md5/assets\n",
      "1928/1928 - 16s - loss: 0.6933 - accuracy: 0.7571 - val_loss: 0.4029 - val_accuracy: 0.8623\n",
      "Epoch 7/10\n",
      "WARNING:tensorflow:multiprocessing can interact badly with TensorFlow, causing nondeterministic deadlocks. For high performance data pipelines tf.data is recommended.\n",
      "1928/1928 - 16s - loss: 0.6792 - accuracy: 0.7591 - val_loss: 0.4258 - val_accuracy: 0.8567\n",
      "Epoch 8/10\n",
      "WARNING:tensorflow:multiprocessing can interact badly with TensorFlow, causing nondeterministic deadlocks. For high performance data pipelines tf.data is recommended.\n",
      "1928/1928 - 16s - loss: 0.6654 - accuracy: 0.7675 - val_loss: 0.4471 - val_accuracy: 0.8492\n",
      "Epoch 9/10\n",
      "WARNING:tensorflow:multiprocessing can interact badly with TensorFlow, causing nondeterministic deadlocks. For high performance data pipelines tf.data is recommended.\n",
      "1928/1928 - 16s - loss: 0.6482 - accuracy: 0.7734 - val_loss: 0.4109 - val_accuracy: 0.8568\n",
      "Epoch 10/10\n",
      "WARNING:tensorflow:multiprocessing can interact badly with TensorFlow, causing nondeterministic deadlocks. For high performance data pipelines tf.data is recommended.\n",
      "1928/1928 - 16s - loss: 0.6404 - accuracy: 0.7752 - val_loss: 0.4232 - val_accuracy: 0.8493\n"
     ]
    }
   ],
   "source": [
    "history = model.fit_generator(datagen.flow(X_train,y_train, batch_size=size_batch),\n",
    "                              epochs = 10,\n",
    "                              validation_data = (X_val,y_val),\n",
    "                              verbose = 2,\n",
    "                              steps_per_epoch = X_train.shape[0] // size_batch,\n",
    "                              callbacks=[checkpoint],\n",
    "                             use_multiprocessing=True)"
   ]
  },
  {
   "cell_type": "code",
   "execution_count": 34,
   "metadata": {
    "colab": {
     "base_uri": "https://localhost:8080/"
    },
    "id": "QY7qAG9kEXvu",
    "outputId": "034b482c-1d17-4716-a624-406f5969ea68"
   },
   "outputs": [
    {
     "name": "stdout",
     "output_type": "stream",
     "text": [
      "WARNING:tensorflow:From <ipython-input-34-d59531395106>:1: Sequential.predict_classes (from tensorflow.python.keras.engine.sequential) is deprecated and will be removed after 2021-01-01.\n",
      "Instructions for updating:\n",
      "Please use instead:* `np.argmax(model.predict(x), axis=-1)`,   if your model does multi-class classification   (e.g. if it uses a `softmax` last-layer activation).* `(model.predict(x) > 0.5).astype(\"int32\")`,   if your model does binary classification   (e.g. if it uses a `sigmoid` last-layer activation).\n"
     ]
    }
   ],
   "source": [
    "y_final_preds = model.predict_classes(X_test)"
   ]
  },
  {
   "cell_type": "code",
   "execution_count": 35,
   "metadata": {
    "id": "GwTtE8YOEcwh"
   },
   "outputs": [],
   "source": [
    "from sklearn.metrics import classification_report"
   ]
  },
  {
   "cell_type": "code",
   "execution_count": 36,
   "metadata": {
    "colab": {
     "base_uri": "https://localhost:8080/"
    },
    "id": "61juKM6VEf44",
    "outputId": "7d507fe8-77d8-4e8d-ecc8-f6fe131dd95b"
   },
   "outputs": [
    {
     "name": "stdout",
     "output_type": "stream",
     "text": [
      "              precision    recall  f1-score   support\n",
      "\n",
      "           0       0.81      0.79      0.80      1000\n",
      "           1       0.99      0.97      0.98      1000\n",
      "           2       0.90      0.72      0.80      1000\n",
      "           3       0.82      0.86      0.84      1000\n",
      "           4       0.79      0.68      0.73      1000\n",
      "           5       0.93      0.95      0.94      1000\n",
      "           6       0.51      0.70      0.59      1000\n",
      "           7       0.92      0.92      0.92      1000\n",
      "           8       0.96      0.96      0.96      1000\n",
      "           9       0.97      0.92      0.94      1000\n",
      "\n",
      "    accuracy                           0.85     10000\n",
      "   macro avg       0.86      0.85      0.85     10000\n",
      "weighted avg       0.86      0.85      0.85     10000\n",
      "\n"
     ]
    }
   ],
   "source": [
    "print(classification_report(y_test,y_final_preds))"
   ]
  },
  {
   "cell_type": "code",
   "execution_count": null,
   "metadata": {
    "id": "LOGM9IhnEpvO"
   },
   "outputs": [],
   "source": []
  }
 ],
 "metadata": {
  "accelerator": "GPU",
  "colab": {
   "collapsed_sections": [],
   "name": "FashionMnist-Augmentation.ipynb",
   "provenance": []
  },
  "kernelspec": {
   "display_name": "Python 3",
   "language": "python",
   "name": "python3"
  },
  "language_info": {
   "codemirror_mode": {
    "name": "ipython",
    "version": 3
   },
   "file_extension": ".py",
   "mimetype": "text/x-python",
   "name": "python",
   "nbconvert_exporter": "python",
   "pygments_lexer": "ipython3",
   "version": "3.7.4"
  },
  "toc": {
   "base_numbering": 1,
   "nav_menu": {},
   "number_sections": true,
   "sideBar": true,
   "skip_h1_title": false,
   "title_cell": "Table of Contents",
   "title_sidebar": "Contents",
   "toc_cell": false,
   "toc_position": {},
   "toc_section_display": true,
   "toc_window_display": false
  }
 },
 "nbformat": 4,
 "nbformat_minor": 1
}
