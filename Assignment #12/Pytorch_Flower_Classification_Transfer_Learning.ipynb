{
  "nbformat": 4,
  "nbformat_minor": 0,
  "metadata": {
    "colab": {
      "name": "Pytorch_Flower_Classification_Transfer_Learning.ipynb",
      "provenance": []
    },
    "kernelspec": {
      "name": "python3",
      "display_name": "Python 3"
    },
    "accelerator": "GPU",
    "widgets": {
      "application/vnd.jupyter.widget-state+json": {
        "b9b2fb9a115f4dcca86008489201102c": {
          "model_module": "@jupyter-widgets/controls",
          "model_name": "HBoxModel",
          "state": {
            "_view_name": "HBoxView",
            "_dom_classes": [],
            "_model_name": "HBoxModel",
            "_view_module": "@jupyter-widgets/controls",
            "_model_module_version": "1.5.0",
            "_view_count": null,
            "_view_module_version": "1.5.0",
            "box_style": "",
            "layout": "IPY_MODEL_0591b363539e45d3a4511f121234ec2f",
            "_model_module": "@jupyter-widgets/controls",
            "children": [
              "IPY_MODEL_39d47d6cfb6840c7a256460667163036",
              "IPY_MODEL_0210cd73d73a487db8b9db2d3f798a54"
            ]
          }
        },
        "0591b363539e45d3a4511f121234ec2f": {
          "model_module": "@jupyter-widgets/base",
          "model_name": "LayoutModel",
          "state": {
            "_view_name": "LayoutView",
            "grid_template_rows": null,
            "right": null,
            "justify_content": null,
            "_view_module": "@jupyter-widgets/base",
            "overflow": null,
            "_model_module_version": "1.2.0",
            "_view_count": null,
            "flex_flow": null,
            "width": null,
            "min_width": null,
            "border": null,
            "align_items": null,
            "bottom": null,
            "_model_module": "@jupyter-widgets/base",
            "top": null,
            "grid_column": null,
            "overflow_y": null,
            "overflow_x": null,
            "grid_auto_flow": null,
            "grid_area": null,
            "grid_template_columns": null,
            "flex": null,
            "_model_name": "LayoutModel",
            "justify_items": null,
            "grid_row": null,
            "max_height": null,
            "align_content": null,
            "visibility": null,
            "align_self": null,
            "height": null,
            "min_height": null,
            "padding": null,
            "grid_auto_rows": null,
            "grid_gap": null,
            "max_width": null,
            "order": null,
            "_view_module_version": "1.2.0",
            "grid_template_areas": null,
            "object_position": null,
            "object_fit": null,
            "grid_auto_columns": null,
            "margin": null,
            "display": null,
            "left": null
          }
        },
        "39d47d6cfb6840c7a256460667163036": {
          "model_module": "@jupyter-widgets/controls",
          "model_name": "FloatProgressModel",
          "state": {
            "_view_name": "ProgressView",
            "style": "IPY_MODEL_4f568c65b1064d0a978c6f93321d632c",
            "_dom_classes": [],
            "description": "100%",
            "_model_name": "FloatProgressModel",
            "bar_style": "success",
            "max": 553433881,
            "_view_module": "@jupyter-widgets/controls",
            "_model_module_version": "1.5.0",
            "value": 553433881,
            "_view_count": null,
            "_view_module_version": "1.5.0",
            "orientation": "horizontal",
            "min": 0,
            "description_tooltip": null,
            "_model_module": "@jupyter-widgets/controls",
            "layout": "IPY_MODEL_513a94ad128c4a25809dbcf1a55ee22e"
          }
        },
        "0210cd73d73a487db8b9db2d3f798a54": {
          "model_module": "@jupyter-widgets/controls",
          "model_name": "HTMLModel",
          "state": {
            "_view_name": "HTMLView",
            "style": "IPY_MODEL_084889dab215407aa160a30a674512f1",
            "_dom_classes": [],
            "description": "",
            "_model_name": "HTMLModel",
            "placeholder": "​",
            "_view_module": "@jupyter-widgets/controls",
            "_model_module_version": "1.5.0",
            "value": " 528M/528M [01:01&lt;00:00, 8.96MB/s]",
            "_view_count": null,
            "_view_module_version": "1.5.0",
            "description_tooltip": null,
            "_model_module": "@jupyter-widgets/controls",
            "layout": "IPY_MODEL_2138f272541247818c503fa63b47ae35"
          }
        },
        "4f568c65b1064d0a978c6f93321d632c": {
          "model_module": "@jupyter-widgets/controls",
          "model_name": "ProgressStyleModel",
          "state": {
            "_view_name": "StyleView",
            "_model_name": "ProgressStyleModel",
            "description_width": "initial",
            "_view_module": "@jupyter-widgets/base",
            "_model_module_version": "1.5.0",
            "_view_count": null,
            "_view_module_version": "1.2.0",
            "bar_color": null,
            "_model_module": "@jupyter-widgets/controls"
          }
        },
        "513a94ad128c4a25809dbcf1a55ee22e": {
          "model_module": "@jupyter-widgets/base",
          "model_name": "LayoutModel",
          "state": {
            "_view_name": "LayoutView",
            "grid_template_rows": null,
            "right": null,
            "justify_content": null,
            "_view_module": "@jupyter-widgets/base",
            "overflow": null,
            "_model_module_version": "1.2.0",
            "_view_count": null,
            "flex_flow": null,
            "width": null,
            "min_width": null,
            "border": null,
            "align_items": null,
            "bottom": null,
            "_model_module": "@jupyter-widgets/base",
            "top": null,
            "grid_column": null,
            "overflow_y": null,
            "overflow_x": null,
            "grid_auto_flow": null,
            "grid_area": null,
            "grid_template_columns": null,
            "flex": null,
            "_model_name": "LayoutModel",
            "justify_items": null,
            "grid_row": null,
            "max_height": null,
            "align_content": null,
            "visibility": null,
            "align_self": null,
            "height": null,
            "min_height": null,
            "padding": null,
            "grid_auto_rows": null,
            "grid_gap": null,
            "max_width": null,
            "order": null,
            "_view_module_version": "1.2.0",
            "grid_template_areas": null,
            "object_position": null,
            "object_fit": null,
            "grid_auto_columns": null,
            "margin": null,
            "display": null,
            "left": null
          }
        },
        "084889dab215407aa160a30a674512f1": {
          "model_module": "@jupyter-widgets/controls",
          "model_name": "DescriptionStyleModel",
          "state": {
            "_view_name": "StyleView",
            "_model_name": "DescriptionStyleModel",
            "description_width": "",
            "_view_module": "@jupyter-widgets/base",
            "_model_module_version": "1.5.0",
            "_view_count": null,
            "_view_module_version": "1.2.0",
            "_model_module": "@jupyter-widgets/controls"
          }
        },
        "2138f272541247818c503fa63b47ae35": {
          "model_module": "@jupyter-widgets/base",
          "model_name": "LayoutModel",
          "state": {
            "_view_name": "LayoutView",
            "grid_template_rows": null,
            "right": null,
            "justify_content": null,
            "_view_module": "@jupyter-widgets/base",
            "overflow": null,
            "_model_module_version": "1.2.0",
            "_view_count": null,
            "flex_flow": null,
            "width": null,
            "min_width": null,
            "border": null,
            "align_items": null,
            "bottom": null,
            "_model_module": "@jupyter-widgets/base",
            "top": null,
            "grid_column": null,
            "overflow_y": null,
            "overflow_x": null,
            "grid_auto_flow": null,
            "grid_area": null,
            "grid_template_columns": null,
            "flex": null,
            "_model_name": "LayoutModel",
            "justify_items": null,
            "grid_row": null,
            "max_height": null,
            "align_content": null,
            "visibility": null,
            "align_self": null,
            "height": null,
            "min_height": null,
            "padding": null,
            "grid_auto_rows": null,
            "grid_gap": null,
            "max_width": null,
            "order": null,
            "_view_module_version": "1.2.0",
            "grid_template_areas": null,
            "object_position": null,
            "object_fit": null,
            "grid_auto_columns": null,
            "margin": null,
            "display": null,
            "left": null
          }
        }
      }
    }
  },
  "cells": [
    {
      "cell_type": "code",
      "metadata": {
        "colab": {
          "base_uri": "https://localhost:8080/"
        },
        "id": "bqYzLreIVbDb",
        "outputId": "68ac51b6-0061-491c-a097-cb3065d429d1"
      },
      "source": [
        "import torch\r\n",
        "from torchvision import datasets, transforms\r\n",
        "from torch.autograd import Variable\r\n",
        "from google.colab import drive\r\n",
        "import glob\r\n",
        "drive.mount('/content/drive')"
      ],
      "execution_count": 5,
      "outputs": [
        {
          "output_type": "stream",
          "text": [
            "Drive already mounted at /content/drive; to attempt to forcibly remount, call drive.mount(\"/content/drive\", force_remount=True).\n"
          ],
          "name": "stdout"
        }
      ]
    },
    {
      "cell_type": "code",
      "metadata": {
        "colab": {
          "base_uri": "https://localhost:8080/"
        },
        "id": "4H-icm9EX0IP",
        "outputId": "032d619a-8bc3-452f-aedc-cac8933585b7"
      },
      "source": [
        "!ls \"/content/drive/My Drive/Deep Learning/flowers_\""
      ],
      "execution_count": 10,
      "outputs": [
        {
          "output_type": "stream",
          "text": [
            "flowers_  test\ttrain\n"
          ],
          "name": "stdout"
        }
      ]
    },
    {
      "cell_type": "code",
      "metadata": {
        "id": "pSQTj7aEYNEo"
      },
      "source": [
        "data_dir =\"/content/drive/My Drive/Deep Learning/flowers_\""
      ],
      "execution_count": 11,
      "outputs": []
    },
    {
      "cell_type": "code",
      "metadata": {
        "id": "dbgT8ywwVg2O"
      },
      "source": [
        "import torch\r\n",
        "from torchvision import datasets, transforms\r\n",
        "from torch.autograd import Variable\r\n",
        "mean = [0.485, 0.456, 0.406]\r\n",
        "std = [0.229, 0.224, 0.225]\r\n",
        "\r\n",
        "train_transform = transforms.Compose([\r\n",
        "                                transforms.Resize(256),\r\n",
        "                                transforms.RandomResizedCrop(224),\r\n",
        "                                transforms.RandomHorizontalFlip(),\r\n",
        "                                transforms.ToTensor(),\r\n",
        "                                transforms.Normalize(mean, std)])\r\n",
        "\r\n",
        "test_transform = transforms.Compose([\r\n",
        "                                transforms.Resize(256),\r\n",
        "                                transforms.CenterCrop(224),\r\n",
        "                                transforms.ToTensor(),\r\n",
        "                                transforms.Normalize(mean, std)])"
      ],
      "execution_count": 12,
      "outputs": []
    },
    {
      "cell_type": "code",
      "metadata": {
        "id": "0dfpqFK2WsAJ"
      },
      "source": [
        "img_datasets ={}"
      ],
      "execution_count": 13,
      "outputs": []
    },
    {
      "cell_type": "code",
      "metadata": {
        "id": "mVjtbYKDYTDq"
      },
      "source": [
        "# That's how easily you can for images folders in Pytorch for further operations\r\n",
        "img_datasets['train']= datasets.ImageFolder(data_dir + '/train', train_transform)\r\n",
        "img_datasets['test']= datasets.ImageFolder(data_dir + '/test', test_transform)"
      ],
      "execution_count": 14,
      "outputs": []
    },
    {
      "cell_type": "code",
      "metadata": {
        "colab": {
          "base_uri": "https://localhost:8080/"
        },
        "id": "3nx-gD54YV6n",
        "outputId": "f83d428b-fa96-4eae-a84d-82109ceaea5d"
      },
      "source": [
        "# these gets extracted from the folder name\r\n",
        "class_names = img_datasets['train'].classes\r\n",
        "class_names"
      ],
      "execution_count": 15,
      "outputs": [
        {
          "output_type": "execute_result",
          "data": {
            "text/plain": [
              "['daisy', 'dandelion', 'rose', 'sunflower', 'tulip']"
            ]
          },
          "metadata": {
            "tags": []
          },
          "execution_count": 15
        }
      ]
    },
    {
      "cell_type": "code",
      "metadata": {
        "colab": {
          "base_uri": "https://localhost:8080/"
        },
        "id": "bJxOz-iMYaFi",
        "outputId": "f02ee024-56f1-44d0-db4c-44e5322c1074"
      },
      "source": [
        "# these gets extracted from the folder name - class label mapping\r\n",
        "class_idx = img_datasets['train'].class_to_idx\r\n",
        "class_idx"
      ],
      "execution_count": 16,
      "outputs": [
        {
          "output_type": "execute_result",
          "data": {
            "text/plain": [
              "{'daisy': 0, 'dandelion': 1, 'rose': 2, 'sunflower': 3, 'tulip': 4}"
            ]
          },
          "metadata": {
            "tags": []
          },
          "execution_count": 16
        }
      ]
    },
    {
      "cell_type": "code",
      "metadata": {
        "id": "ROmo94RuYaj8"
      },
      "source": [
        "train_loader = torch.utils.data.DataLoader(img_datasets['train'],\r\n",
        "                                                   batch_size=10,\r\n",
        "                                                   shuffle=True,\r\n",
        "                                                   num_workers=4)\r\n",
        "\r\n",
        "test_loader = torch.utils.data.DataLoader(img_datasets['test'],\r\n",
        "                                                   batch_size=10,\r\n",
        "                                                   shuffle=True,\r\n",
        "                                                   num_workers=4)"
      ],
      "execution_count": 17,
      "outputs": []
    },
    {
      "cell_type": "code",
      "metadata": {
        "colab": {
          "base_uri": "https://localhost:8080/"
        },
        "id": "nbSWNC_xYc74",
        "outputId": "9f7186bc-3588-48c5-eb47-b54383846f50"
      },
      "source": [
        "images , labels = next(iter(train_loader))\r\n",
        "images.shape"
      ],
      "execution_count": 18,
      "outputs": [
        {
          "output_type": "execute_result",
          "data": {
            "text/plain": [
              "torch.Size([10, 3, 224, 224])"
            ]
          },
          "metadata": {
            "tags": []
          },
          "execution_count": 18
        }
      ]
    },
    {
      "cell_type": "code",
      "metadata": {
        "colab": {
          "base_uri": "https://localhost:8080/",
          "height": 84,
          "referenced_widgets": [
            "b9b2fb9a115f4dcca86008489201102c",
            "0591b363539e45d3a4511f121234ec2f",
            "39d47d6cfb6840c7a256460667163036",
            "0210cd73d73a487db8b9db2d3f798a54",
            "4f568c65b1064d0a978c6f93321d632c",
            "513a94ad128c4a25809dbcf1a55ee22e",
            "084889dab215407aa160a30a674512f1",
            "2138f272541247818c503fa63b47ae35"
          ]
        },
        "id": "oPH44JPUYgxx",
        "outputId": "df7abec3-5c04-4fd3-bc23-5e6cc6888b13"
      },
      "source": [
        "import torchvision.models as models\r\n",
        "\r\n",
        "model = models.vgg16(pretrained=True)"
      ],
      "execution_count": 19,
      "outputs": [
        {
          "output_type": "stream",
          "text": [
            "Downloading: \"https://download.pytorch.org/models/vgg16-397923af.pth\" to /root/.cache/torch/hub/checkpoints/vgg16-397923af.pth\n"
          ],
          "name": "stderr"
        },
        {
          "output_type": "display_data",
          "data": {
            "application/vnd.jupyter.widget-view+json": {
              "model_id": "b9b2fb9a115f4dcca86008489201102c",
              "version_minor": 0,
              "version_major": 2
            },
            "text/plain": [
              "HBox(children=(FloatProgress(value=0.0, max=553433881.0), HTML(value='')))"
            ]
          },
          "metadata": {
            "tags": []
          }
        },
        {
          "output_type": "stream",
          "text": [
            "\n"
          ],
          "name": "stdout"
        }
      ]
    },
    {
      "cell_type": "code",
      "metadata": {
        "id": "h_1fDjuTYjXO"
      },
      "source": [
        "for param in model.parameters():\r\n",
        "    param.required_grad = False"
      ],
      "execution_count": 20,
      "outputs": []
    },
    {
      "cell_type": "code",
      "metadata": {
        "colab": {
          "base_uri": "https://localhost:8080/"
        },
        "id": "NcMFsWQwYl1h",
        "outputId": "6475b3cc-6e63-46c6-af29-0296ee189806"
      },
      "source": [
        "model"
      ],
      "execution_count": 21,
      "outputs": [
        {
          "output_type": "execute_result",
          "data": {
            "text/plain": [
              "VGG(\n",
              "  (features): Sequential(\n",
              "    (0): Conv2d(3, 64, kernel_size=(3, 3), stride=(1, 1), padding=(1, 1))\n",
              "    (1): ReLU(inplace=True)\n",
              "    (2): Conv2d(64, 64, kernel_size=(3, 3), stride=(1, 1), padding=(1, 1))\n",
              "    (3): ReLU(inplace=True)\n",
              "    (4): MaxPool2d(kernel_size=2, stride=2, padding=0, dilation=1, ceil_mode=False)\n",
              "    (5): Conv2d(64, 128, kernel_size=(3, 3), stride=(1, 1), padding=(1, 1))\n",
              "    (6): ReLU(inplace=True)\n",
              "    (7): Conv2d(128, 128, kernel_size=(3, 3), stride=(1, 1), padding=(1, 1))\n",
              "    (8): ReLU(inplace=True)\n",
              "    (9): MaxPool2d(kernel_size=2, stride=2, padding=0, dilation=1, ceil_mode=False)\n",
              "    (10): Conv2d(128, 256, kernel_size=(3, 3), stride=(1, 1), padding=(1, 1))\n",
              "    (11): ReLU(inplace=True)\n",
              "    (12): Conv2d(256, 256, kernel_size=(3, 3), stride=(1, 1), padding=(1, 1))\n",
              "    (13): ReLU(inplace=True)\n",
              "    (14): Conv2d(256, 256, kernel_size=(3, 3), stride=(1, 1), padding=(1, 1))\n",
              "    (15): ReLU(inplace=True)\n",
              "    (16): MaxPool2d(kernel_size=2, stride=2, padding=0, dilation=1, ceil_mode=False)\n",
              "    (17): Conv2d(256, 512, kernel_size=(3, 3), stride=(1, 1), padding=(1, 1))\n",
              "    (18): ReLU(inplace=True)\n",
              "    (19): Conv2d(512, 512, kernel_size=(3, 3), stride=(1, 1), padding=(1, 1))\n",
              "    (20): ReLU(inplace=True)\n",
              "    (21): Conv2d(512, 512, kernel_size=(3, 3), stride=(1, 1), padding=(1, 1))\n",
              "    (22): ReLU(inplace=True)\n",
              "    (23): MaxPool2d(kernel_size=2, stride=2, padding=0, dilation=1, ceil_mode=False)\n",
              "    (24): Conv2d(512, 512, kernel_size=(3, 3), stride=(1, 1), padding=(1, 1))\n",
              "    (25): ReLU(inplace=True)\n",
              "    (26): Conv2d(512, 512, kernel_size=(3, 3), stride=(1, 1), padding=(1, 1))\n",
              "    (27): ReLU(inplace=True)\n",
              "    (28): Conv2d(512, 512, kernel_size=(3, 3), stride=(1, 1), padding=(1, 1))\n",
              "    (29): ReLU(inplace=True)\n",
              "    (30): MaxPool2d(kernel_size=2, stride=2, padding=0, dilation=1, ceil_mode=False)\n",
              "  )\n",
              "  (avgpool): AdaptiveAvgPool2d(output_size=(7, 7))\n",
              "  (classifier): Sequential(\n",
              "    (0): Linear(in_features=25088, out_features=4096, bias=True)\n",
              "    (1): ReLU(inplace=True)\n",
              "    (2): Dropout(p=0.5, inplace=False)\n",
              "    (3): Linear(in_features=4096, out_features=4096, bias=True)\n",
              "    (4): ReLU(inplace=True)\n",
              "    (5): Dropout(p=0.5, inplace=False)\n",
              "    (6): Linear(in_features=4096, out_features=1000, bias=True)\n",
              "  )\n",
              ")"
            ]
          },
          "metadata": {
            "tags": []
          },
          "execution_count": 21
        }
      ]
    },
    {
      "cell_type": "code",
      "metadata": {
        "colab": {
          "base_uri": "https://localhost:8080/"
        },
        "id": "J5lV6amLYoVx",
        "outputId": "0a64f18d-1167-44fb-df25-881406c2cfd8"
      },
      "source": [
        "num_of_inputs = model.classifier[0].in_features\r\n",
        "num_of_inputs"
      ],
      "execution_count": 22,
      "outputs": [
        {
          "output_type": "execute_result",
          "data": {
            "text/plain": [
              "25088"
            ]
          },
          "metadata": {
            "tags": []
          },
          "execution_count": 22
        }
      ]
    },
    {
      "cell_type": "code",
      "metadata": {
        "id": "Sh7CVM3PYrOl"
      },
      "source": [
        " #restructaring the classifier\r\n",
        "import torch.nn as nn\r\n",
        "model.classifier = nn.Sequential(\r\n",
        "                      nn.Linear(num_of_inputs, 5),\r\n",
        "                        nn.LogSoftmax(dim=1))"
      ],
      "execution_count": 23,
      "outputs": []
    },
    {
      "cell_type": "code",
      "metadata": {
        "colab": {
          "base_uri": "https://localhost:8080/"
        },
        "id": "6-6W-3kwYu-L",
        "outputId": "b614072d-66e2-4454-fc34-56b408f32424"
      },
      "source": [
        "model"
      ],
      "execution_count": 25,
      "outputs": [
        {
          "output_type": "execute_result",
          "data": {
            "text/plain": [
              "VGG(\n",
              "  (features): Sequential(\n",
              "    (0): Conv2d(3, 64, kernel_size=(3, 3), stride=(1, 1), padding=(1, 1))\n",
              "    (1): ReLU(inplace=True)\n",
              "    (2): Conv2d(64, 64, kernel_size=(3, 3), stride=(1, 1), padding=(1, 1))\n",
              "    (3): ReLU(inplace=True)\n",
              "    (4): MaxPool2d(kernel_size=2, stride=2, padding=0, dilation=1, ceil_mode=False)\n",
              "    (5): Conv2d(64, 128, kernel_size=(3, 3), stride=(1, 1), padding=(1, 1))\n",
              "    (6): ReLU(inplace=True)\n",
              "    (7): Conv2d(128, 128, kernel_size=(3, 3), stride=(1, 1), padding=(1, 1))\n",
              "    (8): ReLU(inplace=True)\n",
              "    (9): MaxPool2d(kernel_size=2, stride=2, padding=0, dilation=1, ceil_mode=False)\n",
              "    (10): Conv2d(128, 256, kernel_size=(3, 3), stride=(1, 1), padding=(1, 1))\n",
              "    (11): ReLU(inplace=True)\n",
              "    (12): Conv2d(256, 256, kernel_size=(3, 3), stride=(1, 1), padding=(1, 1))\n",
              "    (13): ReLU(inplace=True)\n",
              "    (14): Conv2d(256, 256, kernel_size=(3, 3), stride=(1, 1), padding=(1, 1))\n",
              "    (15): ReLU(inplace=True)\n",
              "    (16): MaxPool2d(kernel_size=2, stride=2, padding=0, dilation=1, ceil_mode=False)\n",
              "    (17): Conv2d(256, 512, kernel_size=(3, 3), stride=(1, 1), padding=(1, 1))\n",
              "    (18): ReLU(inplace=True)\n",
              "    (19): Conv2d(512, 512, kernel_size=(3, 3), stride=(1, 1), padding=(1, 1))\n",
              "    (20): ReLU(inplace=True)\n",
              "    (21): Conv2d(512, 512, kernel_size=(3, 3), stride=(1, 1), padding=(1, 1))\n",
              "    (22): ReLU(inplace=True)\n",
              "    (23): MaxPool2d(kernel_size=2, stride=2, padding=0, dilation=1, ceil_mode=False)\n",
              "    (24): Conv2d(512, 512, kernel_size=(3, 3), stride=(1, 1), padding=(1, 1))\n",
              "    (25): ReLU(inplace=True)\n",
              "    (26): Conv2d(512, 512, kernel_size=(3, 3), stride=(1, 1), padding=(1, 1))\n",
              "    (27): ReLU(inplace=True)\n",
              "    (28): Conv2d(512, 512, kernel_size=(3, 3), stride=(1, 1), padding=(1, 1))\n",
              "    (29): ReLU(inplace=True)\n",
              "    (30): MaxPool2d(kernel_size=2, stride=2, padding=0, dilation=1, ceil_mode=False)\n",
              "  )\n",
              "  (avgpool): AdaptiveAvgPool2d(output_size=(7, 7))\n",
              "  (classifier): Sequential(\n",
              "    (0): Linear(in_features=25088, out_features=5, bias=True)\n",
              "    (1): LogSoftmax(dim=1)\n",
              "  )\n",
              ")"
            ]
          },
          "metadata": {
            "tags": []
          },
          "execution_count": 25
        }
      ]
    },
    {
      "cell_type": "code",
      "metadata": {
        "colab": {
          "base_uri": "https://localhost:8080/"
        },
        "id": "vMrMLHC6YzTt",
        "outputId": "ab2dfd2d-2851-43a0-cc84-3e9851a51ce5"
      },
      "source": [
        "# check if CUDA is available\r\n",
        "train_on_gpu = torch.cuda.is_available()\r\n",
        "\r\n",
        "if not train_on_gpu:\r\n",
        "    print('CUDA is not available.  Training on CPU ...')\r\n",
        "else:\r\n",
        "    print('CUDA is available!  Training on GPU ...')\r\n",
        "# move tensors to GPU if CUDA is available\r\n",
        "if train_on_gpu:\r\n",
        "    model.cuda()"
      ],
      "execution_count": 26,
      "outputs": [
        {
          "output_type": "stream",
          "text": [
            "CUDA is available!  Training on GPU ...\n"
          ],
          "name": "stdout"
        }
      ]
    },
    {
      "cell_type": "code",
      "metadata": {
        "id": "aQjykZ6LY1KK"
      },
      "source": [
        "# loss function and optimizer\r\n",
        "criterion = nn.NLLLoss()\r\n",
        "optimizer = torch.optim.Adam(model.classifier.parameters(), lr=0.001)"
      ],
      "execution_count": 27,
      "outputs": []
    },
    {
      "cell_type": "code",
      "metadata": {
        "colab": {
          "base_uri": "https://localhost:8080/"
        },
        "id": "gev4i2dAY3yv",
        "outputId": "24cb5a47-fcf9-4357-afb4-17a16b7439c1"
      },
      "source": [
        "# number of epochs to train the model\r\n",
        "n_epochs = 10\r\n",
        "\r\n",
        "\r\n",
        "for epoch in range(n_epochs):\r\n",
        "    # monitor training loss\r\n",
        "    train_loss = 0.0\r\n",
        "    train_accuracy = 0\r\n",
        "    \r\n",
        "    ###################\r\n",
        "    # train the model #\r\n",
        "    ###################\r\n",
        "    model.train() # prep model for training\r\n",
        "    for data, target in train_loader:\r\n",
        "        if train_on_gpu:\r\n",
        "            data, target = Variable(data.cuda()), Variable(target.cuda())\r\n",
        "        # clear the gradients of all optimized variables\r\n",
        "        optimizer.zero_grad()\r\n",
        "        # forward pass: compute predicted outputs by passing inputs to the model\r\n",
        "        output = model(data)\r\n",
        "        # calculate the loss\r\n",
        "        loss = criterion(output, target)\r\n",
        "        # backward pass: compute gradient of the loss with respect to model parameters\r\n",
        "        loss.backward()\r\n",
        "        # perform a single optimization step (parameter update)\r\n",
        "        optimizer.step()\r\n",
        "        # update running training loss\r\n",
        "        train_loss += loss.item()*data.size(0)\r\n",
        "        #calculate accuracy\r\n",
        "        ps = torch.exp(output)\r\n",
        "        top_p, top_class = ps.topk(1, dim=1)\r\n",
        "        equals = top_class == target.view(*top_class.shape)\r\n",
        "        train_accuracy += torch.mean(equals.type(torch.FloatTensor)).item()\r\n",
        "    \r\n",
        "# calculate average loss over an epoch\r\n",
        "    train_loss = train_loss/len(train_loader.dataset)\r\n",
        "\r\n",
        "    print('Epoch: {} \\tTraining Loss: {:.6f}'.format(\r\n",
        "            epoch+1, \r\n",
        "            train_loss\r\n",
        "            ))\r\n",
        "    print(f\"Train accuracy: {train_accuracy/len(train_loader):.3f}\")"
      ],
      "execution_count": 28,
      "outputs": [
        {
          "output_type": "stream",
          "text": [
            "Epoch: 1 \tTraining Loss: 0.942139\n",
            "Train accuracy: 0.777\n",
            "Epoch: 2 \tTraining Loss: 0.914100\n",
            "Train accuracy: 0.827\n",
            "Epoch: 3 \tTraining Loss: 0.947418\n",
            "Train accuracy: 0.849\n",
            "Epoch: 4 \tTraining Loss: 0.859744\n",
            "Train accuracy: 0.855\n",
            "Epoch: 5 \tTraining Loss: 0.807114\n",
            "Train accuracy: 0.874\n",
            "Epoch: 6 \tTraining Loss: 0.968814\n",
            "Train accuracy: 0.869\n",
            "Epoch: 7 \tTraining Loss: 0.943166\n",
            "Train accuracy: 0.877\n",
            "Epoch: 8 \tTraining Loss: 0.857555\n",
            "Train accuracy: 0.894\n",
            "Epoch: 9 \tTraining Loss: 0.823931\n",
            "Train accuracy: 0.886\n",
            "Epoch: 10 \tTraining Loss: 0.874113\n",
            "Train accuracy: 0.884\n"
          ],
          "name": "stdout"
        }
      ]
    },
    {
      "cell_type": "code",
      "metadata": {
        "colab": {
          "base_uri": "https://localhost:8080/"
        },
        "id": "AXWNk0g-Y8yP",
        "outputId": "b59dfeac-2218-4d95-8673-3172c145600c"
      },
      "source": [
        "# Checking Test Performence\r\n",
        "test_accuracy = 0\r\n",
        "model.eval() # prep model for evaluation\r\n",
        "for data, target in test_loader:\r\n",
        "    if train_on_gpu:\r\n",
        "        data, target = Variable(data.cuda()), Variable(target.cuda())\r\n",
        "    # forward pass: compute predicted outputs by passing inputs to the model\r\n",
        "    output = model(data)\r\n",
        "    # calculate the loss\r\n",
        "    loss = criterion(output, target)\r\n",
        "    #calculate accuracy\r\n",
        "    ps = torch.exp(output)\r\n",
        "    top_p, top_class = ps.topk(1, dim=1)\r\n",
        "    equals = top_class == target.view(*top_class.shape)\r\n",
        "    test_accuracy += torch.mean(equals.type(torch.FloatTensor)).item()\r\n",
        "\r\n",
        "print(f\"Test accuracy: {test_accuracy/len(test_loader):.3f}\")"
      ],
      "execution_count": 29,
      "outputs": [
        {
          "output_type": "stream",
          "text": [
            "Test accuracy: 0.829\n"
          ],
          "name": "stdout"
        }
      ]
    },
    {
      "cell_type": "code",
      "metadata": {
        "id": "EVAtIPOUbzUc"
      },
      "source": [
        ""
      ],
      "execution_count": null,
      "outputs": []
    }
  ]
}