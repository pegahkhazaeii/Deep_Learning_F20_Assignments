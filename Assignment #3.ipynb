{
  "nbformat": 4,
  "nbformat_minor": 0,
  "metadata": {
    "colab": {
      "name": "Untitled0.ipynb",
      "provenance": []
    },
    "kernelspec": {
      "name": "python3",
      "display_name": "Python 3"
    },
    "accelerator": "GPU"
  },
  "cells": [
    {
      "cell_type": "markdown",
      "metadata": {
        "id": "v1Pw-EhdZrVP"
      },
      "source": [
        "Assignment set 3 by [Pegah Khazaei](https://github.com/pegahkhazaeii/Deep_Learning_F20_Assignments/), September 28, 2020"
      ]
    },
    {
      "cell_type": "code",
      "metadata": {
        "id": "jsBi0t47Z8nL"
      },
      "source": [
        "import torch\n",
        "import numpy as np"
      ],
      "execution_count": 20,
      "outputs": []
    },
    {
      "cell_type": "markdown",
      "metadata": {
        "id": "SKXliITwjDYR"
      },
      "source": [
        "Create three random tensors, including a 3 * 3 tensor as float, a 4 * 4 tensor as double, and a 5 * 3 * 4 tensor as short type"
      ]
    },
    {
      "cell_type": "code",
      "metadata": {
        "id": "z17Mdx8qLA_-",
        "outputId": "2fbb260c-fbaf-4125-dd6c-b2224886fea4",
        "colab": {
          "base_uri": "https://localhost:8080/",
          "height": 69
        }
      },
      "source": [
        "A = torch.randn(3,3, dtype=torch.float)\n",
        "A"
      ],
      "execution_count": 21,
      "outputs": [
        {
          "output_type": "execute_result",
          "data": {
            "text/plain": [
              "tensor([[ 0.6864,  0.2657, -0.2326],\n",
              "        [ 0.7944,  0.5242,  0.3279],\n",
              "        [ 0.7854, -0.1764, -0.1975]])"
            ]
          },
          "metadata": {
            "tags": []
          },
          "execution_count": 21
        }
      ]
    },
    {
      "cell_type": "code",
      "metadata": {
        "id": "1gg6cz86fbbe",
        "outputId": "b2264fce-2568-411c-d8a0-9eee5a7424d4",
        "colab": {
          "base_uri": "https://localhost:8080/",
          "height": 87
        }
      },
      "source": [
        "B = torch.randn(4,4, dtype=torch.double)\n",
        "B"
      ],
      "execution_count": 22,
      "outputs": [
        {
          "output_type": "execute_result",
          "data": {
            "text/plain": [
              "tensor([[-0.0616, -0.8535, -1.3463, -0.2824],\n",
              "        [-1.1061, -0.5148, -0.1858,  1.7297],\n",
              "        [ 0.6775,  0.1165, -0.7906, -0.3312],\n",
              "        [-0.6021, -0.5338,  1.0570, -0.2093]], dtype=torch.float64)"
            ]
          },
          "metadata": {
            "tags": []
          },
          "execution_count": 22
        }
      ]
    },
    {
      "cell_type": "code",
      "metadata": {
        "id": "ueIfiYZTg0qa",
        "outputId": "b4b24c1f-dd82-4af5-ea7a-f30f6c0926c5",
        "colab": {
          "base_uri": "https://localhost:8080/",
          "height": 347
        }
      },
      "source": [
        "C = torch.randint(0, 100, (5, 3, 4), dtype=torch.short)\n",
        "C"
      ],
      "execution_count": 23,
      "outputs": [
        {
          "output_type": "execute_result",
          "data": {
            "text/plain": [
              "tensor([[[61, 61, 91, 42],\n",
              "         [46, 45, 16, 58],\n",
              "         [13, 37, 38, 66]],\n",
              "\n",
              "        [[14, 34, 59,  8],\n",
              "         [15, 42, 12, 71],\n",
              "         [77, 17,  5, 89]],\n",
              "\n",
              "        [[56, 89, 61, 74],\n",
              "         [23, 77, 89, 34],\n",
              "         [ 4, 70, 81,  0]],\n",
              "\n",
              "        [[26, 10, 32, 11],\n",
              "         [82, 90, 64, 21],\n",
              "         [89,  5, 51, 44]],\n",
              "\n",
              "        [[41, 83, 81, 75],\n",
              "         [63, 56, 76, 51],\n",
              "         [65, 28,  1, 53]]], dtype=torch.int16)"
            ]
          },
          "metadata": {
            "tags": []
          },
          "execution_count": 23
        }
      ]
    },
    {
      "cell_type": "markdown",
      "metadata": {
        "id": "rU3344pSjIIt"
      },
      "source": [
        "Change their elements in the GPU\n",
        "\n",
        "\n"
      ]
    },
    {
      "cell_type": "code",
      "metadata": {
        "id": "15tK8Rodjw5L",
        "outputId": "138b31e1-fc65-4da5-f0c4-f2860d44ff83",
        "colab": {
          "base_uri": "https://localhost:8080/",
          "height": 69
        }
      },
      "source": [
        "A_gpu = A.to(device='cuda')\n",
        "A_gpu"
      ],
      "execution_count": 24,
      "outputs": [
        {
          "output_type": "execute_result",
          "data": {
            "text/plain": [
              "tensor([[ 0.6864,  0.2657, -0.2326],\n",
              "        [ 0.7944,  0.5242,  0.3279],\n",
              "        [ 0.7854, -0.1764, -0.1975]], device='cuda:0')"
            ]
          },
          "metadata": {
            "tags": []
          },
          "execution_count": 24
        }
      ]
    },
    {
      "cell_type": "code",
      "metadata": {
        "id": "CCCNHvMViC9W",
        "outputId": "5373307d-d21c-48b9-870d-910adba1683d",
        "colab": {
          "base_uri": "https://localhost:8080/",
          "height": 69
        }
      },
      "source": [
        "A_gpu = A_gpu * 2\n",
        "A_gpu"
      ],
      "execution_count": 25,
      "outputs": [
        {
          "output_type": "execute_result",
          "data": {
            "text/plain": [
              "tensor([[ 1.3728,  0.5314, -0.4652],\n",
              "        [ 1.5889,  1.0485,  0.6557],\n",
              "        [ 1.5707, -0.3529, -0.3949]], device='cuda:0')"
            ]
          },
          "metadata": {
            "tags": []
          },
          "execution_count": 25
        }
      ]
    },
    {
      "cell_type": "code",
      "metadata": {
        "id": "yQUN8wzllOd8",
        "outputId": "c6f802ba-9a82-4d80-87c9-ea8070fcf3f9",
        "colab": {
          "base_uri": "https://localhost:8080/",
          "height": 104
        }
      },
      "source": [
        "B_gpu = B.to(device='cuda')\n",
        "B_gpu"
      ],
      "execution_count": 26,
      "outputs": [
        {
          "output_type": "execute_result",
          "data": {
            "text/plain": [
              "tensor([[-0.0616, -0.8535, -1.3463, -0.2824],\n",
              "        [-1.1061, -0.5148, -0.1858,  1.7297],\n",
              "        [ 0.6775,  0.1165, -0.7906, -0.3312],\n",
              "        [-0.6021, -0.5338,  1.0570, -0.2093]], device='cuda:0',\n",
              "       dtype=torch.float64)"
            ]
          },
          "metadata": {
            "tags": []
          },
          "execution_count": 26
        }
      ]
    },
    {
      "cell_type": "code",
      "metadata": {
        "id": "vXXd9LyKkICl",
        "outputId": "99ca50df-829b-418c-8ef3-21e90bc85619",
        "colab": {
          "base_uri": "https://localhost:8080/",
          "height": 104
        }
      },
      "source": [
        "B_gpu = B_gpu + 3\n",
        "B_gpu"
      ],
      "execution_count": 27,
      "outputs": [
        {
          "output_type": "execute_result",
          "data": {
            "text/plain": [
              "tensor([[2.9384, 2.1465, 1.6537, 2.7176],\n",
              "        [1.8939, 2.4852, 2.8142, 4.7297],\n",
              "        [3.6775, 3.1165, 2.2094, 2.6688],\n",
              "        [2.3979, 2.4662, 4.0570, 2.7907]], device='cuda:0',\n",
              "       dtype=torch.float64)"
            ]
          },
          "metadata": {
            "tags": []
          },
          "execution_count": 27
        }
      ]
    },
    {
      "cell_type": "code",
      "metadata": {
        "id": "BfE5YtapleNp",
        "outputId": "00f683fb-99e9-4a3b-dfc9-8590792a28da",
        "colab": {
          "base_uri": "https://localhost:8080/",
          "height": 347
        }
      },
      "source": [
        "C_gpu = C.to(device='cuda')\n",
        "C_gpu"
      ],
      "execution_count": 28,
      "outputs": [
        {
          "output_type": "execute_result",
          "data": {
            "text/plain": [
              "tensor([[[61, 61, 91, 42],\n",
              "         [46, 45, 16, 58],\n",
              "         [13, 37, 38, 66]],\n",
              "\n",
              "        [[14, 34, 59,  8],\n",
              "         [15, 42, 12, 71],\n",
              "         [77, 17,  5, 89]],\n",
              "\n",
              "        [[56, 89, 61, 74],\n",
              "         [23, 77, 89, 34],\n",
              "         [ 4, 70, 81,  0]],\n",
              "\n",
              "        [[26, 10, 32, 11],\n",
              "         [82, 90, 64, 21],\n",
              "         [89,  5, 51, 44]],\n",
              "\n",
              "        [[41, 83, 81, 75],\n",
              "         [63, 56, 76, 51],\n",
              "         [65, 28,  1, 53]]], device='cuda:0', dtype=torch.int16)"
            ]
          },
          "metadata": {
            "tags": []
          },
          "execution_count": 28
        }
      ]
    },
    {
      "cell_type": "code",
      "metadata": {
        "id": "MXUGPiB_k0w8",
        "outputId": "ef1c8ea3-2e6e-46bb-b2d7-ee1d7b825ede",
        "colab": {
          "base_uri": "https://localhost:8080/",
          "height": 347
        }
      },
      "source": [
        "C_gpu = C_gpu - 5\n",
        "C_gpu"
      ],
      "execution_count": 29,
      "outputs": [
        {
          "output_type": "execute_result",
          "data": {
            "text/plain": [
              "tensor([[[56, 56, 86, 37],\n",
              "         [41, 40, 11, 53],\n",
              "         [ 8, 32, 33, 61]],\n",
              "\n",
              "        [[ 9, 29, 54,  3],\n",
              "         [10, 37,  7, 66],\n",
              "         [72, 12,  0, 84]],\n",
              "\n",
              "        [[51, 84, 56, 69],\n",
              "         [18, 72, 84, 29],\n",
              "         [-1, 65, 76, -5]],\n",
              "\n",
              "        [[21,  5, 27,  6],\n",
              "         [77, 85, 59, 16],\n",
              "         [84,  0, 46, 39]],\n",
              "\n",
              "        [[36, 78, 76, 70],\n",
              "         [58, 51, 71, 46],\n",
              "         [60, 23, -4, 48]]], device='cuda:0', dtype=torch.int16)"
            ]
          },
          "metadata": {
            "tags": []
          },
          "execution_count": 29
        }
      ]
    },
    {
      "cell_type": "markdown",
      "metadata": {
        "id": "Tai4nPeWlv--"
      },
      "source": [
        "Display the order of its elements and its transpose in the memory then use storage offset and contiguous"
      ]
    },
    {
      "cell_type": "markdown",
      "metadata": {
        "id": "qzGHW-6OmriB"
      },
      "source": [
        "Display A ( 3 * 3 tensor as float) and its transpose use storage"
      ]
    },
    {
      "cell_type": "code",
      "metadata": {
        "id": "Cy14qBSFuD0x",
        "outputId": "bd5bf1c1-eb97-4ed3-8442-f9e57841d25b",
        "colab": {
          "base_uri": "https://localhost:8080/",
          "height": 69
        }
      },
      "source": [
        "A_t=A.t()\n",
        "A_t"
      ],
      "execution_count": 30,
      "outputs": [
        {
          "output_type": "execute_result",
          "data": {
            "text/plain": [
              "tensor([[ 0.6864,  0.7944,  0.7854],\n",
              "        [ 0.2657,  0.5242, -0.1764],\n",
              "        [-0.2326,  0.3279, -0.1975]])"
            ]
          },
          "metadata": {
            "tags": []
          },
          "execution_count": 30
        }
      ]
    },
    {
      "cell_type": "code",
      "metadata": {
        "id": "7BfS20VWlkI1",
        "outputId": "cb08e1e3-64bd-4e31-e456-f04b0c005c76",
        "colab": {
          "base_uri": "https://localhost:8080/",
          "height": 191
        }
      },
      "source": [
        "print(A.storage())"
      ],
      "execution_count": 31,
      "outputs": [
        {
          "output_type": "stream",
          "text": [
            " 0.6863815188407898\n",
            " 0.2656787633895874\n",
            " -0.23260080814361572\n",
            " 0.7944348454475403\n",
            " 0.5242291688919067\n",
            " 0.3278549611568451\n",
            " 0.7853590846061707\n",
            " -0.1764255166053772\n",
            " -0.1974695771932602\n",
            "[torch.FloatStorage of size 9]\n"
          ],
          "name": "stdout"
        }
      ]
    },
    {
      "cell_type": "code",
      "metadata": {
        "id": "cljme0Q3uGPS",
        "outputId": "f12802f9-dfa3-4298-862a-afcc82ce0b81",
        "colab": {
          "base_uri": "https://localhost:8080/",
          "height": 191
        }
      },
      "source": [
        "print(A_t.storage())"
      ],
      "execution_count": 32,
      "outputs": [
        {
          "output_type": "stream",
          "text": [
            " 0.6863815188407898\n",
            " 0.2656787633895874\n",
            " -0.23260080814361572\n",
            " 0.7944348454475403\n",
            " 0.5242291688919067\n",
            " 0.3278549611568451\n",
            " 0.7853590846061707\n",
            " -0.1764255166053772\n",
            " -0.1974695771932602\n",
            "[torch.FloatStorage of size 9]\n"
          ],
          "name": "stdout"
        }
      ]
    },
    {
      "cell_type": "markdown",
      "metadata": {
        "id": "NWsWPSRAVu8y"
      },
      "source": [
        "Display A ( 3 * 3 tensor as float) in the memory and its transpose use storage_offse"
      ]
    },
    {
      "cell_type": "code",
      "metadata": {
        "id": "ypJOJdNqnY2M",
        "outputId": "a0832aa4-11a4-43aa-b53e-ab705895b6b4",
        "colab": {
          "base_uri": "https://localhost:8080/",
          "height": 35
        }
      },
      "source": [
        "print(A.storage_offset())"
      ],
      "execution_count": 33,
      "outputs": [
        {
          "output_type": "stream",
          "text": [
            "0\n"
          ],
          "name": "stdout"
        }
      ]
    },
    {
      "cell_type": "code",
      "metadata": {
        "id": "i4-3K0PhuPP9",
        "outputId": "1a9b221a-460d-4f1b-8c5e-1d64d3794009",
        "colab": {
          "base_uri": "https://localhost:8080/",
          "height": 35
        }
      },
      "source": [
        "print(A_t.storage_offset())"
      ],
      "execution_count": 34,
      "outputs": [
        {
          "output_type": "stream",
          "text": [
            "0\n"
          ],
          "name": "stdout"
        }
      ]
    },
    {
      "cell_type": "markdown",
      "metadata": {
        "id": "GEkvJGm8WG0c"
      },
      "source": [
        "Display A (3 * 3 tensor as float) in the memory and its transpose use contiguous"
      ]
    },
    {
      "cell_type": "code",
      "metadata": {
        "id": "i_pWImWlqMjB",
        "outputId": "fa01eedb-1471-4f8d-f6c5-dcaf975d48d4",
        "colab": {
          "base_uri": "https://localhost:8080/",
          "height": 69
        }
      },
      "source": [
        "print(A.contiguous())"
      ],
      "execution_count": 35,
      "outputs": [
        {
          "output_type": "stream",
          "text": [
            "tensor([[ 0.6864,  0.2657, -0.2326],\n",
            "        [ 0.7944,  0.5242,  0.3279],\n",
            "        [ 0.7854, -0.1764, -0.1975]])\n"
          ],
          "name": "stdout"
        }
      ]
    },
    {
      "cell_type": "code",
      "metadata": {
        "id": "mi_dp017q1Z3",
        "outputId": "c15a6228-2461-41a4-b957-9d52941b617a",
        "colab": {
          "base_uri": "https://localhost:8080/",
          "height": 69
        }
      },
      "source": [
        "print(A_t.contiguous())"
      ],
      "execution_count": 36,
      "outputs": [
        {
          "output_type": "stream",
          "text": [
            "tensor([[ 0.6864,  0.7944,  0.7854],\n",
            "        [ 0.2657,  0.5242, -0.1764],\n",
            "        [-0.2326,  0.3279, -0.1975]])\n"
          ],
          "name": "stdout"
        }
      ]
    },
    {
      "cell_type": "markdown",
      "metadata": {
        "id": "o8h8t_P1rzG8"
      },
      "source": [
        "##### Display B (4 * 4 tensor as double) and its transpose use storage"
      ]
    },
    {
      "cell_type": "code",
      "metadata": {
        "id": "WtXu-qW0srVw",
        "outputId": "fb6a39b4-390a-48df-a1f0-29177c8fa7a4",
        "colab": {
          "base_uri": "https://localhost:8080/",
          "height": 87
        }
      },
      "source": [
        "B_t=B.t()\n",
        "B_t"
      ],
      "execution_count": 37,
      "outputs": [
        {
          "output_type": "execute_result",
          "data": {
            "text/plain": [
              "tensor([[-0.0616, -1.1061,  0.6775, -0.6021],\n",
              "        [-0.8535, -0.5148,  0.1165, -0.5338],\n",
              "        [-1.3463, -0.1858, -0.7906,  1.0570],\n",
              "        [-0.2824,  1.7297, -0.3312, -0.2093]], dtype=torch.float64)"
            ]
          },
          "metadata": {
            "tags": []
          },
          "execution_count": 37
        }
      ]
    },
    {
      "cell_type": "code",
      "metadata": {
        "id": "Kx4xZJPnpKXV",
        "outputId": "3f2c7fb1-e728-41c8-9aff-2a65e3c1ebdb",
        "colab": {
          "base_uri": "https://localhost:8080/",
          "height": 35
        }
      },
      "source": [
        "B.stride()"
      ],
      "execution_count": 38,
      "outputs": [
        {
          "output_type": "execute_result",
          "data": {
            "text/plain": [
              "(4, 1)"
            ]
          },
          "metadata": {
            "tags": []
          },
          "execution_count": 38
        }
      ]
    },
    {
      "cell_type": "code",
      "metadata": {
        "id": "igJR7cPBpI0A",
        "outputId": "78b4749a-99ed-4e73-b3bd-3e45e11bc2b7",
        "colab": {
          "base_uri": "https://localhost:8080/",
          "height": 35
        }
      },
      "source": [
        "B_t.stride()"
      ],
      "execution_count": 39,
      "outputs": [
        {
          "output_type": "execute_result",
          "data": {
            "text/plain": [
              "(1, 4)"
            ]
          },
          "metadata": {
            "tags": []
          },
          "execution_count": 39
        }
      ]
    },
    {
      "cell_type": "code",
      "metadata": {
        "id": "W11FZtRbq6VQ",
        "outputId": "9199e635-0ba5-4e2d-baaa-a6dbf2a3fea0",
        "colab": {
          "base_uri": "https://localhost:8080/",
          "height": 312
        }
      },
      "source": [
        "print(B.storage())"
      ],
      "execution_count": 40,
      "outputs": [
        {
          "output_type": "stream",
          "text": [
            " -0.06157679210283572\n",
            " -0.8535091127623161\n",
            " -1.3463335528003266\n",
            " -0.28243708563876685\n",
            " -1.106137933965504\n",
            " -0.5148291567400507\n",
            " -0.18578877819413792\n",
            " 1.729652934819689\n",
            " 0.6775199586190435\n",
            " 0.11645251515736678\n",
            " -0.7906398525475277\n",
            " -0.33119272322058146\n",
            " -0.6020525049525334\n",
            " -0.533752693341385\n",
            " 1.0570290919537308\n",
            " -0.20925632604091304\n",
            "[torch.DoubleStorage of size 16]\n"
          ],
          "name": "stdout"
        }
      ]
    },
    {
      "cell_type": "code",
      "metadata": {
        "id": "nfeoHtgCt3W8",
        "outputId": "66867d7b-46ae-465f-8fc5-eba4ab3eb53d",
        "colab": {
          "base_uri": "https://localhost:8080/",
          "height": 312
        }
      },
      "source": [
        "print(B_t.storage())"
      ],
      "execution_count": 41,
      "outputs": [
        {
          "output_type": "stream",
          "text": [
            " -0.06157679210283572\n",
            " -0.8535091127623161\n",
            " -1.3463335528003266\n",
            " -0.28243708563876685\n",
            " -1.106137933965504\n",
            " -0.5148291567400507\n",
            " -0.18578877819413792\n",
            " 1.729652934819689\n",
            " 0.6775199586190435\n",
            " 0.11645251515736678\n",
            " -0.7906398525475277\n",
            " -0.33119272322058146\n",
            " -0.6020525049525334\n",
            " -0.533752693341385\n",
            " 1.0570290919537308\n",
            " -0.20925632604091304\n",
            "[torch.DoubleStorage of size 16]\n"
          ],
          "name": "stdout"
        }
      ]
    },
    {
      "cell_type": "markdown",
      "metadata": {
        "id": "_jTOoM4lsR3-"
      },
      "source": [
        "Display B ( 4 * 4 tensor as double)  in the memory and its transpose use storage_offset"
      ]
    },
    {
      "cell_type": "code",
      "metadata": {
        "id": "oVjkxhhbrhhM",
        "outputId": "f1655e5c-518e-40d5-ee70-9f52fa78aaab",
        "colab": {
          "base_uri": "https://localhost:8080/",
          "height": 35
        }
      },
      "source": [
        "print(B.storage_offset())"
      ],
      "execution_count": 42,
      "outputs": [
        {
          "output_type": "stream",
          "text": [
            "0\n"
          ],
          "name": "stdout"
        }
      ]
    },
    {
      "cell_type": "code",
      "metadata": {
        "id": "UjlB5ZLJsjei",
        "outputId": "2caa6ac6-75f2-4a47-9e3e-fd54b7d09d46",
        "colab": {
          "base_uri": "https://localhost:8080/",
          "height": 35
        }
      },
      "source": [
        "print(B_t.storage_offset())"
      ],
      "execution_count": 43,
      "outputs": [
        {
          "output_type": "stream",
          "text": [
            "0\n"
          ],
          "name": "stdout"
        }
      ]
    },
    {
      "cell_type": "markdown",
      "metadata": {
        "id": "z_z4xiy8tNH2"
      },
      "source": [
        "Display B (4 * 4 tensor as double)  in the memory and its transpose use contiguous"
      ]
    },
    {
      "cell_type": "code",
      "metadata": {
        "id": "Sl_b8uIrtGnA",
        "outputId": "348d3271-0613-470f-8455-4d38a9f1e143",
        "colab": {
          "base_uri": "https://localhost:8080/",
          "height": 87
        }
      },
      "source": [
        "print(B.contiguous())"
      ],
      "execution_count": 44,
      "outputs": [
        {
          "output_type": "stream",
          "text": [
            "tensor([[-0.0616, -0.8535, -1.3463, -0.2824],\n",
            "        [-1.1061, -0.5148, -0.1858,  1.7297],\n",
            "        [ 0.6775,  0.1165, -0.7906, -0.3312],\n",
            "        [-0.6021, -0.5338,  1.0570, -0.2093]], dtype=torch.float64)\n"
          ],
          "name": "stdout"
        }
      ]
    },
    {
      "cell_type": "code",
      "metadata": {
        "id": "glELt7yetenP",
        "outputId": "83702ecf-2f98-4e57-b7b1-9662e33ebaa0",
        "colab": {
          "base_uri": "https://localhost:8080/",
          "height": 87
        }
      },
      "source": [
        "print(B_t.contiguous())"
      ],
      "execution_count": 45,
      "outputs": [
        {
          "output_type": "stream",
          "text": [
            "tensor([[-0.0616, -1.1061,  0.6775, -0.6021],\n",
            "        [-0.8535, -0.5148,  0.1165, -0.5338],\n",
            "        [-1.3463, -0.1858, -0.7906,  1.0570],\n",
            "        [-0.2824,  1.7297, -0.3312, -0.2093]], dtype=torch.float64)\n"
          ],
          "name": "stdout"
        }
      ]
    },
    {
      "cell_type": "markdown",
      "metadata": {
        "id": "Kz8kzvSeWhHN"
      },
      "source": [
        "Display C (5 * 3 * 4 tensor as short type) in the memory and its transpose use storage"
      ]
    },
    {
      "cell_type": "code",
      "metadata": {
        "id": "ORwAZOjmtg31",
        "outputId": "928bfad6-770c-4c6c-e89d-1ae042cadb07",
        "colab": {
          "base_uri": "https://localhost:8080/",
          "height": 312
        }
      },
      "source": [
        "C_t=C.transpose(1,0)\n",
        "C_t"
      ],
      "execution_count": 46,
      "outputs": [
        {
          "output_type": "execute_result",
          "data": {
            "text/plain": [
              "tensor([[[61, 61, 91, 42],\n",
              "         [14, 34, 59,  8],\n",
              "         [56, 89, 61, 74],\n",
              "         [26, 10, 32, 11],\n",
              "         [41, 83, 81, 75]],\n",
              "\n",
              "        [[46, 45, 16, 58],\n",
              "         [15, 42, 12, 71],\n",
              "         [23, 77, 89, 34],\n",
              "         [82, 90, 64, 21],\n",
              "         [63, 56, 76, 51]],\n",
              "\n",
              "        [[13, 37, 38, 66],\n",
              "         [77, 17,  5, 89],\n",
              "         [ 4, 70, 81,  0],\n",
              "         [89,  5, 51, 44],\n",
              "         [65, 28,  1, 53]]], dtype=torch.int16)"
            ]
          },
          "metadata": {
            "tags": []
          },
          "execution_count": 46
        }
      ]
    },
    {
      "cell_type": "code",
      "metadata": {
        "id": "cOrKc0SNtpqT",
        "outputId": "bb31649b-19f9-43b5-da87-23d2074ae93a",
        "colab": {
          "base_uri": "https://localhost:8080/",
          "height": 1000
        }
      },
      "source": [
        "print(C.storage())"
      ],
      "execution_count": 47,
      "outputs": [
        {
          "output_type": "stream",
          "text": [
            " 61\n",
            " 61\n",
            " 91\n",
            " 42\n",
            " 46\n",
            " 45\n",
            " 16\n",
            " 58\n",
            " 13\n",
            " 37\n",
            " 38\n",
            " 66\n",
            " 14\n",
            " 34\n",
            " 59\n",
            " 8\n",
            " 15\n",
            " 42\n",
            " 12\n",
            " 71\n",
            " 77\n",
            " 17\n",
            " 5\n",
            " 89\n",
            " 56\n",
            " 89\n",
            " 61\n",
            " 74\n",
            " 23\n",
            " 77\n",
            " 89\n",
            " 34\n",
            " 4\n",
            " 70\n",
            " 81\n",
            " 0\n",
            " 26\n",
            " 10\n",
            " 32\n",
            " 11\n",
            " 82\n",
            " 90\n",
            " 64\n",
            " 21\n",
            " 89\n",
            " 5\n",
            " 51\n",
            " 44\n",
            " 41\n",
            " 83\n",
            " 81\n",
            " 75\n",
            " 63\n",
            " 56\n",
            " 76\n",
            " 51\n",
            " 65\n",
            " 28\n",
            " 1\n",
            " 53\n",
            "[torch.ShortStorage of size 60]\n"
          ],
          "name": "stdout"
        }
      ]
    },
    {
      "cell_type": "code",
      "metadata": {
        "id": "lGYfkOsgu3rN",
        "outputId": "03f9cba5-2807-4c04-e545-f5b3a9825556",
        "colab": {
          "base_uri": "https://localhost:8080/",
          "height": 1000
        }
      },
      "source": [
        "print(C_t.storage())"
      ],
      "execution_count": 48,
      "outputs": [
        {
          "output_type": "stream",
          "text": [
            " 61\n",
            " 61\n",
            " 91\n",
            " 42\n",
            " 46\n",
            " 45\n",
            " 16\n",
            " 58\n",
            " 13\n",
            " 37\n",
            " 38\n",
            " 66\n",
            " 14\n",
            " 34\n",
            " 59\n",
            " 8\n",
            " 15\n",
            " 42\n",
            " 12\n",
            " 71\n",
            " 77\n",
            " 17\n",
            " 5\n",
            " 89\n",
            " 56\n",
            " 89\n",
            " 61\n",
            " 74\n",
            " 23\n",
            " 77\n",
            " 89\n",
            " 34\n",
            " 4\n",
            " 70\n",
            " 81\n",
            " 0\n",
            " 26\n",
            " 10\n",
            " 32\n",
            " 11\n",
            " 82\n",
            " 90\n",
            " 64\n",
            " 21\n",
            " 89\n",
            " 5\n",
            " 51\n",
            " 44\n",
            " 41\n",
            " 83\n",
            " 81\n",
            " 75\n",
            " 63\n",
            " 56\n",
            " 76\n",
            " 51\n",
            " 65\n",
            " 28\n",
            " 1\n",
            " 53\n",
            "[torch.ShortStorage of size 60]\n"
          ],
          "name": "stdout"
        }
      ]
    },
    {
      "cell_type": "markdown",
      "metadata": {
        "id": "EblofmCMWzMn"
      },
      "source": [
        "Display C (5 * 3 * 4 tensor as short type) in the memory and its transpose use storage_offset"
      ]
    },
    {
      "cell_type": "code",
      "metadata": {
        "id": "oXfTtFhIu9AM",
        "outputId": "dac67392-fcc0-4feb-da3d-5d9b48878bd8",
        "colab": {
          "base_uri": "https://localhost:8080/",
          "height": 35
        }
      },
      "source": [
        "print(C.storage_offset())"
      ],
      "execution_count": 70,
      "outputs": [
        {
          "output_type": "stream",
          "text": [
            "0\n"
          ],
          "name": "stdout"
        }
      ]
    },
    {
      "cell_type": "code",
      "metadata": {
        "id": "qDd2dll1vFpG",
        "outputId": "b699aee4-7d7e-49c7-98c0-5e7257ccad3d",
        "colab": {
          "base_uri": "https://localhost:8080/",
          "height": 35
        }
      },
      "source": [
        "print(C_t.storage_offset())"
      ],
      "execution_count": 71,
      "outputs": [
        {
          "output_type": "stream",
          "text": [
            "0\n"
          ],
          "name": "stdout"
        }
      ]
    },
    {
      "cell_type": "markdown",
      "metadata": {
        "id": "fuXQCwlVXJR3"
      },
      "source": [
        "Display C (5 * 3 * 4 tensor as short type) in the memory and its transpose use contiguous"
      ]
    },
    {
      "cell_type": "code",
      "metadata": {
        "id": "BspYDxHOvI8p",
        "outputId": "7f83faab-d5f9-40db-9d46-616618435915",
        "colab": {
          "base_uri": "https://localhost:8080/",
          "height": 347
        }
      },
      "source": [
        "print(C.contiguous())"
      ],
      "execution_count": 72,
      "outputs": [
        {
          "output_type": "stream",
          "text": [
            "tensor([[[78, 43, 15, 99],\n",
            "         [80, 44, 82, 90],\n",
            "         [89, 91, 95, 88]],\n",
            "\n",
            "        [[47, 96,  8, 41],\n",
            "         [ 5, 74, 28, 20],\n",
            "         [94,  0, 89, 22]],\n",
            "\n",
            "        [[15, 45, 84, 91],\n",
            "         [18, 75, 81, 93],\n",
            "         [49, 28, 34, 81]],\n",
            "\n",
            "        [[86, 77, 95, 13],\n",
            "         [25, 28,  9, 54],\n",
            "         [49, 11, 81, 43]],\n",
            "\n",
            "        [[ 4, 93, 31, 23],\n",
            "         [ 1, 46, 32, 31],\n",
            "         [42, 79, 23, 35]]], dtype=torch.int16)\n"
          ],
          "name": "stdout"
        }
      ]
    },
    {
      "cell_type": "code",
      "metadata": {
        "id": "SCN2EqbuvO9G",
        "outputId": "902e1212-54ae-47af-bfde-492dee06fee4",
        "colab": {
          "base_uri": "https://localhost:8080/",
          "height": 312
        }
      },
      "source": [
        "print(C_t.contiguous())"
      ],
      "execution_count": 73,
      "outputs": [
        {
          "output_type": "stream",
          "text": [
            "tensor([[[78, 43, 15, 99],\n",
            "         [47, 96,  8, 41],\n",
            "         [15, 45, 84, 91],\n",
            "         [86, 77, 95, 13],\n",
            "         [ 4, 93, 31, 23]],\n",
            "\n",
            "        [[80, 44, 82, 90],\n",
            "         [ 5, 74, 28, 20],\n",
            "         [18, 75, 81, 93],\n",
            "         [25, 28,  9, 54],\n",
            "         [ 1, 46, 32, 31]],\n",
            "\n",
            "        [[89, 91, 95, 88],\n",
            "         [94,  0, 89, 22],\n",
            "         [49, 28, 34, 81],\n",
            "         [49, 11, 81, 43],\n",
            "         [42, 79, 23, 35]]], dtype=torch.int16)\n"
          ],
          "name": "stdout"
        }
      ]
    },
    {
      "cell_type": "markdown",
      "metadata": {
        "id": "uwr7Y1yxnQiu"
      },
      "source": [
        "##### Save and load one among the elements of tensors using the torch and the h5py file"
      ]
    },
    {
      "cell_type": "code",
      "metadata": {
        "id": "tHso8vI6vTZo"
      },
      "source": [
        "import h5py"
      ],
      "execution_count": 11,
      "outputs": []
    },
    {
      "cell_type": "code",
      "metadata": {
        "id": "kgYYwI8a4kzZ"
      },
      "source": [
        "f = h5py.File('./myHdf5.h5', 'w')\n",
        "dset = f.create_dataset('coords', data=A.numpy())\n",
        "f.close()"
      ],
      "execution_count": 22,
      "outputs": []
    },
    {
      "cell_type": "code",
      "metadata": {
        "id": "3oRYe208Td31"
      },
      "source": [
        "f = h5py.File('float_tensor.hdf5', 'w')\n",
        "dset = f.create_dataset('coords', data=A.numpy())\n",
        "f.close()\n"
      ],
      "execution_count": 23,
      "outputs": []
    },
    {
      "cell_type": "code",
      "metadata": {
        "id": "yJjz8N-NV4zt",
        "outputId": "26ec4d6c-bc25-4359-adc2-e806868fe807",
        "colab": {
          "base_uri": "https://localhost:8080/",
          "height": 35
        }
      },
      "source": [
        "f"
      ],
      "execution_count": 24,
      "outputs": [
        {
          "output_type": "execute_result",
          "data": {
            "text/plain": [
              "<Closed HDF5 file>"
            ]
          },
          "metadata": {
            "tags": []
          },
          "execution_count": 24
        }
      ]
    },
    {
      "cell_type": "code",
      "metadata": {
        "id": "p70qsV4pWBCz",
        "outputId": "4982e93d-2309-45c2-e73e-5ad2262b5cb6",
        "colab": {
          "base_uri": "https://localhost:8080/",
          "height": 35
        }
      },
      "source": [
        "dset"
      ],
      "execution_count": 25,
      "outputs": [
        {
          "output_type": "execute_result",
          "data": {
            "text/plain": [
              "<Closed HDF5 dataset>"
            ]
          },
          "metadata": {
            "tags": []
          },
          "execution_count": 25
        }
      ]
    },
    {
      "cell_type": "code",
      "metadata": {
        "id": "xti_OzecWxOH"
      },
      "source": [
        "f = h5py.File('float_tensor.hdf5', 'r')\n",
        "dset = f['coords']\n",
        "last_points = dset[-2:]"
      ],
      "execution_count": 26,
      "outputs": []
    },
    {
      "cell_type": "markdown",
      "metadata": {
        "id": "QA0U4L8YoLpz"
      },
      "source": [
        "##### Show the different true and false requires_grad values in Autograd by the backward method"
      ]
    },
    {
      "cell_type": "code",
      "metadata": {
        "id": "jyzJjFVLXZCW"
      },
      "source": [
        "a = torch.rand((3,3))\n",
        "b = torch.ones((3,3),requires_grad=True)\n",
        "c = torch.zeros((3,3))"
      ],
      "execution_count": 17,
      "outputs": []
    },
    {
      "cell_type": "code",
      "metadata": {
        "id": "u4bgA3AqZQSP",
        "outputId": "b117af38-2f97-40eb-fda1-9e9794a96be6",
        "colab": {
          "base_uri": "https://localhost:8080/",
          "height": 35
        }
      },
      "source": [
        "x = a + b\n",
        "x.requires_grad"
      ],
      "execution_count": 18,
      "outputs": [
        {
          "output_type": "execute_result",
          "data": {
            "text/plain": [
              "True"
            ]
          },
          "metadata": {
            "tags": []
          },
          "execution_count": 18
        }
      ]
    },
    {
      "cell_type": "code",
      "metadata": {
        "id": "8D1kQ5ndZTdU"
      },
      "source": [
        "y=a+c"
      ],
      "execution_count": 19,
      "outputs": []
    },
    {
      "cell_type": "code",
      "metadata": {
        "id": "YWsNQt14ZWfn",
        "outputId": "c9d7ab78-21f8-4667-82b2-35aa42b8fc35",
        "colab": {
          "base_uri": "https://localhost:8080/",
          "height": 35
        }
      },
      "source": [
        "b.requires_grad"
      ],
      "execution_count": 15,
      "outputs": [
        {
          "output_type": "execute_result",
          "data": {
            "text/plain": [
              "False"
            ]
          },
          "metadata": {
            "tags": []
          },
          "execution_count": 15
        }
      ]
    },
    {
      "cell_type": "code",
      "metadata": {
        "id": "3RpgfV06ZaCF",
        "outputId": "44cd6cc2-6546-41ed-f213-1e7c61e52d11",
        "colab": {
          "base_uri": "https://localhost:8080/",
          "height": 35
        }
      },
      "source": [
        "x.grad is None"
      ],
      "execution_count": 31,
      "outputs": [
        {
          "output_type": "execute_result",
          "data": {
            "text/plain": [
              "True"
            ]
          },
          "metadata": {
            "tags": []
          },
          "execution_count": 31
        }
      ]
    },
    {
      "cell_type": "code",
      "metadata": {
        "id": "90MLRQBPZ_oP"
      },
      "source": [
        "T1 = torch.tensor([[5,3,1],[2,5,1]], dtype=torch.float, requires_grad=True)\n",
        "T2 = torch.zeros(2,3)\n",
        "T1_T2 = (T1+T2*5).sum()"
      ],
      "execution_count": 49,
      "outputs": []
    },
    {
      "cell_type": "code",
      "metadata": {
        "id": "HkVQ7InNLhD7",
        "outputId": "eb76caa2-86a2-4fc0-d6ee-f2e95ca00884",
        "colab": {
          "base_uri": "https://localhost:8080/",
          "height": 69
        }
      },
      "source": [
        "T1_T2.backward()\n",
        "\n",
        "print(T1_T2)\n",
        "\n",
        "T1.grad"
      ],
      "execution_count": 50,
      "outputs": [
        {
          "output_type": "stream",
          "text": [
            "tensor(17., grad_fn=<SumBackward0>)\n"
          ],
          "name": "stdout"
        },
        {
          "output_type": "execute_result",
          "data": {
            "text/plain": [
              "tensor([[1., 1., 1.],\n",
              "        [1., 1., 1.]])"
            ]
          },
          "metadata": {
            "tags": []
          },
          "execution_count": 50
        }
      ]
    },
    {
      "cell_type": "code",
      "metadata": {
        "id": "QJaXXq_sRlfr"
      },
      "source": [
        ""
      ],
      "execution_count": null,
      "outputs": []
    }
  ]
}