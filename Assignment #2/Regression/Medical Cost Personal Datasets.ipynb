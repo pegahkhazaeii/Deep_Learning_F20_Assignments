{
  "nbformat": 4,
  "nbformat_minor": 0,
  "metadata": {
    "colab": {
      "name": "Untitled6.ipynb",
      "provenance": []
    },
    "kernelspec": {
      "name": "python3",
      "display_name": "Python 3"
    }
  },
  "cells": [
    {
      "cell_type": "code",
      "metadata": {
        "id": "z8JiEfGJCvii"
      },
      "source": [
        "from google.colab import drive"
      ],
      "execution_count": 1,
      "outputs": []
    },
    {
      "cell_type": "code",
      "metadata": {
        "id": "ZTetRW87CxNz",
        "outputId": "9b6f934b-ad3b-4ae8-8196-6f90e9f8b973",
        "colab": {
          "base_uri": "https://localhost:8080/",
          "height": 35
        }
      },
      "source": [
        "drive.mount('/content/drive')"
      ],
      "execution_count": 2,
      "outputs": [
        {
          "output_type": "stream",
          "text": [
            "Mounted at /content/drive\n"
          ],
          "name": "stdout"
        }
      ]
    },
    {
      "cell_type": "code",
      "metadata": {
        "id": "gOPWUBNgC0dD",
        "outputId": "2c721f11-a124-4ff5-b4b8-1d1a8d44c68b",
        "colab": {
          "base_uri": "https://localhost:8080/",
          "height": 139
        }
      },
      "source": [
        "!ls \"/content/drive/My Drive/Deep Learning\""
      ],
      "execution_count": 37,
      "outputs": [
        {
          "output_type": "stream",
          "text": [
            " 1.jpg\t\t\t  fashion-mnist_train.csv   Untitled3.ipynb\n",
            " 2.jpg\t\t\t  Housing.CSV\t\t    Untitled4.ipynb\n",
            " 3.jpg\t\t\t  insurance.csv\t\t    Untitled5.ipynb\n",
            "'Assignment #4.ipynb'\t  Untitled0.ipynb\t    Untitled6.ipynb\n",
            "'Assignment #5.ipynb'\t 'Untitled (1)'\t\t    win2.xls\n",
            " cifar-10-batches-py\t  Untitled1.ipynb\t    wine1.xls\n",
            " fashion-mnist_test.csv   Untitled2.ipynb\n"
          ],
          "name": "stdout"
        }
      ]
    },
    {
      "cell_type": "code",
      "metadata": {
        "id": "WhXpirjxC_D0"
      },
      "source": [
        "import numpy as np\n",
        "import pandas as pd\n",
        "import matplotlib.pyplot as plt\n",
        "import seaborn as sns\n",
        "import missingno as msno"
      ],
      "execution_count": 39,
      "outputs": []
    },
    {
      "cell_type": "code",
      "metadata": {
        "id": "8O9EQr-0DB2Y"
      },
      "source": [
        "df = pd.read_csv(\"/content/drive/My Drive/Deep Learning/insurance.csv\")"
      ],
      "execution_count": 52,
      "outputs": []
    },
    {
      "cell_type": "code",
      "metadata": {
        "id": "ijRz5dDzJHIL",
        "outputId": "bef6cf13-1d08-4982-f39a-9d1ac9a5c8d6",
        "colab": {
          "base_uri": "https://localhost:8080/",
          "height": 202
        }
      },
      "source": [
        "df.head()"
      ],
      "execution_count": 53,
      "outputs": [
        {
          "output_type": "execute_result",
          "data": {
            "text/html": [
              "<div>\n",
              "<style scoped>\n",
              "    .dataframe tbody tr th:only-of-type {\n",
              "        vertical-align: middle;\n",
              "    }\n",
              "\n",
              "    .dataframe tbody tr th {\n",
              "        vertical-align: top;\n",
              "    }\n",
              "\n",
              "    .dataframe thead th {\n",
              "        text-align: right;\n",
              "    }\n",
              "</style>\n",
              "<table border=\"1\" class=\"dataframe\">\n",
              "  <thead>\n",
              "    <tr style=\"text-align: right;\">\n",
              "      <th></th>\n",
              "      <th>age</th>\n",
              "      <th>sex</th>\n",
              "      <th>bmi</th>\n",
              "      <th>children</th>\n",
              "      <th>smoker</th>\n",
              "      <th>region</th>\n",
              "      <th>charges</th>\n",
              "    </tr>\n",
              "  </thead>\n",
              "  <tbody>\n",
              "    <tr>\n",
              "      <th>0</th>\n",
              "      <td>19</td>\n",
              "      <td>female</td>\n",
              "      <td>27.900</td>\n",
              "      <td>0</td>\n",
              "      <td>yes</td>\n",
              "      <td>southwest</td>\n",
              "      <td>16884.92400</td>\n",
              "    </tr>\n",
              "    <tr>\n",
              "      <th>1</th>\n",
              "      <td>18</td>\n",
              "      <td>male</td>\n",
              "      <td>33.770</td>\n",
              "      <td>1</td>\n",
              "      <td>no</td>\n",
              "      <td>southeast</td>\n",
              "      <td>1725.55230</td>\n",
              "    </tr>\n",
              "    <tr>\n",
              "      <th>2</th>\n",
              "      <td>28</td>\n",
              "      <td>male</td>\n",
              "      <td>33.000</td>\n",
              "      <td>3</td>\n",
              "      <td>no</td>\n",
              "      <td>southeast</td>\n",
              "      <td>4449.46200</td>\n",
              "    </tr>\n",
              "    <tr>\n",
              "      <th>3</th>\n",
              "      <td>33</td>\n",
              "      <td>male</td>\n",
              "      <td>22.705</td>\n",
              "      <td>0</td>\n",
              "      <td>no</td>\n",
              "      <td>northwest</td>\n",
              "      <td>21984.47061</td>\n",
              "    </tr>\n",
              "    <tr>\n",
              "      <th>4</th>\n",
              "      <td>32</td>\n",
              "      <td>male</td>\n",
              "      <td>28.880</td>\n",
              "      <td>0</td>\n",
              "      <td>no</td>\n",
              "      <td>northwest</td>\n",
              "      <td>3866.85520</td>\n",
              "    </tr>\n",
              "  </tbody>\n",
              "</table>\n",
              "</div>"
            ],
            "text/plain": [
              "   age     sex     bmi  children smoker     region      charges\n",
              "0   19  female  27.900         0    yes  southwest  16884.92400\n",
              "1   18    male  33.770         1     no  southeast   1725.55230\n",
              "2   28    male  33.000         3     no  southeast   4449.46200\n",
              "3   33    male  22.705         0     no  northwest  21984.47061\n",
              "4   32    male  28.880         0     no  northwest   3866.85520"
            ]
          },
          "metadata": {
            "tags": []
          },
          "execution_count": 53
        }
      ]
    },
    {
      "cell_type": "code",
      "metadata": {
        "id": "omKSS4kLJQ0Q"
      },
      "source": [
        "Male = pd.get_dummies(df['sex'], drop_first=True)\n",
        "df = pd.concat([df, Male], axis=1 )"
      ],
      "execution_count": 54,
      "outputs": []
    },
    {
      "cell_type": "code",
      "metadata": {
        "id": "-0wVDHNSJVz0"
      },
      "source": [
        "Smoker = pd.get_dummies(df['smoker'], drop_first=True)\n",
        "df = pd.concat([df, Smoker], axis=1 )"
      ],
      "execution_count": 55,
      "outputs": []
    },
    {
      "cell_type": "code",
      "metadata": {
        "id": "9M-BVMvEJZJp"
      },
      "source": [
        "df = df.rename(columns={'yes':'Smoker'})"
      ],
      "execution_count": 56,
      "outputs": []
    },
    {
      "cell_type": "code",
      "metadata": {
        "id": "aOKB4rBAJbcK",
        "outputId": "39b497d4-49bd-4a7c-e9d0-8b2fdd6f80e9",
        "colab": {
          "base_uri": "https://localhost:8080/",
          "height": 35
        }
      },
      "source": [
        "df['region'].unique()"
      ],
      "execution_count": 57,
      "outputs": [
        {
          "output_type": "execute_result",
          "data": {
            "text/plain": [
              "array(['southwest', 'southeast', 'northwest', 'northeast'], dtype=object)"
            ]
          },
          "metadata": {
            "tags": []
          },
          "execution_count": 57
        }
      ]
    },
    {
      "cell_type": "code",
      "metadata": {
        "id": "gVG2zuPeJdxs"
      },
      "source": [
        "region = pd.get_dummies(df['region'])\n",
        "df = pd.concat([df, region], axis=1 )\n",
        "#df.drop('region', axis=1,inplace=True)\n",
        "#df.drop(['sex','smoker'], axis=1, inplace=True)"
      ],
      "execution_count": 58,
      "outputs": []
    },
    {
      "cell_type": "code",
      "metadata": {
        "id": "0hvTpQ3EJgHF",
        "outputId": "2c2fe234-f408-4871-e326-593b0153b769",
        "colab": {
          "base_uri": "https://localhost:8080/",
          "height": 202
        }
      },
      "source": [
        "df.head()"
      ],
      "execution_count": 59,
      "outputs": [
        {
          "output_type": "execute_result",
          "data": {
            "text/html": [
              "<div>\n",
              "<style scoped>\n",
              "    .dataframe tbody tr th:only-of-type {\n",
              "        vertical-align: middle;\n",
              "    }\n",
              "\n",
              "    .dataframe tbody tr th {\n",
              "        vertical-align: top;\n",
              "    }\n",
              "\n",
              "    .dataframe thead th {\n",
              "        text-align: right;\n",
              "    }\n",
              "</style>\n",
              "<table border=\"1\" class=\"dataframe\">\n",
              "  <thead>\n",
              "    <tr style=\"text-align: right;\">\n",
              "      <th></th>\n",
              "      <th>age</th>\n",
              "      <th>sex</th>\n",
              "      <th>bmi</th>\n",
              "      <th>children</th>\n",
              "      <th>smoker</th>\n",
              "      <th>region</th>\n",
              "      <th>charges</th>\n",
              "      <th>male</th>\n",
              "      <th>Smoker</th>\n",
              "      <th>northeast</th>\n",
              "      <th>northwest</th>\n",
              "      <th>southeast</th>\n",
              "      <th>southwest</th>\n",
              "    </tr>\n",
              "  </thead>\n",
              "  <tbody>\n",
              "    <tr>\n",
              "      <th>0</th>\n",
              "      <td>19</td>\n",
              "      <td>female</td>\n",
              "      <td>27.900</td>\n",
              "      <td>0</td>\n",
              "      <td>yes</td>\n",
              "      <td>southwest</td>\n",
              "      <td>16884.92400</td>\n",
              "      <td>0</td>\n",
              "      <td>1</td>\n",
              "      <td>0</td>\n",
              "      <td>0</td>\n",
              "      <td>0</td>\n",
              "      <td>1</td>\n",
              "    </tr>\n",
              "    <tr>\n",
              "      <th>1</th>\n",
              "      <td>18</td>\n",
              "      <td>male</td>\n",
              "      <td>33.770</td>\n",
              "      <td>1</td>\n",
              "      <td>no</td>\n",
              "      <td>southeast</td>\n",
              "      <td>1725.55230</td>\n",
              "      <td>1</td>\n",
              "      <td>0</td>\n",
              "      <td>0</td>\n",
              "      <td>0</td>\n",
              "      <td>1</td>\n",
              "      <td>0</td>\n",
              "    </tr>\n",
              "    <tr>\n",
              "      <th>2</th>\n",
              "      <td>28</td>\n",
              "      <td>male</td>\n",
              "      <td>33.000</td>\n",
              "      <td>3</td>\n",
              "      <td>no</td>\n",
              "      <td>southeast</td>\n",
              "      <td>4449.46200</td>\n",
              "      <td>1</td>\n",
              "      <td>0</td>\n",
              "      <td>0</td>\n",
              "      <td>0</td>\n",
              "      <td>1</td>\n",
              "      <td>0</td>\n",
              "    </tr>\n",
              "    <tr>\n",
              "      <th>3</th>\n",
              "      <td>33</td>\n",
              "      <td>male</td>\n",
              "      <td>22.705</td>\n",
              "      <td>0</td>\n",
              "      <td>no</td>\n",
              "      <td>northwest</td>\n",
              "      <td>21984.47061</td>\n",
              "      <td>1</td>\n",
              "      <td>0</td>\n",
              "      <td>0</td>\n",
              "      <td>1</td>\n",
              "      <td>0</td>\n",
              "      <td>0</td>\n",
              "    </tr>\n",
              "    <tr>\n",
              "      <th>4</th>\n",
              "      <td>32</td>\n",
              "      <td>male</td>\n",
              "      <td>28.880</td>\n",
              "      <td>0</td>\n",
              "      <td>no</td>\n",
              "      <td>northwest</td>\n",
              "      <td>3866.85520</td>\n",
              "      <td>1</td>\n",
              "      <td>0</td>\n",
              "      <td>0</td>\n",
              "      <td>1</td>\n",
              "      <td>0</td>\n",
              "      <td>0</td>\n",
              "    </tr>\n",
              "  </tbody>\n",
              "</table>\n",
              "</div>"
            ],
            "text/plain": [
              "   age     sex     bmi  children  ... northeast northwest  southeast  southwest\n",
              "0   19  female  27.900         0  ...         0         0          0          1\n",
              "1   18    male  33.770         1  ...         0         0          1          0\n",
              "2   28    male  33.000         3  ...         0         0          1          0\n",
              "3   33    male  22.705         0  ...         0         1          0          0\n",
              "4   32    male  28.880         0  ...         0         1          0          0\n",
              "\n",
              "[5 rows x 13 columns]"
            ]
          },
          "metadata": {
            "tags": []
          },
          "execution_count": 59
        }
      ]
    },
    {
      "cell_type": "code",
      "metadata": {
        "id": "k9An4-Y6KREN"
      },
      "source": [
        "df.drop(['sex', 'region', 'smoker', 'southwest'], axis=1, inplace=True)"
      ],
      "execution_count": 60,
      "outputs": []
    },
    {
      "cell_type": "code",
      "metadata": {
        "id": "UCfHN6K0KaHs",
        "outputId": "cafe33db-ce04-46d2-b459-c8416619bb04",
        "colab": {
          "base_uri": "https://localhost:8080/",
          "height": 202
        }
      },
      "source": [
        "df.head()"
      ],
      "execution_count": 61,
      "outputs": [
        {
          "output_type": "execute_result",
          "data": {
            "text/html": [
              "<div>\n",
              "<style scoped>\n",
              "    .dataframe tbody tr th:only-of-type {\n",
              "        vertical-align: middle;\n",
              "    }\n",
              "\n",
              "    .dataframe tbody tr th {\n",
              "        vertical-align: top;\n",
              "    }\n",
              "\n",
              "    .dataframe thead th {\n",
              "        text-align: right;\n",
              "    }\n",
              "</style>\n",
              "<table border=\"1\" class=\"dataframe\">\n",
              "  <thead>\n",
              "    <tr style=\"text-align: right;\">\n",
              "      <th></th>\n",
              "      <th>age</th>\n",
              "      <th>bmi</th>\n",
              "      <th>children</th>\n",
              "      <th>charges</th>\n",
              "      <th>male</th>\n",
              "      <th>Smoker</th>\n",
              "      <th>northeast</th>\n",
              "      <th>northwest</th>\n",
              "      <th>southeast</th>\n",
              "    </tr>\n",
              "  </thead>\n",
              "  <tbody>\n",
              "    <tr>\n",
              "      <th>0</th>\n",
              "      <td>19</td>\n",
              "      <td>27.900</td>\n",
              "      <td>0</td>\n",
              "      <td>16884.92400</td>\n",
              "      <td>0</td>\n",
              "      <td>1</td>\n",
              "      <td>0</td>\n",
              "      <td>0</td>\n",
              "      <td>0</td>\n",
              "    </tr>\n",
              "    <tr>\n",
              "      <th>1</th>\n",
              "      <td>18</td>\n",
              "      <td>33.770</td>\n",
              "      <td>1</td>\n",
              "      <td>1725.55230</td>\n",
              "      <td>1</td>\n",
              "      <td>0</td>\n",
              "      <td>0</td>\n",
              "      <td>0</td>\n",
              "      <td>1</td>\n",
              "    </tr>\n",
              "    <tr>\n",
              "      <th>2</th>\n",
              "      <td>28</td>\n",
              "      <td>33.000</td>\n",
              "      <td>3</td>\n",
              "      <td>4449.46200</td>\n",
              "      <td>1</td>\n",
              "      <td>0</td>\n",
              "      <td>0</td>\n",
              "      <td>0</td>\n",
              "      <td>1</td>\n",
              "    </tr>\n",
              "    <tr>\n",
              "      <th>3</th>\n",
              "      <td>33</td>\n",
              "      <td>22.705</td>\n",
              "      <td>0</td>\n",
              "      <td>21984.47061</td>\n",
              "      <td>1</td>\n",
              "      <td>0</td>\n",
              "      <td>0</td>\n",
              "      <td>1</td>\n",
              "      <td>0</td>\n",
              "    </tr>\n",
              "    <tr>\n",
              "      <th>4</th>\n",
              "      <td>32</td>\n",
              "      <td>28.880</td>\n",
              "      <td>0</td>\n",
              "      <td>3866.85520</td>\n",
              "      <td>1</td>\n",
              "      <td>0</td>\n",
              "      <td>0</td>\n",
              "      <td>1</td>\n",
              "      <td>0</td>\n",
              "    </tr>\n",
              "  </tbody>\n",
              "</table>\n",
              "</div>"
            ],
            "text/plain": [
              "   age     bmi  children      charges  ...  Smoker  northeast  northwest  southeast\n",
              "0   19  27.900         0  16884.92400  ...       1          0          0          0\n",
              "1   18  33.770         1   1725.55230  ...       0          0          0          1\n",
              "2   28  33.000         3   4449.46200  ...       0          0          0          1\n",
              "3   33  22.705         0  21984.47061  ...       0          0          1          0\n",
              "4   32  28.880         0   3866.85520  ...       0          0          1          0\n",
              "\n",
              "[5 rows x 9 columns]"
            ]
          },
          "metadata": {
            "tags": []
          },
          "execution_count": 61
        }
      ]
    },
    {
      "cell_type": "code",
      "metadata": {
        "id": "94ZKbPqAJjUb"
      },
      "source": [
        "X=df.drop('charges', axis=1)\n",
        "y=df['charges']"
      ],
      "execution_count": 62,
      "outputs": []
    },
    {
      "cell_type": "code",
      "metadata": {
        "id": "zL6UIAwEJn9-"
      },
      "source": [
        "from sklearn.model_selection import train_test_split\n",
        "X_train, X_test, y_train, y_test = train_test_split(X,y,test_size=0.25)\n",
        "from sklearn.preprocessing import MinMaxScaler\n",
        "scaler = MinMaxScaler()\n",
        "scaler.fit(X_train)\n",
        "X_train = scaler.transform(X_train)\n",
        "X_validate = scaler.transform(X_test)"
      ],
      "execution_count": 63,
      "outputs": []
    },
    {
      "cell_type": "code",
      "metadata": {
        "id": "DoJCke3MJrXK"
      },
      "source": [
        "from tensorflow.keras.models import Sequential\n",
        "from tensorflow.keras.layers import Dense, Dropout\n",
        "from tensorflow.keras.callbacks import EarlyStopping"
      ],
      "execution_count": 64,
      "outputs": []
    },
    {
      "cell_type": "code",
      "metadata": {
        "id": "mvKlEE3KKlrz"
      },
      "source": [
        "model = Sequential()\n",
        "model.add(Dense(units = 8, activation = 'relu'))\n",
        "model.add(Dense(units = 3, activation = 'relu'))\n",
        "#model.add(Dropout(0.5))\n",
        "\n",
        "#model.add(Dense(units = 2, activation = 'relu'))\n",
        "#model.add(Dense(units = 4, activation = 'relu'))\n",
        "#model.add(Dense(units = 4, kernel_initializer = 'uniform', activation = 'relu'))\n",
        "\n",
        "\n",
        "\n",
        "model.add(Dense(units = 1))\n",
        "model.compile(optimizer = 'adam', loss = 'mse')\n",
        "early_stop = EarlyStopping(monitor='val_loss', mode= 'min', verbose= 0, patience=15)"
      ],
      "execution_count": 65,
      "outputs": []
    },
    {
      "cell_type": "code",
      "metadata": {
        "id": "5Pl-NethKpGt",
        "outputId": "e4beb2a3-3b04-4ee1-c7d4-16512980bd9e",
        "colab": {
          "base_uri": "https://localhost:8080/",
          "height": 1000
        }
      },
      "source": [
        "model.fit(x=X_train, y=y_train, epochs = 2000, validation_data=(X_test, y_test), batch_size=128, callbacks=[early_stop])"
      ],
      "execution_count": 66,
      "outputs": [
        {
          "output_type": "stream",
          "text": [
            "Epoch 1/2000\n",
            "8/8 [==============================] - 0s 19ms/step - loss: 328006464.0000 - val_loss: 306639072.0000\n",
            "Epoch 2/2000\n",
            "8/8 [==============================] - 0s 3ms/step - loss: 328005984.0000 - val_loss: 306631520.0000\n",
            "Epoch 3/2000\n",
            "8/8 [==============================] - 0s 3ms/step - loss: 328005568.0000 - val_loss: 306624736.0000\n",
            "Epoch 4/2000\n",
            "8/8 [==============================] - 0s 3ms/step - loss: 328005152.0000 - val_loss: 306618688.0000\n",
            "Epoch 5/2000\n",
            "8/8 [==============================] - 0s 3ms/step - loss: 328004832.0000 - val_loss: 306613408.0000\n",
            "Epoch 6/2000\n",
            "8/8 [==============================] - 0s 3ms/step - loss: 328004512.0000 - val_loss: 306608672.0000\n",
            "Epoch 7/2000\n",
            "8/8 [==============================] - 0s 3ms/step - loss: 328004224.0000 - val_loss: 306604384.0000\n",
            "Epoch 8/2000\n",
            "8/8 [==============================] - 0s 3ms/step - loss: 328003936.0000 - val_loss: 306600352.0000\n",
            "Epoch 9/2000\n",
            "8/8 [==============================] - 0s 3ms/step - loss: 328003584.0000 - val_loss: 306596288.0000\n",
            "Epoch 10/2000\n",
            "8/8 [==============================] - 0s 3ms/step - loss: 328003072.0000 - val_loss: 306591648.0000\n",
            "Epoch 11/2000\n",
            "8/8 [==============================] - 0s 3ms/step - loss: 328002016.0000 - val_loss: 306585664.0000\n",
            "Epoch 12/2000\n",
            "8/8 [==============================] - 0s 3ms/step - loss: 328000384.0000 - val_loss: 306540384.0000\n",
            "Epoch 13/2000\n",
            "8/8 [==============================] - 0s 4ms/step - loss: 327998304.0000 - val_loss: 306473472.0000\n",
            "Epoch 14/2000\n",
            "8/8 [==============================] - 0s 3ms/step - loss: 327995808.0000 - val_loss: 306403040.0000\n",
            "Epoch 15/2000\n",
            "8/8 [==============================] - 0s 3ms/step - loss: 327993024.0000 - val_loss: 306329408.0000\n",
            "Epoch 16/2000\n",
            "8/8 [==============================] - 0s 3ms/step - loss: 327989920.0000 - val_loss: 306253312.0000\n",
            "Epoch 17/2000\n",
            "8/8 [==============================] - 0s 4ms/step - loss: 327986720.0000 - val_loss: 306172736.0000\n",
            "Epoch 18/2000\n",
            "8/8 [==============================] - 0s 3ms/step - loss: 327983328.0000 - val_loss: 306087840.0000\n",
            "Epoch 19/2000\n",
            "8/8 [==============================] - 0s 3ms/step - loss: 327979712.0000 - val_loss: 305999040.0000\n",
            "Epoch 20/2000\n",
            "8/8 [==============================] - 0s 3ms/step - loss: 327975936.0000 - val_loss: 305904512.0000\n",
            "Epoch 21/2000\n",
            "8/8 [==============================] - 0s 3ms/step - loss: 327971808.0000 - val_loss: 305804992.0000\n",
            "Epoch 22/2000\n",
            "8/8 [==============================] - 0s 3ms/step - loss: 327967328.0000 - val_loss: 305699712.0000\n",
            "Epoch 23/2000\n",
            "8/8 [==============================] - 0s 3ms/step - loss: 327962336.0000 - val_loss: 305589792.0000\n",
            "Epoch 24/2000\n",
            "8/8 [==============================] - 0s 3ms/step - loss: 327957120.0000 - val_loss: 305471360.0000\n",
            "Epoch 25/2000\n",
            "8/8 [==============================] - 0s 3ms/step - loss: 327951328.0000 - val_loss: 305344160.0000\n",
            "Epoch 26/2000\n",
            "8/8 [==============================] - 0s 3ms/step - loss: 327944864.0000 - val_loss: 305206880.0000\n",
            "Epoch 27/2000\n",
            "8/8 [==============================] - 0s 3ms/step - loss: 327937760.0000 - val_loss: 305055904.0000\n",
            "Epoch 28/2000\n",
            "8/8 [==============================] - 0s 3ms/step - loss: 327930112.0000 - val_loss: 304883360.0000\n",
            "Epoch 29/2000\n",
            "8/8 [==============================] - 0s 3ms/step - loss: 327921568.0000 - val_loss: 304689248.0000\n",
            "Epoch 30/2000\n",
            "8/8 [==============================] - 0s 3ms/step - loss: 327911936.0000 - val_loss: 304475840.0000\n",
            "Epoch 31/2000\n",
            "8/8 [==============================] - 0s 3ms/step - loss: 327901280.0000 - val_loss: 304243072.0000\n",
            "Epoch 32/2000\n",
            "8/8 [==============================] - 0s 3ms/step - loss: 327889632.0000 - val_loss: 303989248.0000\n",
            "Epoch 33/2000\n",
            "8/8 [==============================] - 0s 3ms/step - loss: 327876928.0000 - val_loss: 303712384.0000\n",
            "Epoch 34/2000\n",
            "8/8 [==============================] - 0s 3ms/step - loss: 327863040.0000 - val_loss: 303413056.0000\n",
            "Epoch 35/2000\n",
            "8/8 [==============================] - 0s 3ms/step - loss: 327847808.0000 - val_loss: 303093280.0000\n",
            "Epoch 36/2000\n",
            "8/8 [==============================] - 0s 3ms/step - loss: 327831648.0000 - val_loss: 302749440.0000\n",
            "Epoch 37/2000\n",
            "8/8 [==============================] - 0s 3ms/step - loss: 327814208.0000 - val_loss: 302383584.0000\n",
            "Epoch 38/2000\n",
            "8/8 [==============================] - 0s 3ms/step - loss: 327795456.0000 - val_loss: 301998688.0000\n",
            "Epoch 39/2000\n",
            "8/8 [==============================] - 0s 3ms/step - loss: 327775872.0000 - val_loss: 301588736.0000\n",
            "Epoch 40/2000\n",
            "8/8 [==============================] - 0s 3ms/step - loss: 327754560.0000 - val_loss: 301160384.0000\n",
            "Epoch 41/2000\n",
            "8/8 [==============================] - 0s 3ms/step - loss: 327732384.0000 - val_loss: 300709184.0000\n",
            "Epoch 42/2000\n",
            "8/8 [==============================] - 0s 3ms/step - loss: 327708800.0000 - val_loss: 300236352.0000\n",
            "Epoch 43/2000\n",
            "8/8 [==============================] - 0s 3ms/step - loss: 327684032.0000 - val_loss: 299741504.0000\n",
            "Epoch 44/2000\n",
            "8/8 [==============================] - 0s 4ms/step - loss: 327657984.0000 - val_loss: 299223968.0000\n",
            "Epoch 45/2000\n",
            "8/8 [==============================] - 0s 3ms/step - loss: 327630784.0000 - val_loss: 298682432.0000\n",
            "Epoch 46/2000\n",
            "8/8 [==============================] - 0s 4ms/step - loss: 327602464.0000 - val_loss: 298115040.0000\n",
            "Epoch 47/2000\n",
            "8/8 [==============================] - 0s 4ms/step - loss: 327572128.0000 - val_loss: 297530080.0000\n",
            "Epoch 48/2000\n",
            "8/8 [==============================] - 0s 4ms/step - loss: 327541152.0000 - val_loss: 296916704.0000\n",
            "Epoch 49/2000\n",
            "8/8 [==============================] - 0s 3ms/step - loss: 327508896.0000 - val_loss: 296275392.0000\n",
            "Epoch 50/2000\n",
            "8/8 [==============================] - 0s 4ms/step - loss: 327474368.0000 - val_loss: 295619360.0000\n",
            "Epoch 51/2000\n",
            "8/8 [==============================] - 0s 3ms/step - loss: 327439904.0000 - val_loss: 294927296.0000\n",
            "Epoch 52/2000\n",
            "8/8 [==============================] - 0s 3ms/step - loss: 327402016.0000 - val_loss: 294225088.0000\n",
            "Epoch 53/2000\n",
            "8/8 [==============================] - 0s 3ms/step - loss: 327364512.0000 - val_loss: 293488928.0000\n",
            "Epoch 54/2000\n",
            "8/8 [==============================] - 0s 3ms/step - loss: 327325184.0000 - val_loss: 292725600.0000\n",
            "Epoch 55/2000\n",
            "8/8 [==============================] - 0s 3ms/step - loss: 327283424.0000 - val_loss: 291946144.0000\n",
            "Epoch 56/2000\n",
            "8/8 [==============================] - 0s 3ms/step - loss: 327241856.0000 - val_loss: 291126208.0000\n",
            "Epoch 57/2000\n",
            "8/8 [==============================] - 0s 3ms/step - loss: 327197120.0000 - val_loss: 290291488.0000\n",
            "Epoch 58/2000\n",
            "8/8 [==============================] - 0s 3ms/step - loss: 327151424.0000 - val_loss: 289428864.0000\n",
            "Epoch 59/2000\n",
            "8/8 [==============================] - 0s 3ms/step - loss: 327103968.0000 - val_loss: 288538400.0000\n",
            "Epoch 60/2000\n",
            "8/8 [==============================] - 0s 3ms/step - loss: 327055232.0000 - val_loss: 287613440.0000\n",
            "Epoch 61/2000\n",
            "8/8 [==============================] - 0s 3ms/step - loss: 327004512.0000 - val_loss: 286652128.0000\n",
            "Epoch 62/2000\n",
            "8/8 [==============================] - 0s 3ms/step - loss: 326951936.0000 - val_loss: 285649376.0000\n",
            "Epoch 63/2000\n",
            "8/8 [==============================] - 0s 3ms/step - loss: 326896512.0000 - val_loss: 284606240.0000\n",
            "Epoch 64/2000\n",
            "8/8 [==============================] - 0s 3ms/step - loss: 326839616.0000 - val_loss: 283505920.0000\n",
            "Epoch 65/2000\n",
            "8/8 [==============================] - 0s 3ms/step - loss: 326778688.0000 - val_loss: 282368544.0000\n",
            "Epoch 66/2000\n",
            "8/8 [==============================] - 0s 4ms/step - loss: 326716800.0000 - val_loss: 281186528.0000\n",
            "Epoch 67/2000\n",
            "8/8 [==============================] - 0s 3ms/step - loss: 326651200.0000 - val_loss: 279979232.0000\n",
            "Epoch 68/2000\n",
            "8/8 [==============================] - 0s 3ms/step - loss: 326584320.0000 - val_loss: 278730176.0000\n",
            "Epoch 69/2000\n",
            "8/8 [==============================] - 0s 3ms/step - loss: 326514208.0000 - val_loss: 277448192.0000\n",
            "Epoch 70/2000\n",
            "8/8 [==============================] - 0s 3ms/step - loss: 326442080.0000 - val_loss: 276127168.0000\n",
            "Epoch 71/2000\n",
            "8/8 [==============================] - 0s 4ms/step - loss: 326367008.0000 - val_loss: 274770464.0000\n",
            "Epoch 72/2000\n",
            "8/8 [==============================] - 0s 3ms/step - loss: 326288384.0000 - val_loss: 273393792.0000\n",
            "Epoch 73/2000\n",
            "8/8 [==============================] - 0s 4ms/step - loss: 326210688.0000 - val_loss: 271958592.0000\n",
            "Epoch 74/2000\n",
            "8/8 [==============================] - 0s 4ms/step - loss: 326126688.0000 - val_loss: 270520000.0000\n",
            "Epoch 75/2000\n",
            "8/8 [==============================] - 0s 3ms/step - loss: 326042656.0000 - val_loss: 269046144.0000\n",
            "Epoch 76/2000\n",
            "8/8 [==============================] - 0s 3ms/step - loss: 325956832.0000 - val_loss: 267528768.0000\n",
            "Epoch 77/2000\n",
            "8/8 [==============================] - 0s 4ms/step - loss: 325867808.0000 - val_loss: 265978832.0000\n",
            "Epoch 78/2000\n",
            "8/8 [==============================] - 0s 3ms/step - loss: 325776832.0000 - val_loss: 264398288.0000\n",
            "Epoch 79/2000\n",
            "8/8 [==============================] - 0s 4ms/step - loss: 325682400.0000 - val_loss: 262799600.0000\n",
            "Epoch 80/2000\n",
            "8/8 [==============================] - 0s 3ms/step - loss: 325587168.0000 - val_loss: 261158336.0000\n",
            "Epoch 81/2000\n",
            "8/8 [==============================] - 0s 5ms/step - loss: 325488160.0000 - val_loss: 259495024.0000\n",
            "Epoch 82/2000\n",
            "8/8 [==============================] - 0s 4ms/step - loss: 325387936.0000 - val_loss: 257798320.0000\n",
            "Epoch 83/2000\n",
            "8/8 [==============================] - 0s 4ms/step - loss: 325284672.0000 - val_loss: 256079104.0000\n",
            "Epoch 84/2000\n",
            "8/8 [==============================] - 0s 4ms/step - loss: 325179712.0000 - val_loss: 254327360.0000\n",
            "Epoch 85/2000\n",
            "8/8 [==============================] - 0s 4ms/step - loss: 325071040.0000 - val_loss: 252559648.0000\n",
            "Epoch 86/2000\n",
            "8/8 [==============================] - 0s 4ms/step - loss: 324961184.0000 - val_loss: 250756656.0000\n",
            "Epoch 87/2000\n",
            "8/8 [==============================] - 0s 4ms/step - loss: 324849376.0000 - val_loss: 248916192.0000\n",
            "Epoch 88/2000\n",
            "8/8 [==============================] - 0s 4ms/step - loss: 324732352.0000 - val_loss: 247072976.0000\n",
            "Epoch 89/2000\n",
            "8/8 [==============================] - 0s 3ms/step - loss: 324615040.0000 - val_loss: 245195264.0000\n",
            "Epoch 90/2000\n",
            "8/8 [==============================] - 0s 3ms/step - loss: 324494272.0000 - val_loss: 243298640.0000\n",
            "Epoch 91/2000\n",
            "8/8 [==============================] - 0s 4ms/step - loss: 324372864.0000 - val_loss: 241366832.0000\n",
            "Epoch 92/2000\n",
            "8/8 [==============================] - 0s 3ms/step - loss: 324246400.0000 - val_loss: 239418224.0000\n",
            "Epoch 93/2000\n",
            "8/8 [==============================] - 0s 4ms/step - loss: 324119168.0000 - val_loss: 237443328.0000\n",
            "Epoch 94/2000\n",
            "8/8 [==============================] - 0s 4ms/step - loss: 323987936.0000 - val_loss: 235448448.0000\n",
            "Epoch 95/2000\n",
            "8/8 [==============================] - 0s 4ms/step - loss: 323856960.0000 - val_loss: 233413536.0000\n",
            "Epoch 96/2000\n",
            "8/8 [==============================] - 0s 4ms/step - loss: 323720096.0000 - val_loss: 231378128.0000\n",
            "Epoch 97/2000\n",
            "8/8 [==============================] - 0s 4ms/step - loss: 323581760.0000 - val_loss: 229327632.0000\n",
            "Epoch 98/2000\n",
            "8/8 [==============================] - 0s 4ms/step - loss: 323438368.0000 - val_loss: 227284960.0000\n",
            "Epoch 99/2000\n",
            "8/8 [==============================] - 0s 4ms/step - loss: 323298272.0000 - val_loss: 225186976.0000\n",
            "Epoch 100/2000\n",
            "8/8 [==============================] - 0s 4ms/step - loss: 323150048.0000 - val_loss: 223098672.0000\n",
            "Epoch 101/2000\n",
            "8/8 [==============================] - 0s 3ms/step - loss: 323003136.0000 - val_loss: 220979328.0000\n",
            "Epoch 102/2000\n",
            "8/8 [==============================] - 0s 3ms/step - loss: 322851424.0000 - val_loss: 218852336.0000\n",
            "Epoch 103/2000\n",
            "8/8 [==============================] - 0s 3ms/step - loss: 322695648.0000 - val_loss: 216731568.0000\n",
            "Epoch 104/2000\n",
            "8/8 [==============================] - 0s 3ms/step - loss: 322541760.0000 - val_loss: 214565888.0000\n",
            "Epoch 105/2000\n",
            "8/8 [==============================] - 0s 3ms/step - loss: 322381568.0000 - val_loss: 212400144.0000\n",
            "Epoch 106/2000\n",
            "8/8 [==============================] - 0s 4ms/step - loss: 322218560.0000 - val_loss: 210233104.0000\n",
            "Epoch 107/2000\n",
            "8/8 [==============================] - 0s 4ms/step - loss: 322053440.0000 - val_loss: 208065040.0000\n",
            "Epoch 108/2000\n",
            "8/8 [==============================] - 0s 4ms/step - loss: 321886432.0000 - val_loss: 205876352.0000\n",
            "Epoch 109/2000\n",
            "8/8 [==============================] - 0s 4ms/step - loss: 321716416.0000 - val_loss: 203680800.0000\n",
            "Epoch 110/2000\n",
            "8/8 [==============================] - 0s 4ms/step - loss: 321544896.0000 - val_loss: 201468688.0000\n",
            "Epoch 111/2000\n",
            "8/8 [==============================] - 0s 4ms/step - loss: 321366880.0000 - val_loss: 199273792.0000\n",
            "Epoch 112/2000\n",
            "8/8 [==============================] - 0s 4ms/step - loss: 321187616.0000 - val_loss: 197081344.0000\n",
            "Epoch 113/2000\n",
            "8/8 [==============================] - 0s 3ms/step - loss: 321007360.0000 - val_loss: 194877952.0000\n",
            "Epoch 114/2000\n",
            "8/8 [==============================] - 0s 4ms/step - loss: 320823552.0000 - val_loss: 192671392.0000\n",
            "Epoch 115/2000\n",
            "8/8 [==============================] - 0s 4ms/step - loss: 320636736.0000 - val_loss: 190472976.0000\n",
            "Epoch 116/2000\n",
            "8/8 [==============================] - 0s 3ms/step - loss: 320444384.0000 - val_loss: 188302560.0000\n",
            "Epoch 117/2000\n",
            "8/8 [==============================] - 0s 5ms/step - loss: 320253696.0000 - val_loss: 186119152.0000\n",
            "Epoch 118/2000\n",
            "8/8 [==============================] - 0s 4ms/step - loss: 320059904.0000 - val_loss: 183932928.0000\n",
            "Epoch 119/2000\n",
            "8/8 [==============================] - 0s 4ms/step - loss: 319860800.0000 - val_loss: 181768672.0000\n",
            "Epoch 120/2000\n",
            "8/8 [==============================] - 0s 4ms/step - loss: 319662368.0000 - val_loss: 179598720.0000\n",
            "Epoch 121/2000\n",
            "8/8 [==============================] - 0s 4ms/step - loss: 319454912.0000 - val_loss: 177474464.0000\n",
            "Epoch 122/2000\n",
            "8/8 [==============================] - 0s 3ms/step - loss: 319248608.0000 - val_loss: 175363184.0000\n",
            "Epoch 123/2000\n",
            "8/8 [==============================] - 0s 4ms/step - loss: 319041920.0000 - val_loss: 173246816.0000\n",
            "Epoch 124/2000\n",
            "8/8 [==============================] - 0s 3ms/step - loss: 318830336.0000 - val_loss: 171150112.0000\n",
            "Epoch 125/2000\n",
            "8/8 [==============================] - 0s 3ms/step - loss: 318614048.0000 - val_loss: 169085936.0000\n",
            "Epoch 126/2000\n",
            "8/8 [==============================] - 0s 4ms/step - loss: 318395680.0000 - val_loss: 167050480.0000\n",
            "Epoch 127/2000\n",
            "8/8 [==============================] - 0s 3ms/step - loss: 318178112.0000 - val_loss: 165020976.0000\n",
            "Epoch 128/2000\n",
            "8/8 [==============================] - 0s 3ms/step - loss: 317952896.0000 - val_loss: 163027248.0000\n",
            "Epoch 129/2000\n",
            "8/8 [==============================] - 0s 3ms/step - loss: 317724768.0000 - val_loss: 161072992.0000\n",
            "Epoch 130/2000\n",
            "8/8 [==============================] - 0s 3ms/step - loss: 317495968.0000 - val_loss: 159140992.0000\n",
            "Epoch 131/2000\n",
            "8/8 [==============================] - 0s 4ms/step - loss: 317262432.0000 - val_loss: 157247072.0000\n",
            "Epoch 132/2000\n",
            "8/8 [==============================] - 0s 4ms/step - loss: 317029440.0000 - val_loss: 155366272.0000\n",
            "Epoch 133/2000\n",
            "8/8 [==============================] - 0s 3ms/step - loss: 316789088.0000 - val_loss: 153538000.0000\n",
            "Epoch 134/2000\n",
            "8/8 [==============================] - 0s 4ms/step - loss: 316549824.0000 - val_loss: 151736352.0000\n",
            "Epoch 135/2000\n",
            "8/8 [==============================] - 0s 3ms/step - loss: 316309216.0000 - val_loss: 149961248.0000\n",
            "Epoch 136/2000\n",
            "8/8 [==============================] - 0s 3ms/step - loss: 316056992.0000 - val_loss: 148259616.0000\n",
            "Epoch 137/2000\n",
            "8/8 [==============================] - 0s 3ms/step - loss: 315809120.0000 - val_loss: 146589824.0000\n",
            "Epoch 138/2000\n",
            "8/8 [==============================] - 0s 4ms/step - loss: 315555552.0000 - val_loss: 144974096.0000\n",
            "Epoch 139/2000\n",
            "8/8 [==============================] - 0s 4ms/step - loss: 315299104.0000 - val_loss: 143408896.0000\n",
            "Epoch 140/2000\n",
            "8/8 [==============================] - 0s 4ms/step - loss: 315043520.0000 - val_loss: 141883120.0000\n",
            "Epoch 141/2000\n",
            "8/8 [==============================] - 0s 4ms/step - loss: 314776768.0000 - val_loss: 140435632.0000\n",
            "Epoch 142/2000\n",
            "8/8 [==============================] - 0s 4ms/step - loss: 314515072.0000 - val_loss: 139034272.0000\n",
            "Epoch 143/2000\n",
            "8/8 [==============================] - 0s 4ms/step - loss: 314248960.0000 - val_loss: 137686048.0000\n",
            "Epoch 144/2000\n",
            "8/8 [==============================] - 0s 4ms/step - loss: 313977056.0000 - val_loss: 136407440.0000\n",
            "Epoch 145/2000\n",
            "8/8 [==============================] - 0s 4ms/step - loss: 313703232.0000 - val_loss: 135198608.0000\n",
            "Epoch 146/2000\n",
            "8/8 [==============================] - 0s 4ms/step - loss: 313426752.0000 - val_loss: 134060920.0000\n",
            "Epoch 147/2000\n",
            "8/8 [==============================] - 0s 4ms/step - loss: 313147168.0000 - val_loss: 132994384.0000\n",
            "Epoch 148/2000\n",
            "8/8 [==============================] - 0s 4ms/step - loss: 312869312.0000 - val_loss: 131990736.0000\n",
            "Epoch 149/2000\n",
            "8/8 [==============================] - 0s 4ms/step - loss: 312583392.0000 - val_loss: 131064472.0000\n",
            "Epoch 150/2000\n",
            "8/8 [==============================] - 0s 4ms/step - loss: 312290816.0000 - val_loss: 130230144.0000\n",
            "Epoch 151/2000\n",
            "8/8 [==============================] - 0s 4ms/step - loss: 312000640.0000 - val_loss: 129476592.0000\n",
            "Epoch 152/2000\n",
            "8/8 [==============================] - 0s 4ms/step - loss: 311705824.0000 - val_loss: 128809128.0000\n",
            "Epoch 153/2000\n",
            "8/8 [==============================] - 0s 3ms/step - loss: 311415904.0000 - val_loss: 128221968.0000\n",
            "Epoch 154/2000\n",
            "8/8 [==============================] - 0s 3ms/step - loss: 311109152.0000 - val_loss: 127735496.0000\n",
            "Epoch 155/2000\n",
            "8/8 [==============================] - 0s 4ms/step - loss: 310812864.0000 - val_loss: 127336568.0000\n",
            "Epoch 156/2000\n",
            "8/8 [==============================] - 0s 4ms/step - loss: 310504800.0000 - val_loss: 127038568.0000\n",
            "Epoch 157/2000\n",
            "8/8 [==============================] - 0s 4ms/step - loss: 310196352.0000 - val_loss: 126841776.0000\n",
            "Epoch 158/2000\n",
            "8/8 [==============================] - 0s 3ms/step - loss: 309884896.0000 - val_loss: 126749408.0000\n",
            "Epoch 159/2000\n",
            "8/8 [==============================] - 0s 3ms/step - loss: 309564928.0000 - val_loss: 126763936.0000\n",
            "Epoch 160/2000\n",
            "8/8 [==============================] - 0s 3ms/step - loss: 309254688.0000 - val_loss: 126889128.0000\n",
            "Epoch 161/2000\n",
            "8/8 [==============================] - 0s 4ms/step - loss: 308933216.0000 - val_loss: 127127720.0000\n",
            "Epoch 162/2000\n",
            "8/8 [==============================] - 0s 4ms/step - loss: 308611488.0000 - val_loss: 127485112.0000\n",
            "Epoch 163/2000\n",
            "8/8 [==============================] - 0s 4ms/step - loss: 308285216.0000 - val_loss: 127964288.0000\n",
            "Epoch 164/2000\n",
            "8/8 [==============================] - 0s 4ms/step - loss: 307955552.0000 - val_loss: 128565296.0000\n",
            "Epoch 165/2000\n",
            "8/8 [==============================] - 0s 3ms/step - loss: 307622272.0000 - val_loss: 129292280.0000\n",
            "Epoch 166/2000\n",
            "8/8 [==============================] - 0s 3ms/step - loss: 307290784.0000 - val_loss: 130155488.0000\n",
            "Epoch 167/2000\n",
            "8/8 [==============================] - 0s 3ms/step - loss: 306948512.0000 - val_loss: 131139824.0000\n",
            "Epoch 168/2000\n",
            "8/8 [==============================] - 0s 4ms/step - loss: 306615008.0000 - val_loss: 132276176.0000\n",
            "Epoch 169/2000\n",
            "8/8 [==============================] - 0s 5ms/step - loss: 306266752.0000 - val_loss: 133543664.0000\n",
            "Epoch 170/2000\n",
            "8/8 [==============================] - 0s 3ms/step - loss: 305927712.0000 - val_loss: 134981104.0000\n",
            "Epoch 171/2000\n",
            "8/8 [==============================] - 0s 3ms/step - loss: 305568320.0000 - val_loss: 136533232.0000\n",
            "Epoch 172/2000\n",
            "8/8 [==============================] - 0s 3ms/step - loss: 305222464.0000 - val_loss: 138261472.0000\n",
            "Epoch 173/2000\n",
            "8/8 [==============================] - 0s 4ms/step - loss: 304865728.0000 - val_loss: 140138784.0000\n"
          ],
          "name": "stdout"
        },
        {
          "output_type": "execute_result",
          "data": {
            "text/plain": [
              "<tensorflow.python.keras.callbacks.History at 0x7f59bc1f7748>"
            ]
          },
          "metadata": {
            "tags": []
          },
          "execution_count": 66
        }
      ]
    },
    {
      "cell_type": "code",
      "metadata": {
        "id": "59LeMXUNKsR3"
      },
      "source": [
        "loss = pd.DataFrame(model.history.history)"
      ],
      "execution_count": 67,
      "outputs": []
    },
    {
      "cell_type": "code",
      "metadata": {
        "id": "EXcz_UIqKzoZ",
        "outputId": "2723cd4c-ce79-40d6-f191-ce699b1dc148",
        "colab": {
          "base_uri": "https://localhost:8080/",
          "height": 293
        }
      },
      "source": [
        "loss.plot()"
      ],
      "execution_count": 68,
      "outputs": [
        {
          "output_type": "execute_result",
          "data": {
            "text/plain": [
              "<matplotlib.axes._subplots.AxesSubplot at 0x7f59b7b38240>"
            ]
          },
          "metadata": {
            "tags": []
          },
          "execution_count": 68
        },
        {
          "output_type": "display_data",
          "data": {
            "image/png": "[encoded data removed]",
            "text/plain": [
              "<Figure size 432x288 with 1 Axes>"
            ]
          },
          "metadata": {
            "tags": [],
            "needs_background": "light"
          }
        }
      ]
    },
    {
      "cell_type": "code",
      "metadata": {
        "id": "pbcqyqrGK2At",
        "outputId": "0f560741-3010-4e51-ead0-e1d23e0858fe",
        "colab": {
          "base_uri": "https://localhost:8080/",
          "height": 35
        }
      },
      "source": [
        "from sklearn.metrics import mean_squared_error\n",
        "pred = model.predict(X_test)\n",
        "np.sqrt(mean_squared_error(y_test,pred))"
      ],
      "execution_count": 69,
      "outputs": [
        {
          "output_type": "execute_result",
          "data": {
            "text/plain": [
              "11838.022901806418"
            ]
          },
          "metadata": {
            "tags": []
          },
          "execution_count": 69
        }
      ]
    },
    {
      "cell_type": "code",
      "metadata": {
        "id": "zMPCAu9rK46n",
        "outputId": "6d9a0979-dbed-44a2-9cf3-a02d0c92bf5e",
        "colab": {
          "base_uri": "https://localhost:8080/",
          "height": 35
        }
      },
      "source": [
        "entry_1 = df[:][257:477].drop('charges', axis=1)\n",
        "pred = model.predict(entry_1)\n",
        "np.sqrt(mean_squared_error(df[:][257:477]['charges'], pred))"
      ],
      "execution_count": 70,
      "outputs": [
        {
          "output_type": "execute_result",
          "data": {
            "text/plain": [
              "11283.996656943273"
            ]
          },
          "metadata": {
            "tags": []
          },
          "execution_count": 70
        }
      ]
    },
    {
      "cell_type": "code",
      "metadata": {
        "id": "PzVeXQuZK66u"
      },
      "source": [
        ""
      ],
      "execution_count": null,
      "outputs": []
    }
  ]
}