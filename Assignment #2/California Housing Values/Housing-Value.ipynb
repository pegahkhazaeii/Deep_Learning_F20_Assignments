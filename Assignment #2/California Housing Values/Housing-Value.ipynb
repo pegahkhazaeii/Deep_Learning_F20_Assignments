{
  "nbformat": 4,
  "nbformat_minor": 0,
  "metadata": {
    "colab": {
      "name": "Untitled4.ipynb",
      "provenance": []
    },
    "kernelspec": {
      "name": "python3",
      "display_name": "Python 3"
    }
  },
  "cells": [
    {
      "cell_type": "code",
      "metadata": {
        "id": "HB3DiT_m5AF7"
      },
      "source": [
        "from google.colab import drive"
      ],
      "execution_count": 1,
      "outputs": []
    },
    {
      "cell_type": "code",
      "metadata": {
        "id": "cZ2Cx7qs5eO4",
        "outputId": "4cf54c7b-54c6-418c-e957-df5ac8d4e49c",
        "colab": {
          "base_uri": "https://localhost:8080/",
          "height": 35
        }
      },
      "source": [
        "drive.mount('/content/drive')"
      ],
      "execution_count": 2,
      "outputs": [
        {
          "output_type": "stream",
          "text": [
            "Mounted at /content/drive\n"
          ],
          "name": "stdout"
        }
      ]
    },
    {
      "cell_type": "code",
      "metadata": {
        "id": "a9ogcKZg5geV",
        "outputId": "584f74d6-4c5f-4fe3-cc40-ae05bf5a2280",
        "colab": {
          "base_uri": "https://localhost:8080/",
          "height": 121
        }
      },
      "source": [
        "!ls \"/content/drive/My Drive/Deep Learning\""
      ],
      "execution_count": 4,
      "outputs": [
        {
          "output_type": "stream",
          "text": [
            " 1.jpg\t\t        fashion-mnist_test.csv\t Untitled3.ipynb\n",
            " 2.jpg\t\t        Housing.CSV\t\t Untitled4.ipynb\n",
            " 3.jpg\t\t        Untitled\t\t win2.xls\n",
            "'Assignment #4.ipynb'   Untitled0.ipynb\t\t wine1.xls\n",
            "'Assignment #5.ipynb'   Untitled1.ipynb\n",
            " cifar-10-batches-py    Untitled2.ipynb\n"
          ],
          "name": "stdout"
        }
      ]
    },
    {
      "cell_type": "code",
      "metadata": {
        "id": "uX-kv7T15yXC"
      },
      "source": [
        "import numpy as np # linear algebra\n",
        "import pandas as pd # data processing, CSV file I/O (e.g. pd.read_csv)\n",
        "import seaborn as sns\n",
        "import matplotlib.pyplot as plt\n",
        "from matplotlib.pyplot import rcParams\n",
        "%matplotlib inline\n",
        "rcParams['figure.figsize'] = 10,8\n",
        "sns.set(style='whitegrid', palette='muted',\n",
        "        rc={'figure.figsize': (15,10)})\n",
        "import os\n",
        "from sklearn.preprocessing import StandardScaler\n",
        "from sklearn.preprocessing import MinMaxScaler\n",
        "from sklearn.model_selection import train_test_split\n",
        "from sklearn.model_selection import GridSearchCV\n",
        "from sklearn.preprocessing import OneHotEncoder\n",
        "from keras.wrappers.scikit_learn import KerasRegressor\n",
        "from keras.models import Sequential\n",
        "from keras.layers import Dense, Activation, Dropout\n",
        "\n",
        "from numpy.random import seed\n",
        "import tensorflow as tf\n",
        "\n",
        "# Input data files are available in the \"../input/\" directory.\n",
        "# For example, running this (by clicking run or pressing Shift+Enter) will list all files under the input directory\n",
        "\n",
        "\n",
        "\n",
        "# Any results you write to the current directory are saved as output."
      ],
      "execution_count": 5,
      "outputs": []
    },
    {
      "cell_type": "code",
      "metadata": {
        "id": "WGhIsVmV8e6M",
        "outputId": "fd7fbdd3-e7ae-4ce1-eeec-f09b4372485e",
        "colab": {
          "base_uri": "https://localhost:8080/",
          "height": 202
        }
      },
      "source": [
        "housing = pd.read_csv(\"/content/drive/My Drive/Deep Learning/Housing.CSV\")\n",
        "housing.head()"
      ],
      "execution_count": 9,
      "outputs": [
        {
          "output_type": "execute_result",
          "data": {
            "text/html": [
              "<div>\n",
              "<style scoped>\n",
              "    .dataframe tbody tr th:only-of-type {\n",
              "        vertical-align: middle;\n",
              "    }\n",
              "\n",
              "    .dataframe tbody tr th {\n",
              "        vertical-align: top;\n",
              "    }\n",
              "\n",
              "    .dataframe thead th {\n",
              "        text-align: right;\n",
              "    }\n",
              "</style>\n",
              "<table border=\"1\" class=\"dataframe\">\n",
              "  <thead>\n",
              "    <tr style=\"text-align: right;\">\n",
              "      <th></th>\n",
              "      <th>longitude</th>\n",
              "      <th>latitude</th>\n",
              "      <th>housing_median_age</th>\n",
              "      <th>total_rooms</th>\n",
              "      <th>total_bedrooms</th>\n",
              "      <th>population</th>\n",
              "      <th>households</th>\n",
              "      <th>median_income</th>\n",
              "      <th>median_house_value</th>\n",
              "      <th>ocean_proximity</th>\n",
              "    </tr>\n",
              "  </thead>\n",
              "  <tbody>\n",
              "    <tr>\n",
              "      <th>0</th>\n",
              "      <td>-122.23</td>\n",
              "      <td>37.88</td>\n",
              "      <td>41.0</td>\n",
              "      <td>880.0</td>\n",
              "      <td>129.0</td>\n",
              "      <td>322.0</td>\n",
              "      <td>126.0</td>\n",
              "      <td>8.3252</td>\n",
              "      <td>452600.0</td>\n",
              "      <td>NEAR BAY</td>\n",
              "    </tr>\n",
              "    <tr>\n",
              "      <th>1</th>\n",
              "      <td>-122.22</td>\n",
              "      <td>37.86</td>\n",
              "      <td>21.0</td>\n",
              "      <td>7099.0</td>\n",
              "      <td>1106.0</td>\n",
              "      <td>2401.0</td>\n",
              "      <td>1138.0</td>\n",
              "      <td>8.3014</td>\n",
              "      <td>358500.0</td>\n",
              "      <td>NEAR BAY</td>\n",
              "    </tr>\n",
              "    <tr>\n",
              "      <th>2</th>\n",
              "      <td>-122.24</td>\n",
              "      <td>37.85</td>\n",
              "      <td>52.0</td>\n",
              "      <td>1467.0</td>\n",
              "      <td>190.0</td>\n",
              "      <td>496.0</td>\n",
              "      <td>177.0</td>\n",
              "      <td>7.2574</td>\n",
              "      <td>352100.0</td>\n",
              "      <td>NEAR BAY</td>\n",
              "    </tr>\n",
              "    <tr>\n",
              "      <th>3</th>\n",
              "      <td>-122.25</td>\n",
              "      <td>37.85</td>\n",
              "      <td>52.0</td>\n",
              "      <td>1274.0</td>\n",
              "      <td>235.0</td>\n",
              "      <td>558.0</td>\n",
              "      <td>219.0</td>\n",
              "      <td>5.6431</td>\n",
              "      <td>341300.0</td>\n",
              "      <td>NEAR BAY</td>\n",
              "    </tr>\n",
              "    <tr>\n",
              "      <th>4</th>\n",
              "      <td>-122.25</td>\n",
              "      <td>37.85</td>\n",
              "      <td>52.0</td>\n",
              "      <td>1627.0</td>\n",
              "      <td>280.0</td>\n",
              "      <td>565.0</td>\n",
              "      <td>259.0</td>\n",
              "      <td>3.8462</td>\n",
              "      <td>342200.0</td>\n",
              "      <td>NEAR BAY</td>\n",
              "    </tr>\n",
              "  </tbody>\n",
              "</table>\n",
              "</div>"
            ],
            "text/plain": [
              "   longitude  latitude  ...  median_house_value  ocean_proximity\n",
              "0    -122.23     37.88  ...            452600.0         NEAR BAY\n",
              "1    -122.22     37.86  ...            358500.0         NEAR BAY\n",
              "2    -122.24     37.85  ...            352100.0         NEAR BAY\n",
              "3    -122.25     37.85  ...            341300.0         NEAR BAY\n",
              "4    -122.25     37.85  ...            342200.0         NEAR BAY\n",
              "\n",
              "[5 rows x 10 columns]"
            ]
          },
          "metadata": {
            "tags": []
          },
          "execution_count": 9
        }
      ]
    },
    {
      "cell_type": "code",
      "metadata": {
        "id": "PLuAq6Qd8qti"
      },
      "source": [
        "housing.dropna(inplace=True)"
      ],
      "execution_count": 10,
      "outputs": []
    },
    {
      "cell_type": "code",
      "metadata": {
        "id": "XxCloYDC9Fyf"
      },
      "source": [
        "housing['ocean_proximity'] = housing['ocean_proximity'].astype('category')\n",
        "# convert to category codes\n",
        "housing['ocean_proximity'] = housing['ocean_proximity'].cat.codes"
      ],
      "execution_count": 11,
      "outputs": []
    },
    {
      "cell_type": "code",
      "metadata": {
        "id": "ALtsDNQX9IsX",
        "outputId": "a64ef0c7-6ce3-469d-b9eb-752343a1f7f7",
        "colab": {
          "base_uri": "https://localhost:8080/",
          "height": 314
        }
      },
      "source": [
        "scaler = MinMaxScaler()\n",
        "housing = (housing-housing.min())/(housing.max()-housing.min())\n",
        "housing.describe()"
      ],
      "execution_count": 12,
      "outputs": [
        {
          "output_type": "execute_result",
          "data": {
            "text/html": [
              "<div>\n",
              "<style scoped>\n",
              "    .dataframe tbody tr th:only-of-type {\n",
              "        vertical-align: middle;\n",
              "    }\n",
              "\n",
              "    .dataframe tbody tr th {\n",
              "        vertical-align: top;\n",
              "    }\n",
              "\n",
              "    .dataframe thead th {\n",
              "        text-align: right;\n",
              "    }\n",
              "</style>\n",
              "<table border=\"1\" class=\"dataframe\">\n",
              "  <thead>\n",
              "    <tr style=\"text-align: right;\">\n",
              "      <th></th>\n",
              "      <th>longitude</th>\n",
              "      <th>latitude</th>\n",
              "      <th>housing_median_age</th>\n",
              "      <th>total_rooms</th>\n",
              "      <th>total_bedrooms</th>\n",
              "      <th>population</th>\n",
              "      <th>households</th>\n",
              "      <th>median_income</th>\n",
              "      <th>median_house_value</th>\n",
              "      <th>ocean_proximity</th>\n",
              "    </tr>\n",
              "  </thead>\n",
              "  <tbody>\n",
              "    <tr>\n",
              "      <th>count</th>\n",
              "      <td>1065.000000</td>\n",
              "      <td>1065.000000</td>\n",
              "      <td>1065.000000</td>\n",
              "      <td>1065.000000</td>\n",
              "      <td>1065.000000</td>\n",
              "      <td>1065.000000</td>\n",
              "      <td>1065.000000</td>\n",
              "      <td>1065.000000</td>\n",
              "      <td>1065.000000</td>\n",
              "      <td>1065.000000</td>\n",
              "    </tr>\n",
              "    <tr>\n",
              "      <th>mean</th>\n",
              "      <td>0.094381</td>\n",
              "      <td>0.139691</td>\n",
              "      <td>0.689859</td>\n",
              "      <td>0.086651</td>\n",
              "      <td>0.127987</td>\n",
              "      <td>0.100787</td>\n",
              "      <td>0.125850</td>\n",
              "      <td>0.254721</td>\n",
              "      <td>0.330190</td>\n",
              "      <td>0.880282</td>\n",
              "    </tr>\n",
              "    <tr>\n",
              "      <th>std</th>\n",
              "      <td>0.112429</td>\n",
              "      <td>0.129326</td>\n",
              "      <td>0.271347</td>\n",
              "      <td>0.077831</td>\n",
              "      <td>0.106240</td>\n",
              "      <td>0.086839</td>\n",
              "      <td>0.105863</td>\n",
              "      <td>0.137158</td>\n",
              "      <td>0.201705</td>\n",
              "      <td>0.285103</td>\n",
              "    </tr>\n",
              "    <tr>\n",
              "      <th>min</th>\n",
              "      <td>0.000000</td>\n",
              "      <td>0.000000</td>\n",
              "      <td>0.000000</td>\n",
              "      <td>0.000000</td>\n",
              "      <td>0.000000</td>\n",
              "      <td>0.000000</td>\n",
              "      <td>0.000000</td>\n",
              "      <td>0.000000</td>\n",
              "      <td>0.000000</td>\n",
              "      <td>0.000000</td>\n",
              "    </tr>\n",
              "    <tr>\n",
              "      <th>25%</th>\n",
              "      <td>0.035156</td>\n",
              "      <td>0.090909</td>\n",
              "      <td>0.480000</td>\n",
              "      <td>0.045422</td>\n",
              "      <td>0.067358</td>\n",
              "      <td>0.052770</td>\n",
              "      <td>0.067136</td>\n",
              "      <td>0.158673</td>\n",
              "      <td>0.183181</td>\n",
              "      <td>1.000000</td>\n",
              "    </tr>\n",
              "    <tr>\n",
              "      <th>50%</th>\n",
              "      <td>0.066406</td>\n",
              "      <td>0.125541</td>\n",
              "      <td>0.720000</td>\n",
              "      <td>0.067549</td>\n",
              "      <td>0.100259</td>\n",
              "      <td>0.078375</td>\n",
              "      <td>0.097455</td>\n",
              "      <td>0.229254</td>\n",
              "      <td>0.298408</td>\n",
              "      <td>1.000000</td>\n",
              "    </tr>\n",
              "    <tr>\n",
              "      <th>75%</th>\n",
              "      <td>0.105469</td>\n",
              "      <td>0.151515</td>\n",
              "      <td>0.960000</td>\n",
              "      <td>0.102280</td>\n",
              "      <td>0.149741</td>\n",
              "      <td>0.118670</td>\n",
              "      <td>0.146454</td>\n",
              "      <td>0.331761</td>\n",
              "      <td>0.429317</td>\n",
              "      <td>1.000000</td>\n",
              "    </tr>\n",
              "    <tr>\n",
              "      <th>max</th>\n",
              "      <td>1.000000</td>\n",
              "      <td>1.000000</td>\n",
              "      <td>1.000000</td>\n",
              "      <td>1.000000</td>\n",
              "      <td>1.000000</td>\n",
              "      <td>1.000000</td>\n",
              "      <td>1.000000</td>\n",
              "      <td>1.000000</td>\n",
              "      <td>1.000000</td>\n",
              "      <td>1.000000</td>\n",
              "    </tr>\n",
              "  </tbody>\n",
              "</table>\n",
              "</div>"
            ],
            "text/plain": [
              "         longitude     latitude  ...  median_house_value  ocean_proximity\n",
              "count  1065.000000  1065.000000  ...         1065.000000      1065.000000\n",
              "mean      0.094381     0.139691  ...            0.330190         0.880282\n",
              "std       0.112429     0.129326  ...            0.201705         0.285103\n",
              "min       0.000000     0.000000  ...            0.000000         0.000000\n",
              "25%       0.035156     0.090909  ...            0.183181         1.000000\n",
              "50%       0.066406     0.125541  ...            0.298408         1.000000\n",
              "75%       0.105469     0.151515  ...            0.429317         1.000000\n",
              "max       1.000000     1.000000  ...            1.000000         1.000000\n",
              "\n",
              "[8 rows x 10 columns]"
            ]
          },
          "metadata": {
            "tags": []
          },
          "execution_count": 12
        }
      ]
    },
    {
      "cell_type": "code",
      "metadata": {
        "id": "ihTZxDFz9Lr8"
      },
      "source": [
        "from sklearn.model_selection import train_test_split\n",
        "set_X = housing.drop('median_house_value',axis= 1) # for the input we want all the coulmns but the median_house_value\n",
        "set_Y = housing['median_house_value'] # for the output we want all the columns "
      ],
      "execution_count": 13,
      "outputs": []
    },
    {
      "cell_type": "code",
      "metadata": {
        "id": "PY-aan4i9QNf"
      },
      "source": [
        "train_set_X , test_set_X, train_set_Y , test_set_Y = train_test_split(set_X,set_Y , test_size = 0.2 , random_state = 69)"
      ],
      "execution_count": 14,
      "outputs": []
    },
    {
      "cell_type": "code",
      "metadata": {
        "id": "Q7Ch7bcX9Sz3"
      },
      "source": [
        "def create_model(lyrs=[8,8], act='relu', opt='Adam', dr=0.0):\n",
        "    \n",
        "  \n",
        "    model = Sequential()\n",
        "    \n",
        "    # create first hidden layer\n",
        "    model.add(Dense(lyrs[0], input_dim = train_set_X.shape[1], activation=act))\n",
        "    \n",
        "    # create additional hidden layers\n",
        "    for i in range(1,len(lyrs)):\n",
        "        model.add(Dense(lyrs[i], activation=act))\n",
        "    \n",
        "    # add dropout, default is none\n",
        "    model.add(Dropout(dr))\n",
        "    \n",
        "    # create output layer\n",
        "    model.add(Dense(1,activation='relu'))  # output layer activation='sigmoid')\n",
        "    \n",
        "    #Configuration of  the learning process\n",
        "#     model.compile(loss='mean_squared_error', optimizer=opt, metrics=['mean_absolute_error'])\n",
        "    model.compile(optimizer='adam',loss='mse' , metrics = ['mae'])\n",
        "    \n",
        "    return model"
      ],
      "execution_count": 15,
      "outputs": []
    },
    {
      "cell_type": "code",
      "metadata": {
        "id": "e-LIYsiK9YGJ",
        "outputId": "0091410b-0ace-467d-dd89-5687b5063dd0",
        "colab": {
          "base_uri": "https://localhost:8080/",
          "height": 312
        }
      },
      "source": [
        "model = create_model()\n",
        "print(model.summary())"
      ],
      "execution_count": 16,
      "outputs": [
        {
          "output_type": "stream",
          "text": [
            "Model: \"sequential\"\n",
            "_________________________________________________________________\n",
            "Layer (type)                 Output Shape              Param #   \n",
            "=================================================================\n",
            "dense (Dense)                (None, 8)                 80        \n",
            "_________________________________________________________________\n",
            "dense_1 (Dense)              (None, 8)                 72        \n",
            "_________________________________________________________________\n",
            "dropout (Dropout)            (None, 8)                 0         \n",
            "_________________________________________________________________\n",
            "dense_2 (Dense)              (None, 1)                 9         \n",
            "=================================================================\n",
            "Total params: 161\n",
            "Trainable params: 161\n",
            "Non-trainable params: 0\n",
            "_________________________________________________________________\n",
            "None\n"
          ],
          "name": "stdout"
        }
      ]
    },
    {
      "cell_type": "code",
      "metadata": {
        "id": "PGbUy_No9age",
        "outputId": "985c2b52-2e65-4468-d260-7a66e0aef571",
        "colab": {
          "base_uri": "https://localhost:8080/",
          "height": 1000
        }
      },
      "source": [
        "training = model.fit(train_set_X, train_set_Y, epochs=100, batch_size=32, validation_split=0.2, verbose=0)\n",
        "val_acc = np.mean(training.history['mae'])\n",
        "print(\"\\n%s: %.2f%%\" % ('Mean squared error ', val_acc))\n",
        "\n",
        "training.history['mae']\n",
        "# Show model accuracy on graph for comparison\n",
        "plt.plot(training.history['mae'])\n",
        "plt.plot(training.history['val_mae'])\n",
        "plt.title('Model Train/Validation Comparison')\n",
        "plt.ylabel('mean_squared_error')\n",
        "plt.xlabel('epoch')\n",
        "plt.legend(['train', 'validation'], loc='upper left')\n",
        "plt.show()\n",
        "\n",
        "# Show model loss on graph for comparison\n",
        "plt.plot(training.history['loss'])\n",
        "plt.plot(training.history['val_loss'])\n",
        "plt.title('Model Train/Validation Comparison')\n",
        "plt.ylabel('Loss')\n",
        "plt.xlabel('epoch')\n",
        "plt.legend(['train', 'validation'], loc='upper left')\n",
        "plt.show()"
      ],
      "execution_count": 17,
      "outputs": [
        {
          "output_type": "stream",
          "text": [
            "\n",
            "Mean squared error : 0.10%\n"
          ],
          "name": "stdout"
        },
        {
          "output_type": "display_data",
          "data": {
            "image/png": "[encoded data removed]",
            "text/plain": [
              "<Figure size 1080x720 with 1 Axes>"
            ]
          },
          "metadata": {
            "tags": []
          }
        },
        {
          "output_type": "display_data",
          "data": {
            "image/png": "[encoded data removed]",
            "text/plain": [
              "<Figure size 1080x720 with 1 Axes>"
            ]
          },
          "metadata": {
            "tags": []
          }
        }
      ]
    },
    {
      "cell_type": "code",
      "metadata": {
        "id": "vSsCKrPu9ePv"
      },
      "source": [
        "model = KerasRegressor(build_fn=create_model, verbose=0)\n",
        "\n",
        "# define the grid search parameters\n",
        "batch_size = [16, 32, 64]\n",
        "epochs = [25, 50,100]\n",
        "param_grid = dict(batch_size=batch_size, epochs=epochs)\n",
        "\n",
        "# search the grid\n",
        "grid = GridSearchCV(estimator=model, \n",
        "                    param_grid=param_grid,\n",
        "                    cv=3,\n",
        "                    verbose=0)  # include n_jobs=-1 if you are using CPU\n",
        "\n",
        "grid_result = grid.fit(train_set_X, train_set_Y)"
      ],
      "execution_count": 18,
      "outputs": []
    },
    {
      "cell_type": "code",
      "metadata": {
        "id": "dJbABjjU9ibY",
        "outputId": "11ee386a-09ce-4bd7-f677-fa0f710e069e",
        "colab": {
          "base_uri": "https://localhost:8080/",
          "height": 191
        }
      },
      "source": [
        "print(\"Best: %f using %s\" % (grid_result.best_score_, grid_result.best_params_))\n",
        "means = grid_result.cv_results_['mean_test_score']\n",
        "stds = grid_result.cv_results_['std_test_score']\n",
        "params = grid_result.cv_results_['params']\n",
        "for mean, stdev, param in zip(means, stds, params):\n",
        "    print(\"%f (%f) with: %r\" % (mean, stdev, param))"
      ],
      "execution_count": 19,
      "outputs": [
        {
          "output_type": "stream",
          "text": [
            "Best: -0.015274 using {'batch_size': 16, 'epochs': 50}\n",
            "-0.064265 (0.067189) with: {'batch_size': 16, 'epochs': 25}\n",
            "-0.015274 (0.003870) with: {'batch_size': 16, 'epochs': 50}\n",
            "-0.063159 (0.067929) with: {'batch_size': 16, 'epochs': 100}\n",
            "-0.057321 (0.061198) with: {'batch_size': 32, 'epochs': 25}\n",
            "-0.061362 (0.062649) with: {'batch_size': 32, 'epochs': 50}\n",
            "-0.015320 (0.003917) with: {'batch_size': 32, 'epochs': 100}\n",
            "-0.025656 (0.005111) with: {'batch_size': 64, 'epochs': 25}\n",
            "-0.015750 (0.004382) with: {'batch_size': 64, 'epochs': 50}\n",
            "-0.064340 (0.067088) with: {'batch_size': 64, 'epochs': 100}\n"
          ],
          "name": "stdout"
        }
      ]
    },
    {
      "cell_type": "code",
      "metadata": {
        "id": "94jeKx-O9vD1"
      },
      "source": [
        ""
      ],
      "execution_count": null,
      "outputs": []
    }
  ]
}