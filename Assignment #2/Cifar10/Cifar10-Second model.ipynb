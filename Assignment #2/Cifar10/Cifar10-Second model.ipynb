{
  "nbformat": 4,
  "nbformat_minor": 0,
  "metadata": {
    "colab": {
      "name": "Untitled3.ipynb",
      "provenance": []
    },
    "kernelspec": {
      "name": "python3",
      "display_name": "Python 3"
    },
    "accelerator": "GPU"
  },
  "cells": [
    {
      "cell_type": "code",
      "metadata": {
        "id": "uDfIYltnrz3l"
      },
      "source": [
        "from google.colab import drive"
      ],
      "execution_count": 11,
      "outputs": []
    },
    {
      "cell_type": "code",
      "metadata": {
        "id": "gd2AipG0r1SE",
        "outputId": "8c463f06-16c7-416f-b7e4-590b245b7812",
        "colab": {
          "base_uri": "https://localhost:8080/",
          "height": 35
        }
      },
      "source": [
        "drive.mount('/content/drive')"
      ],
      "execution_count": 12,
      "outputs": [
        {
          "output_type": "stream",
          "text": [
            "Mounted at /content/drive\n"
          ],
          "name": "stdout"
        }
      ]
    },
    {
      "cell_type": "code",
      "metadata": {
        "id": "rij6jSIfr1gz",
        "outputId": "ff484ff0-b765-4309-9713-8c7826b2cc2b",
        "colab": {
          "base_uri": "https://localhost:8080/",
          "height": 52
        }
      },
      "source": [
        "!ls \"/content/drive/My Drive\""
      ],
      "execution_count": 13,
      "outputs": [
        {
          "output_type": "stream",
          "text": [
            " algorithmProject   Test\t      Untitled1.ipynb\n",
            "'Deep Learning'     Untitled0.ipynb   Untitled2.ipynb\n"
          ],
          "name": "stdout"
        }
      ]
    },
    {
      "cell_type": "code",
      "metadata": {
        "id": "TctnRIeqsKut",
        "outputId": "9dd2a6f8-1a57-450e-fab2-6b4f40b73082",
        "colab": {
          "base_uri": "https://localhost:8080/",
          "height": 69
        }
      },
      "source": [
        "!ls \"/content/drive/My Drive/Deep Learning\""
      ],
      "execution_count": 14,
      "outputs": [
        {
          "output_type": "stream",
          "text": [
            " 1.jpg\t'Assignment #4.ipynb'   Untitled\t  Untitled2.ipynb   wine1.xls\n",
            " 2.jpg\t'Assignment #5.ipynb'   Untitled0.ipynb   Untitled3.ipynb\n",
            " 3.jpg\t cifar-10-batches-py    Untitled1.ipynb   win2.xls\n"
          ],
          "name": "stdout"
        }
      ]
    },
    {
      "cell_type": "code",
      "metadata": {
        "id": "k5yDKGXGsKqt",
        "outputId": "f14540fb-c548-49a9-a586-51ecd7cbb385",
        "colab": {
          "base_uri": "https://localhost:8080/",
          "height": 52
        }
      },
      "source": [
        "!ls '/content/drive/My Drive/Deep Learning/cifar-10-batches-py'"
      ],
      "execution_count": 15,
      "outputs": [
        {
          "output_type": "stream",
          "text": [
            "batches.meta  data_batch_2  data_batch_4  desktop.ini  test_batch\n",
            "data_batch_1  data_batch_3  data_batch_5  readme.html\n"
          ],
          "name": "stdout"
        }
      ]
    },
    {
      "cell_type": "code",
      "metadata": {
        "id": "ksjzuH9Cqybn"
      },
      "source": [
        "import pandas as pd\n",
        "import numpy as np\n",
        "import matplotlib.pyplot as plt\n",
        "import matplotlib.image as mpimg\n",
        "import seaborn as sns\n",
        "%matplotlib inline\n",
        "\n",
        "np.random.seed(2)\n",
        "\n",
        "from sklearn.model_selection import train_test_split\n",
        "from sklearn.metrics import confusion_matrix\n",
        "import itertools\n",
        "\n",
        "import keras as k\n",
        "from keras.utils.np_utils import to_categorical # convert to one-hot-encoding\n",
        "from keras.models import Sequential\n",
        "from keras.layers import Dense, Dropout, Flatten, Conv2D, MaxPool2D\n",
        "from keras.optimizers import RMSprop\n",
        "from keras.preprocessing.image import ImageDataGenerator\n",
        "from keras.callbacks import ReduceLROnPlateau\n",
        "\n",
        "classes = ('plane', 'car', 'bird', 'cat',\n",
        "           'deer', 'dog', 'frog', 'horse', 'ship', 'truck')"
      ],
      "execution_count": 34,
      "outputs": []
    },
    {
      "cell_type": "code",
      "metadata": {
        "id": "crO809bKq5oD",
        "outputId": "62e17c3a-e5f6-4825-f044-ee7e079ecc0e",
        "colab": {
          "base_uri": "https://localhost:8080/",
          "height": 35
        }
      },
      "source": [
        "torch.__version__"
      ],
      "execution_count": 3,
      "outputs": [
        {
          "output_type": "execute_result",
          "data": {
            "application/vnd.google.colaboratory.intrinsic+json": {
              "type": "string"
            },
            "text/plain": [
              "'1.6.0+cu101'"
            ]
          },
          "metadata": {
            "tags": []
          },
          "execution_count": 3
        }
      ]
    },
    {
      "cell_type": "code",
      "metadata": {
        "id": "uHYQCp18q-vz",
        "outputId": "c6c40000-8b0c-4962-e73c-cd25cdc1c7eb",
        "colab": {
          "base_uri": "https://localhost:8080/",
          "height": 35
        }
      },
      "source": [
        "from torch.autograd import Variable\n",
        "use_gpu = torch.cuda.is_available()\n",
        "use_gpu"
      ],
      "execution_count": 4,
      "outputs": [
        {
          "output_type": "execute_result",
          "data": {
            "text/plain": [
              "True"
            ]
          },
          "metadata": {
            "tags": []
          },
          "execution_count": 4
        }
      ]
    },
    {
      "cell_type": "code",
      "metadata": {
        "id": "drv3pRJsrDVL",
        "outputId": "58c6fbcb-3c0d-4783-ce82-567d2700fc1d",
        "colab": {
          "base_uri": "https://localhost:8080/",
          "height": 35
        }
      },
      "source": [
        "device = torch.device(\"cuda:0\" if torch.cuda.is_available() else \"cpu\")\n",
        "print(device)"
      ],
      "execution_count": 5,
      "outputs": [
        {
          "output_type": "stream",
          "text": [
            "cuda:0\n"
          ],
          "name": "stdout"
        }
      ]
    },
    {
      "cell_type": "code",
      "metadata": {
        "id": "wJaPaUMzrK6T"
      },
      "source": [
        "img_rows, img_cols = 32, 32\n",
        "input_shape = (img_rows, img_cols, 3)\n",
        "def load_pickle(f):\n",
        "    version = platform.python_version_tuple()\n",
        "    if version[0] == '2':\n",
        "        return  pickle.load(f)\n",
        "    elif version[0] == '3':\n",
        "        return  pickle.load(f, encoding='latin1')\n",
        "    raise ValueError(\"invalid python version: {}\".format(version))"
      ],
      "execution_count": 7,
      "outputs": []
    },
    {
      "cell_type": "code",
      "metadata": {
        "id": "qSBZACT4rhMr"
      },
      "source": [
        "def load_CIFAR_batch(filename):\n",
        "    \"\"\" load single batch of cifar \"\"\"\n",
        "    with open(filename, 'rb') as f:\n",
        "        datadict = load_pickle(f)\n",
        "        X = datadict['data']\n",
        "        Y = datadict['labels']\n",
        "        X = X.reshape(10000,3072)\n",
        "        Y = np.array(Y)\n",
        "        return X, Y"
      ],
      "execution_count": 8,
      "outputs": []
    },
    {
      "cell_type": "code",
      "metadata": {
        "id": "I_HBnHBwrkAh"
      },
      "source": [
        "def load_CIFAR10(ROOT):\n",
        "    \"\"\" load all of cifar \"\"\"\n",
        "    xs = []\n",
        "    ys = []\n",
        "    for b in range(1,6):\n",
        "        f = os.path.join(ROOT, 'data_batch_%d' % (b, ))\n",
        "        X, Y = load_CIFAR_batch(f)\n",
        "        xs.append(X)\n",
        "        ys.append(Y)\n",
        "    Xtr = np.concatenate(xs)\n",
        "    Ytr = np.concatenate(ys)\n",
        "    del X, Y\n",
        "    Xte, Yte = load_CIFAR_batch(os.path.join(ROOT, 'test_batch'))\n",
        "    return Xtr, Ytr, Xte, Yte"
      ],
      "execution_count": 9,
      "outputs": []
    },
    {
      "cell_type": "code",
      "metadata": {
        "id": "tAsY-9d3rnF4"
      },
      "source": [
        "def get_CIFAR10_data(num_training=49000, num_validation=1000, num_test=10000):\n",
        "    # Load the raw CIFAR-10 data\n",
        "    cifar10_dir = r'/content/drive/My Drive/Deep Learning/cifar-10-batches-py'\n",
        "    X_train, y_train, X_test, y_test = load_CIFAR10(cifar10_dir)\n",
        "\n",
        "    # Subsample the data\n",
        "    mask = range(num_training, num_training + num_validation)\n",
        "    X_val = X_train[mask]\n",
        "    y_val = y_train[mask]\n",
        "    mask = range(num_training)\n",
        "    X_train = X_train[mask]\n",
        "    y_train = y_train[mask]\n",
        "    mask = range(num_test)\n",
        "    X_test = X_test[mask]\n",
        "    y_test = y_test[mask]\n",
        "\n",
        "    x_train = X_train.astype('float32')\n",
        "    x_test = X_test.astype('float32')\n",
        "\n",
        "  \n",
        "    return x_train, y_train, X_val, y_val, x_test, y_test\n",
        "# Invoke the above function to get our data.\n",
        "x_train, y_train, x_val, y_val, x_test, y_test = get_CIFAR10_data()"
      ],
      "execution_count": 41,
      "outputs": []
    },
    {
      "cell_type": "code",
      "metadata": {
        "id": "rwe8m4chtupL",
        "outputId": "c464a4e7-6b06-4b62-db61-f7da407452cc",
        "colab": {
          "base_uri": "https://localhost:8080/",
          "height": 121
        }
      },
      "source": [
        "print('Train data shape: ', x_train.shape)\n",
        "print('Train labels shape: ', y_train.shape)\n",
        "print('Validation data shape: ', x_val.shape)\n",
        "print('Validation labels shape: ', y_val.shape)\n",
        "print('Test data shape: ', x_test.shape)\n",
        "print('Test labels shape: ', y_test.shape)"
      ],
      "execution_count": 42,
      "outputs": [
        {
          "output_type": "stream",
          "text": [
            "Train data shape:  (49000, 3072)\n",
            "Train labels shape:  (49000,)\n",
            "Validation data shape:  (1000, 3072)\n",
            "Validation labels shape:  (1000,)\n",
            "Test data shape:  (10000, 3072)\n",
            "Test labels shape:  (10000,)\n"
          ],
          "name": "stdout"
        }
      ]
    },
    {
      "cell_type": "code",
      "metadata": {
        "id": "Ozsoy0sGvgy8"
      },
      "source": [
        "from __future__ import print_function"
      ],
      "execution_count": 32,
      "outputs": []
    },
    {
      "cell_type": "code",
      "metadata": {
        "id": "Xd6X74KRvtIc"
      },
      "source": [
        "model = Sequential()\n",
        "batch_size = 64\n",
        "num_classes = 10\n",
        "epochs = 50"
      ],
      "execution_count": 35,
      "outputs": []
    },
    {
      "cell_type": "code",
      "metadata": {
        "id": "ZBVBR84bwkPx"
      },
      "source": [
        "x_train_scaled = x_train / 255\n",
        "x_test_scaled = x_test / 255"
      ],
      "execution_count": 43,
      "outputs": []
    },
    {
      "cell_type": "code",
      "metadata": {
        "id": "L0mB17hcxJQu",
        "outputId": "3077444e-6275-49b6-fee6-19844f5cc8f8",
        "colab": {
          "base_uri": "https://localhost:8080/",
          "height": 104
        }
      },
      "source": [
        "y_train_categorical = keras.utils.to_categorical(y_train, num_classes= 10, dtype='float')\n",
        "y_test_categorical = keras.utils.to_categorical(y_test, num_classes= 10, dtype='float')\n",
        "\n",
        "y_train_categorical[:5]"
      ],
      "execution_count": 47,
      "outputs": [
        {
          "output_type": "execute_result",
          "data": {
            "text/plain": [
              "array([[0., 0., 0., 0., 0., 0., 1., 0., 0., 0.],\n",
              "       [0., 0., 0., 0., 0., 0., 0., 0., 0., 1.],\n",
              "       [0., 0., 0., 0., 0., 0., 0., 0., 0., 1.],\n",
              "       [0., 0., 0., 0., 1., 0., 0., 0., 0., 0.],\n",
              "       [0., 1., 0., 0., 0., 0., 0., 0., 0., 0.]])"
            ]
          },
          "metadata": {
            "tags": []
          },
          "execution_count": 47
        }
      ]
    },
    {
      "cell_type": "code",
      "metadata": {
        "id": "sDD2rGKiwkTG"
      },
      "source": [
        "def create_model():\n",
        "    model = keras.Sequential([\n",
        "        keras.layers.Flatten(input_shape=(32,32,3)),\n",
        "        keras.layers.Dense(3000, activation='relu'),\n",
        "        keras.layers.Dense(1000, activation='relu'),\n",
        "        keras.layers.Dense(10, activation='sigmoid')\n",
        "    ])\n",
        "\n",
        "    model.compile(optimizer= 'SGD',\n",
        "                 loss= 'categorical_crossentropy',\n",
        "                 metrics=['accuracy'])\n",
        "    \n",
        "    return model"
      ],
      "execution_count": 44,
      "outputs": []
    },
    {
      "cell_type": "code",
      "metadata": {
        "id": "Fski3g5kwk1m",
        "outputId": "60329c3a-cc11-46e6-8e51-f64c6cacef32",
        "colab": {
          "base_uri": "https://localhost:8080/",
          "height": 1000
        }
      },
      "source": [
        "from tensorflow import keras\n",
        "\n",
        "model = create_model()\n",
        "model.fit(x_train_scaled, y_train_categorical, epochs=50)"
      ],
      "execution_count": 48,
      "outputs": [
        {
          "output_type": "stream",
          "text": [
            "Epoch 1/50\n",
            "WARNING:tensorflow:Model was constructed with shape (None, 32, 32, 3) for input Tensor(\"flatten_3_input:0\", shape=(None, 32, 32, 3), dtype=float32), but it was called on an input with incompatible shape (None, 3072).\n",
            "WARNING:tensorflow:Model was constructed with shape (None, 32, 32, 3) for input Tensor(\"flatten_3_input:0\", shape=(None, 32, 32, 3), dtype=float32), but it was called on an input with incompatible shape (None, 3072).\n",
            "1532/1532 [==============================] - 5s 3ms/step - loss: 1.8669 - accuracy: 0.3283\n",
            "Epoch 2/50\n",
            "1532/1532 [==============================] - 5s 3ms/step - loss: 1.6649 - accuracy: 0.4086\n",
            "Epoch 3/50\n",
            "1532/1532 [==============================] - 5s 3ms/step - loss: 1.5760 - accuracy: 0.4443\n",
            "Epoch 4/50\n",
            "1532/1532 [==============================] - 5s 3ms/step - loss: 1.5125 - accuracy: 0.4641\n",
            "Epoch 5/50\n",
            "1532/1532 [==============================] - 5s 3ms/step - loss: 1.4618 - accuracy: 0.4839\n",
            "Epoch 6/50\n",
            "1532/1532 [==============================] - 5s 3ms/step - loss: 1.4177 - accuracy: 0.5022\n",
            "Epoch 7/50\n",
            "1532/1532 [==============================] - 5s 3ms/step - loss: 1.3785 - accuracy: 0.5130\n",
            "Epoch 8/50\n",
            "1532/1532 [==============================] - 5s 4ms/step - loss: 1.3441 - accuracy: 0.5252\n",
            "Epoch 9/50\n",
            "1532/1532 [==============================] - 5s 3ms/step - loss: 1.3136 - accuracy: 0.5397\n",
            "Epoch 10/50\n",
            "1532/1532 [==============================] - 5s 3ms/step - loss: 1.2808 - accuracy: 0.5495\n",
            "Epoch 11/50\n",
            "1532/1532 [==============================] - 5s 3ms/step - loss: 1.2524 - accuracy: 0.5588\n",
            "Epoch 12/50\n",
            "1532/1532 [==============================] - 5s 3ms/step - loss: 1.2226 - accuracy: 0.5699\n",
            "Epoch 13/50\n",
            "1532/1532 [==============================] - 5s 3ms/step - loss: 1.1972 - accuracy: 0.5827\n",
            "Epoch 14/50\n",
            "1532/1532 [==============================] - 5s 3ms/step - loss: 1.1708 - accuracy: 0.5901\n",
            "Epoch 15/50\n",
            "1532/1532 [==============================] - 5s 3ms/step - loss: 1.1439 - accuracy: 0.6015\n",
            "Epoch 16/50\n",
            "1532/1532 [==============================] - 5s 3ms/step - loss: 1.1190 - accuracy: 0.6085\n",
            "Epoch 17/50\n",
            "1532/1532 [==============================] - 5s 4ms/step - loss: 1.0920 - accuracy: 0.6172\n",
            "Epoch 18/50\n",
            "1532/1532 [==============================] - 5s 3ms/step - loss: 1.0661 - accuracy: 0.6266\n",
            "Epoch 19/50\n",
            "1532/1532 [==============================] - 5s 3ms/step - loss: 1.0434 - accuracy: 0.6348\n",
            "Epoch 20/50\n",
            "1532/1532 [==============================] - 5s 3ms/step - loss: 1.0172 - accuracy: 0.6452\n",
            "Epoch 21/50\n",
            "1532/1532 [==============================] - 5s 3ms/step - loss: 0.9920 - accuracy: 0.6561\n",
            "Epoch 22/50\n",
            "1532/1532 [==============================] - 5s 3ms/step - loss: 0.9681 - accuracy: 0.6627\n",
            "Epoch 23/50\n",
            "1532/1532 [==============================] - 5s 3ms/step - loss: 0.9474 - accuracy: 0.6693\n",
            "Epoch 24/50\n",
            "1532/1532 [==============================] - 5s 3ms/step - loss: 0.9177 - accuracy: 0.6788\n",
            "Epoch 25/50\n",
            "1532/1532 [==============================] - 5s 3ms/step - loss: 0.8941 - accuracy: 0.6902\n",
            "Epoch 26/50\n",
            "1532/1532 [==============================] - 5s 3ms/step - loss: 0.8716 - accuracy: 0.6985\n",
            "Epoch 27/50\n",
            "1532/1532 [==============================] - 5s 3ms/step - loss: 0.8467 - accuracy: 0.7079\n",
            "Epoch 28/50\n",
            "1532/1532 [==============================] - 5s 3ms/step - loss: 0.8207 - accuracy: 0.7187\n",
            "Epoch 29/50\n",
            "1532/1532 [==============================] - 5s 3ms/step - loss: 0.7942 - accuracy: 0.7255\n",
            "Epoch 30/50\n",
            "1532/1532 [==============================] - 6s 4ms/step - loss: 0.7732 - accuracy: 0.7351\n",
            "Epoch 31/50\n",
            "1532/1532 [==============================] - 6s 4ms/step - loss: 0.7434 - accuracy: 0.7448\n",
            "Epoch 32/50\n",
            "1532/1532 [==============================] - 5s 3ms/step - loss: 0.7237 - accuracy: 0.7535\n",
            "Epoch 33/50\n",
            "1532/1532 [==============================] - 5s 3ms/step - loss: 0.6983 - accuracy: 0.7622\n",
            "Epoch 34/50\n",
            "1532/1532 [==============================] - 5s 3ms/step - loss: 0.6749 - accuracy: 0.7710\n",
            "Epoch 35/50\n",
            "1532/1532 [==============================] - 5s 3ms/step - loss: 0.6525 - accuracy: 0.7782\n",
            "Epoch 36/50\n",
            "1532/1532 [==============================] - 5s 3ms/step - loss: 0.6265 - accuracy: 0.7872\n",
            "Epoch 37/50\n",
            "1532/1532 [==============================] - 5s 3ms/step - loss: 0.6030 - accuracy: 0.7954\n",
            "Epoch 38/50\n",
            "1532/1532 [==============================] - 5s 3ms/step - loss: 0.5791 - accuracy: 0.8069\n",
            "Epoch 39/50\n",
            "1532/1532 [==============================] - 5s 3ms/step - loss: 0.5554 - accuracy: 0.8139\n",
            "Epoch 40/50\n",
            "1532/1532 [==============================] - 5s 3ms/step - loss: 0.5387 - accuracy: 0.8198\n",
            "Epoch 41/50\n",
            "1532/1532 [==============================] - 5s 3ms/step - loss: 0.5136 - accuracy: 0.8295\n",
            "Epoch 42/50\n",
            "1532/1532 [==============================] - 5s 3ms/step - loss: 0.4920 - accuracy: 0.8382\n",
            "Epoch 43/50\n",
            "1532/1532 [==============================] - 5s 3ms/step - loss: 0.4665 - accuracy: 0.8466\n",
            "Epoch 44/50\n",
            "1532/1532 [==============================] - 5s 3ms/step - loss: 0.4481 - accuracy: 0.8560\n",
            "Epoch 45/50\n",
            "1532/1532 [==============================] - 5s 3ms/step - loss: 0.4317 - accuracy: 0.8594\n",
            "Epoch 46/50\n",
            "1532/1532 [==============================] - 5s 3ms/step - loss: 0.4034 - accuracy: 0.8705\n",
            "Epoch 47/50\n",
            "1532/1532 [==============================] - 5s 3ms/step - loss: 0.3885 - accuracy: 0.8760\n",
            "Epoch 48/50\n",
            "1532/1532 [==============================] - 5s 3ms/step - loss: 0.3709 - accuracy: 0.8830\n",
            "Epoch 49/50\n",
            "1532/1532 [==============================] - 5s 3ms/step - loss: 0.3512 - accuracy: 0.8892\n",
            "Epoch 50/50\n",
            "1532/1532 [==============================] - 5s 3ms/step - loss: 0.3365 - accuracy: 0.8938\n"
          ],
          "name": "stdout"
        },
        {
          "output_type": "execute_result",
          "data": {
            "text/plain": [
              "<tensorflow.python.keras.callbacks.History at 0x7f431e5f7fd0>"
            ]
          },
          "metadata": {
            "tags": []
          },
          "execution_count": 48
        }
      ]
    },
    {
      "cell_type": "code",
      "metadata": {
        "id": "_Zpb7g98wn9J",
        "outputId": "6103acd5-7ccb-4749-e248-ad3432fd505a",
        "colab": {
          "base_uri": "https://localhost:8080/",
          "height": 89
        }
      },
      "source": [
        "model.evaluate(x_test_scaled, y_test_categorical)"
      ],
      "execution_count": 51,
      "outputs": [
        {
          "output_type": "stream",
          "text": [
            "WARNING:tensorflow:Model was constructed with shape (None, 32, 32, 3) for input Tensor(\"flatten_3_input:0\", shape=(None, 32, 32, 3), dtype=float32), but it was called on an input with incompatible shape (None, 3072).\n",
            "313/313 [==============================] - 1s 2ms/step - loss: 2.1144 - accuracy: 0.4957\n"
          ],
          "name": "stdout"
        },
        {
          "output_type": "execute_result",
          "data": {
            "text/plain": [
              "[2.114409923553467, 0.49570000171661377]"
            ]
          },
          "metadata": {
            "tags": []
          },
          "execution_count": 51
        }
      ]
    },
    {
      "cell_type": "code",
      "metadata": {
        "id": "Ff3MYXi4yO3K"
      },
      "source": [
        ""
      ],
      "execution_count": null,
      "outputs": []
    }
  ]
}